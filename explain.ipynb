{
 "cells": [
  {
   "cell_type": "markdown",
   "metadata": {},
   "source": [
    "# Wyjaśnienia modelu"
   ]
  },
  {
   "cell_type": "code",
   "execution_count": 25,
   "metadata": {},
   "outputs": [],
   "source": [
    "import dalex as dx\n",
    "import pickle\n",
    "import os\n",
    "\n",
    "import pandas as pd\n",
    "import numpy as np\n",
    "from scipy import stats\n",
    "\n",
    "from sklearn.pipeline import Pipeline\n",
    "import xgboost as xgb"
   ]
  },
  {
   "cell_type": "code",
   "execution_count": 3,
   "metadata": {},
   "outputs": [],
   "source": [
    "dirpath = 'data'\n",
    "df = pd.concat([pd.read_csv(os.path.join(dirpath, fname))\n",
    "                for fname in os.listdir(dirpath)], ignore_index=True)\n",
    "\n",
    "df['czas'] = df['czas'].str[:19]\n",
    "df['czas'] = pd.to_datetime(df['czas'], format='%Y-%m-%d %H:%M:%S')\n",
    "\n",
    "col_df = pd.read_excel('opis_zmiennych.xlsx')\n",
    "col_df['opis'] = col_df['opis'] + ' ' + col_df['Jednostka']\n",
    "col_df.drop(columns=['Jednostka'], inplace=True)\n",
    "\n",
    "names_dict = col_df.set_index('Tagname').to_dict()['opis']\n",
    "names_dict =  {k.lower(): v for k, v in names_dict.items()}\n",
    "\n",
    "df.rename(columns=names_dict, inplace=True)\n",
    "\n",
    "temp = pd.read_csv('temp_zuz.csv', delimiter=';')\n",
    "temp.rename(columns={'Czas': 'czas'}, inplace=True)\n",
    "temp['czas'] = pd.to_datetime(temp['czas'])\n",
    "\n",
    "merged = pd.merge(df, temp, how='left', on='czas')\n",
    "df = merged.copy()\n",
    "df.set_index(['czas'], inplace=True)\n",
    "df = df[~df.index.duplicated()]\n",
    "df = df.asfreq('T')"
   ]
  },
  {
   "cell_type": "code",
   "execution_count": 4,
   "metadata": {},
   "outputs": [],
   "source": [
    "def last_h(df, n_hours):\n",
    "    temp = df['temp_zuz'].copy()\n",
    "    for n in range(1, n_hours+1):\n",
    "        label = 'temp_last' + '_' + str(n)\n",
    "        df[label] = temp.fillna(method='ffill').shift(periods=1+60*(n-1))"
   ]
  },
  {
   "cell_type": "code",
   "execution_count": 5,
   "metadata": {},
   "outputs": [],
   "source": [
    "last_h(df, 4)\n",
    "\n",
    "cols = list(df.columns)\n",
    "cols.remove('temp_zuz')\n",
    "\n",
    "df = df.dropna(subset=cols)\n",
    "\n",
    "col_names = ['REG NADAWY KONCENTRATU LIW1 Mg/h', 'REG NADAWY KONCENTRATU LIW2 Mg/h',\n",
    "       'REG KONCENTRAT PRAZONY LIW3 Mg/h', 'REG PYL ZWROT LIW4 Mg/h',\n",
    "       'WODA CHŁODZĄCA DO KOLEKTOR KZ7 m3/h',\n",
    "       'WODA CHŁODZĄCA DO KOLEKTOR KZ8 m3/h',\n",
    "       'WODA CHŁODZĄCA DO KOLEKTOR KZ9 m3/h',\n",
    "       'WODA CHŁODZĄCA DO KOLEKTOR KZ10 m3/h',\n",
    "       'WODA CHŁODZĄCA DO KOLEKTOR KZ11 m3/h',\n",
    "       'WODA CHŁODZĄCA DO KOLEKTOR KZ12 m3/h',\n",
    "       'WODA CHŁODZĄCA DO KOLEKTOR KZ13 m3/h',\n",
    "       'WODA CHŁODZĄCA DO KOLEKTOR KZ15 m3/h',\n",
    "       'SUMARYCZNA MOC CIEPLNA ODEBRANA - CAŁKOWITA MW',\n",
    "       'WODA POWROTNA KOLEKTORA KZ7 °C', 'WODA POWROTNA KOLEKTORA KZ8 °C',\n",
    "       'WODA POWROTNA KOLEKTORA KZ9 °C']\n",
    "\n",
    "new_df = df.copy()\n",
    "\n",
    "new_df = pd.concat([new_df, new_df[col_names].rename(columns=lambda col_name: f'{col_name}_avg_00-15').rolling(window=15).mean()], axis=1)\n",
    "new_df = pd.concat([new_df, new_df[col_names].shift(periods=15, freq='min').rename(columns=lambda col_name: f'{col_name}_avg_15-30').rolling(window=15).mean()], axis=1)\n",
    "new_df = pd.concat([new_df, new_df[col_names].shift(periods=30, freq='min').rename(columns=lambda col_name: f'{col_name}_avg_30-45').rolling(window=15).mean()], axis=1)\n",
    "new_df = pd.concat([new_df, new_df[col_names].shift(periods=45, freq='min').rename(columns=lambda col_name: f'{col_name}_avg_45-60').rolling(window=15).mean()], axis=1)\n",
    "    \n",
    "threshold = 0.165\n",
    "\n",
    "correlated_cols = new_df.columns[new_df.corr()['temp_zuz'].abs() > threshold].tolist()\n",
    "corr_df = new_df[correlated_cols].copy()\n",
    "\n",
    "corr_df['temp_zuz'] = corr_df['temp_zuz'].interpolate()\n",
    "df = corr_df.dropna()\n",
    "\n",
    "df = df[(np.abs(stats.zscore(df)) < 3).all(axis=1)]\n",
    "\n",
    "df['minute'] = df.index.minute.values\n",
    "df['minute'] = np.where(df['minute'] == 0, 60, df['minute'])"
   ]
  },
  {
   "cell_type": "code",
   "execution_count": 6,
   "metadata": {},
   "outputs": [],
   "source": [
    "model = pickle.load(open('model.sav', 'rb'))"
   ]
  },
  {
   "cell_type": "code",
   "execution_count": 10,
   "metadata": {},
   "outputs": [
    {
     "name": "stdout",
     "output_type": "stream",
     "text": [
      "Preparation of a new explainer is initiated\n",
      "\n",
      "  -> data              : 639786 rows 67 cols\n",
      "  -> target variable   : Parameter 'y' was a pandas.Series. Converted to a numpy.ndarray.\n",
      "  -> target variable   : 639786 values\n",
      "  -> model_class       : xgboost.sklearn.XGBRegressor (default)\n",
      "  -> label             : Not specified, model's class short name will be used. (default)\n",
      "  -> predict function  : <function yhat_default at 0x000002E1936BB280> will be used (default)\n"
     ]
    },
    {
     "name": "stderr",
     "output_type": "stream",
     "text": [
      "D:\\Programy\\anaconda3\\lib\\site-packages\\sklearn\\base.py:450: UserWarning: X does not have valid feature names, but StandardScaler was fitted with feature names\n",
      "  warnings.warn(\n"
     ]
    },
    {
     "name": "stdout",
     "output_type": "stream",
     "text": [
      "  -> predict function  : Accepts pandas.DataFrame and numpy.ndarray.\n",
      "  -> predicted values  : min = 1.27e+03, mean = 1.3e+03, max = 1.33e+03\n",
      "  -> model type        : regression will be used (default)\n",
      "  -> residual function : difference between y and yhat (default)\n",
      "  -> residuals         : min = -29.8, mean = 0.0346, max = 22.8\n",
      "  -> model_info        : package sklearn\n",
      "\n",
      "A new explainer has been created!\n"
     ]
    }
   ],
   "source": [
    "# we create model explainer object \n",
    "explainer = dx.Explainer(model, df.drop(columns=['temp_zuz']), df['temp_zuz'])"
   ]
  },
  {
   "cell_type": "code",
   "execution_count": 11,
   "metadata": {},
   "outputs": [
    {
     "data": {
      "application/vnd.plotly.v1+json": {
       "config": {
        "displaylogo": false,
        "modeBarButtonsToRemove": [
         "sendDataToCloud",
         "lasso2d",
         "autoScale2d",
         "select2d",
         "zoom2d",
         "pan2d",
         "zoomIn2d",
         "zoomOut2d",
         "resetScale2d",
         "toggleSpikelines",
         "hoverCompareCartesian",
         "hoverClosestCartesian"
        ],
        "plotlyServerURL": "https://plot.ly",
        "staticPlot": false,
        "toImageButtonOptions": {
         "height": null,
         "width": null
        }
       },
       "data": [
        {
         "base": 2.6269945271051887,
         "hoverinfo": "text",
         "hoverlabel": {
          "bgcolor": "rgba(0,0,0,0.8)"
         },
         "hovertext": [
          "Model: XGBRegressor loss after<br>variable: temp_last_1 is permuted: 6.853<br>Drop-out loss change: +4.226",
          "Model: XGBRegressor loss after<br>variable: SUMARYCZNA MOC CIEPLNA ODEBRANA - CAŁKOWITA MW is permuted: 2.991<br>Drop-out loss change: +0.364",
          "Model: XGBRegressor loss after<br>variable: minute is permuted: 2.852<br>Drop-out loss change: +0.225",
          "Model: XGBRegressor loss after<br>variable: SUMARYCZNA MOC CIEPLNA ODEBRANA - CAŁKOWITA MW_avg_45-60 is permuted: 2.765<br>Drop-out loss change: +0.138",
          "Model: XGBRegressor loss after<br>variable: REG NADAWY KONCENTRATU LIW2 Mg/h_avg_00-15 is permuted: 2.703<br>Drop-out loss change: +0.076",
          "Model: XGBRegressor loss after<br>variable: REG NADAWY KONCENTRATU LIW2 Mg/h_avg_15-30 is permuted: 2.686<br>Drop-out loss change: +0.059",
          "Model: XGBRegressor loss after<br>variable: TEMP.9 POD 2 WARSTWĄ WYMURÓWKI °C is permuted: 2.671<br>Drop-out loss change: +0.044",
          "Model: XGBRegressor loss after<br>variable: TEMP.12 POD 2 WARSTWĄ WYMURÓWKI °C is permuted: 2.671<br>Drop-out loss change: +0.044",
          "Model: XGBRegressor loss after<br>variable: temp_last_2 is permuted: 2.67<br>Drop-out loss change: +0.043",
          "Model: XGBRegressor loss after<br>variable: temp_last_3 is permuted: 2.665<br>Drop-out loss change: +0.038"
         ],
         "marker": {
          "color": "#46bac2"
         },
         "orientation": "h",
         "showlegend": false,
         "text": [
          "+4.226",
          "+0.364",
          "+0.225",
          "+0.138",
          "+0.076",
          "+0.059",
          "+0.044",
          "+0.044",
          "+0.043",
          "+0.038"
         ],
         "textposition": "outside",
         "type": "bar",
         "x": [
          4.225923319770387,
          0.36354513295639546,
          0.22476425927183818,
          0.13753301198575096,
          0.07621292305717953,
          0.05906135164461057,
          0.044024641822830723,
          0.04382038014419143,
          0.04252489734684772,
          0.03841414790710029
         ],
         "xaxis": "x",
         "y": [
          "temp_last_1",
          "SUMARYCZNA MOC CIEPLNA ODEBRANA - CAŁKOWITA MW",
          "minute",
          "SUMARYCZNA MOC CIEPLNA ODEBRANA - CAŁKOWITA MW_avg_45-60",
          "REG NADAWY KONCENTRATU LIW2 Mg/h_avg_00-15",
          "REG NADAWY KONCENTRATU LIW2 Mg/h_avg_15-30",
          "TEMP.9 POD 2 WARSTWĄ WYMURÓWKI °C",
          "TEMP.12 POD 2 WARSTWĄ WYMURÓWKI °C",
          "temp_last_2",
          "temp_last_3"
         ],
         "yaxis": "y"
        }
       ],
       "layout": {
        "annotations": [
         {
          "font": {
           "size": 16
          },
          "showarrow": false,
          "text": "XGBRegressor",
          "x": 0.5,
          "xanchor": "center",
          "xref": "paper",
          "y": 1,
          "yanchor": "bottom",
          "yref": "paper"
         },
         {
          "font": {
           "size": 16
          },
          "showarrow": false,
          "text": "drop-out loss",
          "x": 0.5,
          "xanchor": "center",
          "xref": "paper",
          "y": 0,
          "yanchor": "top",
          "yref": "paper",
          "yshift": -30
         }
        ],
        "font": {
         "color": "#371ea3"
        },
        "height": 383,
        "margin": {
         "b": 71,
         "r": 30,
         "t": 78
        },
        "shapes": [
         {
          "line": {
           "color": "#371ea3",
           "dash": "dot",
           "width": 1.5
          },
          "type": "line",
          "x0": 2.6269945271051887,
          "x1": 2.6269945271051887,
          "xref": "x",
          "y0": -1,
          "y1": 10,
          "yref": "y"
         }
        ],
        "template": {
         "data": {
          "scatter": [
           {
            "type": "scatter"
           }
          ]
         }
        },
        "title": {
         "text": "Variable Importance",
         "x": 0.15
        },
        "xaxis": {
         "anchor": "y",
         "automargin": true,
         "domain": [
          0,
          1
         ],
         "fixedrange": true,
         "gridwidth": 2,
         "range": [
          1.9923637589255767,
          7.486903162695141
         ],
         "tickcolor": "white",
         "ticklen": 3,
         "ticks": "outside",
         "type": "linear",
         "zeroline": false
        },
        "yaxis": {
         "anchor": "x",
         "automargin": true,
         "autorange": "reversed",
         "domain": [
          0,
          1
         ],
         "fixedrange": true,
         "gridwidth": 2,
         "tickcolor": "white",
         "ticklen": 10,
         "ticks": "outside",
         "type": "category"
        }
       }
      }
     },
     "metadata": {},
     "output_type": "display_data"
    }
   ],
   "source": [
    "permutatational_variable_importance = explainer.model_parts()\n",
    "permutatational_variable_importance.plot()"
   ]
  },
  {
   "cell_type": "code",
   "execution_count": 21,
   "metadata": {},
   "outputs": [
    {
     "name": "stderr",
     "output_type": "stream",
     "text": [
      "Calculating ceteris paribus: 100%|██████████| 10/10 [00:01<00:00,  5.59it/s]\n"
     ]
    },
    {
     "data": {
      "application/vnd.plotly.v1+json": {
       "config": {
        "displaylogo": false,
        "modeBarButtonsToRemove": [
         "sendDataToCloud",
         "lasso2d",
         "autoScale2d",
         "select2d",
         "zoom2d",
         "pan2d",
         "zoomIn2d",
         "zoomOut2d",
         "resetScale2d",
         "toggleSpikelines",
         "hoverCompareCartesian",
         "hoverClosestCartesian"
        ],
        "plotlyServerURL": "https://plot.ly",
        "staticPlot": false,
        "toImageButtonOptions": {
         "height": null,
         "width": null
        }
       },
       "data": [
        {
         "customdata": [
          [
           1304.0447998046875,
           "XGBRegressor",
           "REG NADAWY KONCENTRATU LIW2 Mg/h"
          ],
          [
           1304.0447998046875,
           "XGBRegressor",
           "REG NADAWY KONCENTRATU LIW2 Mg/h"
          ],
          [
           1304.0447998046875,
           "XGBRegressor",
           "REG NADAWY KONCENTRATU LIW2 Mg/h"
          ],
          [
           1304.0447998046875,
           "XGBRegressor",
           "REG NADAWY KONCENTRATU LIW2 Mg/h"
          ],
          [
           1304.0447998046875,
           "XGBRegressor",
           "REG NADAWY KONCENTRATU LIW2 Mg/h"
          ],
          [
           1304.0447998046875,
           "XGBRegressor",
           "REG NADAWY KONCENTRATU LIW2 Mg/h"
          ],
          [
           1304.0447998046875,
           "XGBRegressor",
           "REG NADAWY KONCENTRATU LIW2 Mg/h"
          ],
          [
           1304.0447998046875,
           "XGBRegressor",
           "REG NADAWY KONCENTRATU LIW2 Mg/h"
          ],
          [
           1304.0447998046875,
           "XGBRegressor",
           "REG NADAWY KONCENTRATU LIW2 Mg/h"
          ],
          [
           1304.0447998046875,
           "XGBRegressor",
           "REG NADAWY KONCENTRATU LIW2 Mg/h"
          ],
          [
           1304.0447998046875,
           "XGBRegressor",
           "REG NADAWY KONCENTRATU LIW2 Mg/h"
          ],
          [
           1304.0447998046875,
           "XGBRegressor",
           "REG NADAWY KONCENTRATU LIW2 Mg/h"
          ],
          [
           1304.0447998046875,
           "XGBRegressor",
           "REG NADAWY KONCENTRATU LIW2 Mg/h"
          ],
          [
           1304.0447998046875,
           "XGBRegressor",
           "REG NADAWY KONCENTRATU LIW2 Mg/h"
          ],
          [
           1304.0447998046875,
           "XGBRegressor",
           "REG NADAWY KONCENTRATU LIW2 Mg/h"
          ],
          [
           1304.0447998046875,
           "XGBRegressor",
           "REG NADAWY KONCENTRATU LIW2 Mg/h"
          ],
          [
           1304.0447998046875,
           "XGBRegressor",
           "REG NADAWY KONCENTRATU LIW2 Mg/h"
          ],
          [
           1304.0447998046875,
           "XGBRegressor",
           "REG NADAWY KONCENTRATU LIW2 Mg/h"
          ],
          [
           1304.0447998046875,
           "XGBRegressor",
           "REG NADAWY KONCENTRATU LIW2 Mg/h"
          ],
          [
           1304.0447998046875,
           "XGBRegressor",
           "REG NADAWY KONCENTRATU LIW2 Mg/h"
          ],
          [
           1304.0447998046875,
           "XGBRegressor",
           "REG NADAWY KONCENTRATU LIW2 Mg/h"
          ],
          [
           1304.0447998046875,
           "XGBRegressor",
           "REG NADAWY KONCENTRATU LIW2 Mg/h"
          ],
          [
           1304.0447998046875,
           "XGBRegressor",
           "REG NADAWY KONCENTRATU LIW2 Mg/h"
          ],
          [
           1304.0447998046875,
           "XGBRegressor",
           "REG NADAWY KONCENTRATU LIW2 Mg/h"
          ],
          [
           1304.0447998046875,
           "XGBRegressor",
           "REG NADAWY KONCENTRATU LIW2 Mg/h"
          ],
          [
           1304.0447998046875,
           "XGBRegressor",
           "REG NADAWY KONCENTRATU LIW2 Mg/h"
          ],
          [
           1304.0447998046875,
           "XGBRegressor",
           "REG NADAWY KONCENTRATU LIW2 Mg/h"
          ],
          [
           1304.0447998046875,
           "XGBRegressor",
           "REG NADAWY KONCENTRATU LIW2 Mg/h"
          ],
          [
           1304.0447998046875,
           "XGBRegressor",
           "REG NADAWY KONCENTRATU LIW2 Mg/h"
          ],
          [
           1304.0447998046875,
           "XGBRegressor",
           "REG NADAWY KONCENTRATU LIW2 Mg/h"
          ],
          [
           1304.0447998046875,
           "XGBRegressor",
           "REG NADAWY KONCENTRATU LIW2 Mg/h"
          ],
          [
           1304.0447998046875,
           "XGBRegressor",
           "REG NADAWY KONCENTRATU LIW2 Mg/h"
          ],
          [
           1304.0447998046875,
           "XGBRegressor",
           "REG NADAWY KONCENTRATU LIW2 Mg/h"
          ],
          [
           1304.0447998046875,
           "XGBRegressor",
           "REG NADAWY KONCENTRATU LIW2 Mg/h"
          ],
          [
           1304.0447998046875,
           "XGBRegressor",
           "REG NADAWY KONCENTRATU LIW2 Mg/h"
          ],
          [
           1304.0447998046875,
           "XGBRegressor",
           "REG NADAWY KONCENTRATU LIW2 Mg/h"
          ],
          [
           1304.0447998046875,
           "XGBRegressor",
           "REG NADAWY KONCENTRATU LIW2 Mg/h"
          ],
          [
           1304.0447998046875,
           "XGBRegressor",
           "REG NADAWY KONCENTRATU LIW2 Mg/h"
          ],
          [
           1304.0447998046875,
           "XGBRegressor",
           "REG NADAWY KONCENTRATU LIW2 Mg/h"
          ],
          [
           1304.0447998046875,
           "XGBRegressor",
           "REG NADAWY KONCENTRATU LIW2 Mg/h"
          ],
          [
           1304.0447998046875,
           "XGBRegressor",
           "REG NADAWY KONCENTRATU LIW2 Mg/h"
          ],
          [
           1304.0447998046875,
           "XGBRegressor",
           "REG NADAWY KONCENTRATU LIW2 Mg/h"
          ],
          [
           1304.0447998046875,
           "XGBRegressor",
           "REG NADAWY KONCENTRATU LIW2 Mg/h"
          ],
          [
           1304.0447998046875,
           "XGBRegressor",
           "REG NADAWY KONCENTRATU LIW2 Mg/h"
          ],
          [
           1304.0447998046875,
           "XGBRegressor",
           "REG NADAWY KONCENTRATU LIW2 Mg/h"
          ],
          [
           1304.0447998046875,
           "XGBRegressor",
           "REG NADAWY KONCENTRATU LIW2 Mg/h"
          ],
          [
           1304.0447998046875,
           "XGBRegressor",
           "REG NADAWY KONCENTRATU LIW2 Mg/h"
          ],
          [
           1304.0447998046875,
           "XGBRegressor",
           "REG NADAWY KONCENTRATU LIW2 Mg/h"
          ],
          [
           1304.0447998046875,
           "XGBRegressor",
           "REG NADAWY KONCENTRATU LIW2 Mg/h"
          ],
          [
           1304.0447998046875,
           "XGBRegressor",
           "REG NADAWY KONCENTRATU LIW2 Mg/h"
          ],
          [
           1304.0447998046875,
           "XGBRegressor",
           "REG NADAWY KONCENTRATU LIW2 Mg/h"
          ],
          [
           1304.0447998046875,
           "XGBRegressor",
           "REG NADAWY KONCENTRATU LIW2 Mg/h"
          ],
          [
           1304.0447998046875,
           "XGBRegressor",
           "REG NADAWY KONCENTRATU LIW2 Mg/h"
          ],
          [
           1304.0447998046875,
           "XGBRegressor",
           "REG NADAWY KONCENTRATU LIW2 Mg/h"
          ],
          [
           1304.0447998046875,
           "XGBRegressor",
           "REG NADAWY KONCENTRATU LIW2 Mg/h"
          ],
          [
           1304.0447998046875,
           "XGBRegressor",
           "REG NADAWY KONCENTRATU LIW2 Mg/h"
          ],
          [
           1304.0447998046875,
           "XGBRegressor",
           "REG NADAWY KONCENTRATU LIW2 Mg/h"
          ],
          [
           1304.0447998046875,
           "XGBRegressor",
           "REG NADAWY KONCENTRATU LIW2 Mg/h"
          ],
          [
           1304.0447998046875,
           "XGBRegressor",
           "REG NADAWY KONCENTRATU LIW2 Mg/h"
          ],
          [
           1304.0447998046875,
           "XGBRegressor",
           "REG NADAWY KONCENTRATU LIW2 Mg/h"
          ],
          [
           1304.0447998046875,
           "XGBRegressor",
           "REG NADAWY KONCENTRATU LIW2 Mg/h"
          ],
          [
           1304.0447998046875,
           "XGBRegressor",
           "REG NADAWY KONCENTRATU LIW2 Mg/h"
          ],
          [
           1304.0447998046875,
           "XGBRegressor",
           "REG NADAWY KONCENTRATU LIW2 Mg/h"
          ],
          [
           1304.0447998046875,
           "XGBRegressor",
           "REG NADAWY KONCENTRATU LIW2 Mg/h"
          ],
          [
           1304.0447998046875,
           "XGBRegressor",
           "REG NADAWY KONCENTRATU LIW2 Mg/h"
          ],
          [
           1304.0447998046875,
           "XGBRegressor",
           "REG NADAWY KONCENTRATU LIW2 Mg/h"
          ],
          [
           1304.0447998046875,
           "XGBRegressor",
           "REG NADAWY KONCENTRATU LIW2 Mg/h"
          ],
          [
           1304.0447998046875,
           "XGBRegressor",
           "REG NADAWY KONCENTRATU LIW2 Mg/h"
          ],
          [
           1304.0447998046875,
           "XGBRegressor",
           "REG NADAWY KONCENTRATU LIW2 Mg/h"
          ],
          [
           1304.0447998046875,
           "XGBRegressor",
           "REG NADAWY KONCENTRATU LIW2 Mg/h"
          ],
          [
           1304.0447998046875,
           "XGBRegressor",
           "REG NADAWY KONCENTRATU LIW2 Mg/h"
          ],
          [
           1304.0447998046875,
           "XGBRegressor",
           "REG NADAWY KONCENTRATU LIW2 Mg/h"
          ],
          [
           1304.0447998046875,
           "XGBRegressor",
           "REG NADAWY KONCENTRATU LIW2 Mg/h"
          ],
          [
           1304.0447998046875,
           "XGBRegressor",
           "REG NADAWY KONCENTRATU LIW2 Mg/h"
          ],
          [
           1304.0447998046875,
           "XGBRegressor",
           "REG NADAWY KONCENTRATU LIW2 Mg/h"
          ],
          [
           1304.0447998046875,
           "XGBRegressor",
           "REG NADAWY KONCENTRATU LIW2 Mg/h"
          ],
          [
           1304.0447998046875,
           "XGBRegressor",
           "REG NADAWY KONCENTRATU LIW2 Mg/h"
          ],
          [
           1304.0447998046875,
           "XGBRegressor",
           "REG NADAWY KONCENTRATU LIW2 Mg/h"
          ],
          [
           1304.0447998046875,
           "XGBRegressor",
           "REG NADAWY KONCENTRATU LIW2 Mg/h"
          ],
          [
           1304.0447998046875,
           "XGBRegressor",
           "REG NADAWY KONCENTRATU LIW2 Mg/h"
          ],
          [
           1304.0447998046875,
           "XGBRegressor",
           "REG NADAWY KONCENTRATU LIW2 Mg/h"
          ],
          [
           1304.0447998046875,
           "XGBRegressor",
           "REG NADAWY KONCENTRATU LIW2 Mg/h"
          ],
          [
           1304.0447998046875,
           "XGBRegressor",
           "REG NADAWY KONCENTRATU LIW2 Mg/h"
          ],
          [
           1304.0447998046875,
           "XGBRegressor",
           "REG NADAWY KONCENTRATU LIW2 Mg/h"
          ],
          [
           1304.0447998046875,
           "XGBRegressor",
           "REG NADAWY KONCENTRATU LIW2 Mg/h"
          ],
          [
           1304.0447998046875,
           "XGBRegressor",
           "REG NADAWY KONCENTRATU LIW2 Mg/h"
          ],
          [
           1304.0447998046875,
           "XGBRegressor",
           "REG NADAWY KONCENTRATU LIW2 Mg/h"
          ],
          [
           1304.0447998046875,
           "XGBRegressor",
           "REG NADAWY KONCENTRATU LIW2 Mg/h"
          ],
          [
           1304.0447998046875,
           "XGBRegressor",
           "REG NADAWY KONCENTRATU LIW2 Mg/h"
          ],
          [
           1304.0447998046875,
           "XGBRegressor",
           "REG NADAWY KONCENTRATU LIW2 Mg/h"
          ],
          [
           1304.0447998046875,
           "XGBRegressor",
           "REG NADAWY KONCENTRATU LIW2 Mg/h"
          ],
          [
           1304.0447998046875,
           "XGBRegressor",
           "REG NADAWY KONCENTRATU LIW2 Mg/h"
          ],
          [
           1304.0447998046875,
           "XGBRegressor",
           "REG NADAWY KONCENTRATU LIW2 Mg/h"
          ],
          [
           1304.0447998046875,
           "XGBRegressor",
           "REG NADAWY KONCENTRATU LIW2 Mg/h"
          ],
          [
           1304.0447998046875,
           "XGBRegressor",
           "REG NADAWY KONCENTRATU LIW2 Mg/h"
          ],
          [
           1304.0447998046875,
           "XGBRegressor",
           "REG NADAWY KONCENTRATU LIW2 Mg/h"
          ],
          [
           1304.0447998046875,
           "XGBRegressor",
           "REG NADAWY KONCENTRATU LIW2 Mg/h"
          ],
          [
           1304.0447998046875,
           "XGBRegressor",
           "REG NADAWY KONCENTRATU LIW2 Mg/h"
          ],
          [
           1304.0447998046875,
           "XGBRegressor",
           "REG NADAWY KONCENTRATU LIW2 Mg/h"
          ],
          [
           1304.0447998046875,
           "XGBRegressor",
           "REG NADAWY KONCENTRATU LIW2 Mg/h"
          ],
          [
           1304.0447998046875,
           "XGBRegressor",
           "REG NADAWY KONCENTRATU LIW2 Mg/h"
          ]
         ],
         "hovertemplate": "<b>%{hovertext}</b><br><br>prediction=%{y:.3f}<br>mean_prediction=%{customdata[0]:.3f}<extra></extra>",
         "hovertext": [
          "XGBRegressor",
          "XGBRegressor",
          "XGBRegressor",
          "XGBRegressor",
          "XGBRegressor",
          "XGBRegressor",
          "XGBRegressor",
          "XGBRegressor",
          "XGBRegressor",
          "XGBRegressor",
          "XGBRegressor",
          "XGBRegressor",
          "XGBRegressor",
          "XGBRegressor",
          "XGBRegressor",
          "XGBRegressor",
          "XGBRegressor",
          "XGBRegressor",
          "XGBRegressor",
          "XGBRegressor",
          "XGBRegressor",
          "XGBRegressor",
          "XGBRegressor",
          "XGBRegressor",
          "XGBRegressor",
          "XGBRegressor",
          "XGBRegressor",
          "XGBRegressor",
          "XGBRegressor",
          "XGBRegressor",
          "XGBRegressor",
          "XGBRegressor",
          "XGBRegressor",
          "XGBRegressor",
          "XGBRegressor",
          "XGBRegressor",
          "XGBRegressor",
          "XGBRegressor",
          "XGBRegressor",
          "XGBRegressor",
          "XGBRegressor",
          "XGBRegressor",
          "XGBRegressor",
          "XGBRegressor",
          "XGBRegressor",
          "XGBRegressor",
          "XGBRegressor",
          "XGBRegressor",
          "XGBRegressor",
          "XGBRegressor",
          "XGBRegressor",
          "XGBRegressor",
          "XGBRegressor",
          "XGBRegressor",
          "XGBRegressor",
          "XGBRegressor",
          "XGBRegressor",
          "XGBRegressor",
          "XGBRegressor",
          "XGBRegressor",
          "XGBRegressor",
          "XGBRegressor",
          "XGBRegressor",
          "XGBRegressor",
          "XGBRegressor",
          "XGBRegressor",
          "XGBRegressor",
          "XGBRegressor",
          "XGBRegressor",
          "XGBRegressor",
          "XGBRegressor",
          "XGBRegressor",
          "XGBRegressor",
          "XGBRegressor",
          "XGBRegressor",
          "XGBRegressor",
          "XGBRegressor",
          "XGBRegressor",
          "XGBRegressor",
          "XGBRegressor",
          "XGBRegressor",
          "XGBRegressor",
          "XGBRegressor",
          "XGBRegressor",
          "XGBRegressor",
          "XGBRegressor",
          "XGBRegressor",
          "XGBRegressor",
          "XGBRegressor",
          "XGBRegressor",
          "XGBRegressor",
          "XGBRegressor",
          "XGBRegressor",
          "XGBRegressor",
          "XGBRegressor",
          "XGBRegressor",
          "XGBRegressor",
          "XGBRegressor",
          "XGBRegressor",
          "XGBRegressor",
          "XGBRegressor"
         ],
         "legendgroup": "XGBRegressor",
         "line": {
          "color": "#46bac2",
          "dash": "solid",
          "width": 2
         },
         "marker": {
          "symbol": "circle"
         },
         "mode": "lines",
         "name": "XGBRegressor",
         "opacity": 1,
         "orientation": "v",
         "showlegend": true,
         "type": "scatter",
         "x": [
          10.410432275136312,
          11.110558094342549,
          11.810683913548788,
          12.510809732755025,
          13.210935551961263,
          13.9110613711675,
          14.611187190373737,
          15.311313009579976,
          16.011438828786215,
          16.711564647992454,
          17.41169046719869,
          18.111816286404927,
          18.811942105611166,
          19.5120679248174,
          20.21219374402364,
          20.91231956322988,
          21.612445382436114,
          22.312571201642353,
          23.01269702084859,
          23.712822840054827,
          24.41294865926107,
          25.113074478467304,
          25.813200297673543,
          26.51332611687978,
          27.213451936086017,
          27.913577755292255,
          28.613703574498494,
          29.31382939370473,
          30.013955212910968,
          30.714081032117207,
          31.414206851323446,
          32.11433267052968,
          32.81445848973592,
          33.51458430894216,
          34.2147101281484,
          34.91483594735463,
          35.61496176656087,
          36.31508758576711,
          37.015213404973345,
          37.71533922417959,
          38.41546504338582,
          39.11559086259206,
          39.81571668179829,
          40.515842501004535,
          41.21596832021078,
          41.91609413941701,
          42.61621995862325,
          43.31634577782948,
          44.01647159703572,
          44.71659741624197,
          45.4167232354482,
          46.11684905465444,
          46.81697487386067,
          47.51710069306691,
          48.21722651227314,
          48.91735233147939,
          49.61747815068563,
          50.31760396989186,
          51.0177297890981,
          51.71785560830433,
          52.41798142751058,
          53.11810724671682,
          53.81823306592305,
          54.51835888512929,
          55.21848470433552,
          55.91861052354176,
          56.61873634274801,
          57.31886216195424,
          58.01898798116048,
          58.71911380036671,
          59.41923961957295,
          60.1193654387792,
          60.81949125798543,
          61.51961707719167,
          62.219742896397904,
          62.91986871560414,
          63.619994534810374,
          64.32012035401662,
          65.02024617322286,
          65.7203719924291,
          66.42049781163533,
          67.12062363084156,
          67.8207494500478,
          68.52087526925405,
          69.22100108846028,
          69.92112690766652,
          70.62125272687275,
          71.32137854607899,
          72.02150436528524,
          72.72163018449147,
          73.42175600369771,
          74.12188182290394,
          74.8220076421102,
          75.52213346131643,
          76.22225928052266,
          76.9223850997289,
          77.62251091893513,
          78.32263673814137,
          79.02276255734762,
          79.72288837655385,
          80.42301419576009
         ],
         "xaxis": "x9",
         "y": [
          1303.7764892578125,
          1303.7764892578125,
          1303.7764892578125,
          1303.7764892578125,
          1303.7764892578125,
          1303.7764892578125,
          1303.7764892578125,
          1303.7764892578125,
          1303.7764892578125,
          1303.7764892578125,
          1303.7764892578125,
          1303.7764892578125,
          1303.7764892578125,
          1303.7764892578125,
          1303.7764892578125,
          1303.7764892578125,
          1303.7764892578125,
          1303.7764892578125,
          1303.7764892578125,
          1303.7764892578125,
          1303.7764892578125,
          1303.7764892578125,
          1303.7764892578125,
          1303.7764892578125,
          1303.7764892578125,
          1303.7764892578125,
          1303.7764892578125,
          1303.7764892578125,
          1303.7764892578125,
          1303.7764892578125,
          1303.7764892578125,
          1303.7764892578125,
          1303.7764892578125,
          1303.7764892578125,
          1303.7764892578125,
          1303.7764892578125,
          1303.7764892578125,
          1303.7764892578125,
          1303.28857421875,
          1303.5106201171875,
          1303.5106201171875,
          1303.5106201171875,
          1303.5106201171875,
          1303.455322265625,
          1303.455322265625,
          1303.4326171875,
          1303.526123046875,
          1303.526123046875,
          1303.5174560546875,
          1303.5174560546875,
          1303.58447265625,
          1303.7994384765625,
          1303.7994384765625,
          1303.7994384765625,
          1303.7994384765625,
          1303.7994384765625,
          1303.7994384765625,
          1303.9554443359375,
          1304.0133056640625,
          1304.010009765625,
          1304.038818359375,
          1304.0550537109375,
          1304.0550537109375,
          1304.05419921875,
          1304.05419921875,
          1304.089599609375,
          1304.091796875,
          1304.091796875,
          1304.0853271484375,
          1304.0908203125,
          1304.0908203125,
          1304.0908203125,
          1304.0908203125,
          1304.0908203125,
          1304.063720703125,
          1304.063720703125,
          1304.063720703125,
          1304.063720703125,
          1304.063720703125,
          1304.063720703125,
          1304.063720703125,
          1304.063720703125,
          1304.063720703125,
          1304.063720703125,
          1304.0587158203125,
          1304.0587158203125,
          1304.0587158203125,
          1304.0587158203125,
          1304.0587158203125,
          1304.0587158203125,
          1304.0587158203125,
          1304.0587158203125,
          1304.0587158203125,
          1304.0587158203125,
          1304.0587158203125,
          1304.0587158203125,
          1304.0587158203125,
          1304.0587158203125,
          1304.0587158203125,
          1304.0587158203125,
          1304.0587158203125
         ],
         "yaxis": "y9"
        },
        {
         "customdata": [
          [
           1304.0447998046875,
           "XGBRegressor",
           "REG NADAWY KONCENTRATU LIW1 Mg/h_avg_15-30"
          ],
          [
           1304.0447998046875,
           "XGBRegressor",
           "REG NADAWY KONCENTRATU LIW1 Mg/h_avg_15-30"
          ],
          [
           1304.0447998046875,
           "XGBRegressor",
           "REG NADAWY KONCENTRATU LIW1 Mg/h_avg_15-30"
          ],
          [
           1304.0447998046875,
           "XGBRegressor",
           "REG NADAWY KONCENTRATU LIW1 Mg/h_avg_15-30"
          ],
          [
           1304.0447998046875,
           "XGBRegressor",
           "REG NADAWY KONCENTRATU LIW1 Mg/h_avg_15-30"
          ],
          [
           1304.0447998046875,
           "XGBRegressor",
           "REG NADAWY KONCENTRATU LIW1 Mg/h_avg_15-30"
          ],
          [
           1304.0447998046875,
           "XGBRegressor",
           "REG NADAWY KONCENTRATU LIW1 Mg/h_avg_15-30"
          ],
          [
           1304.0447998046875,
           "XGBRegressor",
           "REG NADAWY KONCENTRATU LIW1 Mg/h_avg_15-30"
          ],
          [
           1304.0447998046875,
           "XGBRegressor",
           "REG NADAWY KONCENTRATU LIW1 Mg/h_avg_15-30"
          ],
          [
           1304.0447998046875,
           "XGBRegressor",
           "REG NADAWY KONCENTRATU LIW1 Mg/h_avg_15-30"
          ],
          [
           1304.0447998046875,
           "XGBRegressor",
           "REG NADAWY KONCENTRATU LIW1 Mg/h_avg_15-30"
          ],
          [
           1304.0447998046875,
           "XGBRegressor",
           "REG NADAWY KONCENTRATU LIW1 Mg/h_avg_15-30"
          ],
          [
           1304.0447998046875,
           "XGBRegressor",
           "REG NADAWY KONCENTRATU LIW1 Mg/h_avg_15-30"
          ],
          [
           1304.0447998046875,
           "XGBRegressor",
           "REG NADAWY KONCENTRATU LIW1 Mg/h_avg_15-30"
          ],
          [
           1304.0447998046875,
           "XGBRegressor",
           "REG NADAWY KONCENTRATU LIW1 Mg/h_avg_15-30"
          ],
          [
           1304.0447998046875,
           "XGBRegressor",
           "REG NADAWY KONCENTRATU LIW1 Mg/h_avg_15-30"
          ],
          [
           1304.0447998046875,
           "XGBRegressor",
           "REG NADAWY KONCENTRATU LIW1 Mg/h_avg_15-30"
          ],
          [
           1304.0447998046875,
           "XGBRegressor",
           "REG NADAWY KONCENTRATU LIW1 Mg/h_avg_15-30"
          ],
          [
           1304.0447998046875,
           "XGBRegressor",
           "REG NADAWY KONCENTRATU LIW1 Mg/h_avg_15-30"
          ],
          [
           1304.0447998046875,
           "XGBRegressor",
           "REG NADAWY KONCENTRATU LIW1 Mg/h_avg_15-30"
          ],
          [
           1304.0447998046875,
           "XGBRegressor",
           "REG NADAWY KONCENTRATU LIW1 Mg/h_avg_15-30"
          ],
          [
           1304.0447998046875,
           "XGBRegressor",
           "REG NADAWY KONCENTRATU LIW1 Mg/h_avg_15-30"
          ],
          [
           1304.0447998046875,
           "XGBRegressor",
           "REG NADAWY KONCENTRATU LIW1 Mg/h_avg_15-30"
          ],
          [
           1304.0447998046875,
           "XGBRegressor",
           "REG NADAWY KONCENTRATU LIW1 Mg/h_avg_15-30"
          ],
          [
           1304.0447998046875,
           "XGBRegressor",
           "REG NADAWY KONCENTRATU LIW1 Mg/h_avg_15-30"
          ],
          [
           1304.0447998046875,
           "XGBRegressor",
           "REG NADAWY KONCENTRATU LIW1 Mg/h_avg_15-30"
          ],
          [
           1304.0447998046875,
           "XGBRegressor",
           "REG NADAWY KONCENTRATU LIW1 Mg/h_avg_15-30"
          ],
          [
           1304.0447998046875,
           "XGBRegressor",
           "REG NADAWY KONCENTRATU LIW1 Mg/h_avg_15-30"
          ],
          [
           1304.0447998046875,
           "XGBRegressor",
           "REG NADAWY KONCENTRATU LIW1 Mg/h_avg_15-30"
          ],
          [
           1304.0447998046875,
           "XGBRegressor",
           "REG NADAWY KONCENTRATU LIW1 Mg/h_avg_15-30"
          ],
          [
           1304.0447998046875,
           "XGBRegressor",
           "REG NADAWY KONCENTRATU LIW1 Mg/h_avg_15-30"
          ],
          [
           1304.0447998046875,
           "XGBRegressor",
           "REG NADAWY KONCENTRATU LIW1 Mg/h_avg_15-30"
          ],
          [
           1304.0447998046875,
           "XGBRegressor",
           "REG NADAWY KONCENTRATU LIW1 Mg/h_avg_15-30"
          ],
          [
           1304.0447998046875,
           "XGBRegressor",
           "REG NADAWY KONCENTRATU LIW1 Mg/h_avg_15-30"
          ],
          [
           1304.0447998046875,
           "XGBRegressor",
           "REG NADAWY KONCENTRATU LIW1 Mg/h_avg_15-30"
          ],
          [
           1304.0447998046875,
           "XGBRegressor",
           "REG NADAWY KONCENTRATU LIW1 Mg/h_avg_15-30"
          ],
          [
           1304.0447998046875,
           "XGBRegressor",
           "REG NADAWY KONCENTRATU LIW1 Mg/h_avg_15-30"
          ],
          [
           1304.0447998046875,
           "XGBRegressor",
           "REG NADAWY KONCENTRATU LIW1 Mg/h_avg_15-30"
          ],
          [
           1304.0447998046875,
           "XGBRegressor",
           "REG NADAWY KONCENTRATU LIW1 Mg/h_avg_15-30"
          ],
          [
           1304.0447998046875,
           "XGBRegressor",
           "REG NADAWY KONCENTRATU LIW1 Mg/h_avg_15-30"
          ],
          [
           1304.0447998046875,
           "XGBRegressor",
           "REG NADAWY KONCENTRATU LIW1 Mg/h_avg_15-30"
          ],
          [
           1304.0447998046875,
           "XGBRegressor",
           "REG NADAWY KONCENTRATU LIW1 Mg/h_avg_15-30"
          ],
          [
           1304.0447998046875,
           "XGBRegressor",
           "REG NADAWY KONCENTRATU LIW1 Mg/h_avg_15-30"
          ],
          [
           1304.0447998046875,
           "XGBRegressor",
           "REG NADAWY KONCENTRATU LIW1 Mg/h_avg_15-30"
          ],
          [
           1304.0447998046875,
           "XGBRegressor",
           "REG NADAWY KONCENTRATU LIW1 Mg/h_avg_15-30"
          ],
          [
           1304.0447998046875,
           "XGBRegressor",
           "REG NADAWY KONCENTRATU LIW1 Mg/h_avg_15-30"
          ],
          [
           1304.0447998046875,
           "XGBRegressor",
           "REG NADAWY KONCENTRATU LIW1 Mg/h_avg_15-30"
          ],
          [
           1304.0447998046875,
           "XGBRegressor",
           "REG NADAWY KONCENTRATU LIW1 Mg/h_avg_15-30"
          ],
          [
           1304.0447998046875,
           "XGBRegressor",
           "REG NADAWY KONCENTRATU LIW1 Mg/h_avg_15-30"
          ],
          [
           1304.0447998046875,
           "XGBRegressor",
           "REG NADAWY KONCENTRATU LIW1 Mg/h_avg_15-30"
          ],
          [
           1304.0447998046875,
           "XGBRegressor",
           "REG NADAWY KONCENTRATU LIW1 Mg/h_avg_15-30"
          ],
          [
           1304.0447998046875,
           "XGBRegressor",
           "REG NADAWY KONCENTRATU LIW1 Mg/h_avg_15-30"
          ],
          [
           1304.0447998046875,
           "XGBRegressor",
           "REG NADAWY KONCENTRATU LIW1 Mg/h_avg_15-30"
          ],
          [
           1304.0447998046875,
           "XGBRegressor",
           "REG NADAWY KONCENTRATU LIW1 Mg/h_avg_15-30"
          ],
          [
           1304.0447998046875,
           "XGBRegressor",
           "REG NADAWY KONCENTRATU LIW1 Mg/h_avg_15-30"
          ],
          [
           1304.0447998046875,
           "XGBRegressor",
           "REG NADAWY KONCENTRATU LIW1 Mg/h_avg_15-30"
          ],
          [
           1304.0447998046875,
           "XGBRegressor",
           "REG NADAWY KONCENTRATU LIW1 Mg/h_avg_15-30"
          ],
          [
           1304.0447998046875,
           "XGBRegressor",
           "REG NADAWY KONCENTRATU LIW1 Mg/h_avg_15-30"
          ],
          [
           1304.0447998046875,
           "XGBRegressor",
           "REG NADAWY KONCENTRATU LIW1 Mg/h_avg_15-30"
          ],
          [
           1304.0447998046875,
           "XGBRegressor",
           "REG NADAWY KONCENTRATU LIW1 Mg/h_avg_15-30"
          ],
          [
           1304.0447998046875,
           "XGBRegressor",
           "REG NADAWY KONCENTRATU LIW1 Mg/h_avg_15-30"
          ],
          [
           1304.0447998046875,
           "XGBRegressor",
           "REG NADAWY KONCENTRATU LIW1 Mg/h_avg_15-30"
          ],
          [
           1304.0447998046875,
           "XGBRegressor",
           "REG NADAWY KONCENTRATU LIW1 Mg/h_avg_15-30"
          ],
          [
           1304.0447998046875,
           "XGBRegressor",
           "REG NADAWY KONCENTRATU LIW1 Mg/h_avg_15-30"
          ],
          [
           1304.0447998046875,
           "XGBRegressor",
           "REG NADAWY KONCENTRATU LIW1 Mg/h_avg_15-30"
          ],
          [
           1304.0447998046875,
           "XGBRegressor",
           "REG NADAWY KONCENTRATU LIW1 Mg/h_avg_15-30"
          ],
          [
           1304.0447998046875,
           "XGBRegressor",
           "REG NADAWY KONCENTRATU LIW1 Mg/h_avg_15-30"
          ],
          [
           1304.0447998046875,
           "XGBRegressor",
           "REG NADAWY KONCENTRATU LIW1 Mg/h_avg_15-30"
          ],
          [
           1304.0447998046875,
           "XGBRegressor",
           "REG NADAWY KONCENTRATU LIW1 Mg/h_avg_15-30"
          ],
          [
           1304.0447998046875,
           "XGBRegressor",
           "REG NADAWY KONCENTRATU LIW1 Mg/h_avg_15-30"
          ],
          [
           1304.0447998046875,
           "XGBRegressor",
           "REG NADAWY KONCENTRATU LIW1 Mg/h_avg_15-30"
          ],
          [
           1304.0447998046875,
           "XGBRegressor",
           "REG NADAWY KONCENTRATU LIW1 Mg/h_avg_15-30"
          ],
          [
           1304.0447998046875,
           "XGBRegressor",
           "REG NADAWY KONCENTRATU LIW1 Mg/h_avg_15-30"
          ],
          [
           1304.0447998046875,
           "XGBRegressor",
           "REG NADAWY KONCENTRATU LIW1 Mg/h_avg_15-30"
          ],
          [
           1304.0447998046875,
           "XGBRegressor",
           "REG NADAWY KONCENTRATU LIW1 Mg/h_avg_15-30"
          ],
          [
           1304.0447998046875,
           "XGBRegressor",
           "REG NADAWY KONCENTRATU LIW1 Mg/h_avg_15-30"
          ],
          [
           1304.0447998046875,
           "XGBRegressor",
           "REG NADAWY KONCENTRATU LIW1 Mg/h_avg_15-30"
          ],
          [
           1304.0447998046875,
           "XGBRegressor",
           "REG NADAWY KONCENTRATU LIW1 Mg/h_avg_15-30"
          ],
          [
           1304.0447998046875,
           "XGBRegressor",
           "REG NADAWY KONCENTRATU LIW1 Mg/h_avg_15-30"
          ],
          [
           1304.0447998046875,
           "XGBRegressor",
           "REG NADAWY KONCENTRATU LIW1 Mg/h_avg_15-30"
          ],
          [
           1304.0447998046875,
           "XGBRegressor",
           "REG NADAWY KONCENTRATU LIW1 Mg/h_avg_15-30"
          ],
          [
           1304.0447998046875,
           "XGBRegressor",
           "REG NADAWY KONCENTRATU LIW1 Mg/h_avg_15-30"
          ],
          [
           1304.0447998046875,
           "XGBRegressor",
           "REG NADAWY KONCENTRATU LIW1 Mg/h_avg_15-30"
          ],
          [
           1304.0447998046875,
           "XGBRegressor",
           "REG NADAWY KONCENTRATU LIW1 Mg/h_avg_15-30"
          ],
          [
           1304.0447998046875,
           "XGBRegressor",
           "REG NADAWY KONCENTRATU LIW1 Mg/h_avg_15-30"
          ],
          [
           1304.0447998046875,
           "XGBRegressor",
           "REG NADAWY KONCENTRATU LIW1 Mg/h_avg_15-30"
          ],
          [
           1304.0447998046875,
           "XGBRegressor",
           "REG NADAWY KONCENTRATU LIW1 Mg/h_avg_15-30"
          ],
          [
           1304.0447998046875,
           "XGBRegressor",
           "REG NADAWY KONCENTRATU LIW1 Mg/h_avg_15-30"
          ],
          [
           1304.0447998046875,
           "XGBRegressor",
           "REG NADAWY KONCENTRATU LIW1 Mg/h_avg_15-30"
          ],
          [
           1304.0447998046875,
           "XGBRegressor",
           "REG NADAWY KONCENTRATU LIW1 Mg/h_avg_15-30"
          ],
          [
           1304.0447998046875,
           "XGBRegressor",
           "REG NADAWY KONCENTRATU LIW1 Mg/h_avg_15-30"
          ],
          [
           1304.0447998046875,
           "XGBRegressor",
           "REG NADAWY KONCENTRATU LIW1 Mg/h_avg_15-30"
          ],
          [
           1304.0447998046875,
           "XGBRegressor",
           "REG NADAWY KONCENTRATU LIW1 Mg/h_avg_15-30"
          ],
          [
           1304.0447998046875,
           "XGBRegressor",
           "REG NADAWY KONCENTRATU LIW1 Mg/h_avg_15-30"
          ],
          [
           1304.0447998046875,
           "XGBRegressor",
           "REG NADAWY KONCENTRATU LIW1 Mg/h_avg_15-30"
          ],
          [
           1304.0447998046875,
           "XGBRegressor",
           "REG NADAWY KONCENTRATU LIW1 Mg/h_avg_15-30"
          ],
          [
           1304.0447998046875,
           "XGBRegressor",
           "REG NADAWY KONCENTRATU LIW1 Mg/h_avg_15-30"
          ],
          [
           1304.0447998046875,
           "XGBRegressor",
           "REG NADAWY KONCENTRATU LIW1 Mg/h_avg_15-30"
          ],
          [
           1304.0447998046875,
           "XGBRegressor",
           "REG NADAWY KONCENTRATU LIW1 Mg/h_avg_15-30"
          ],
          [
           1304.0447998046875,
           "XGBRegressor",
           "REG NADAWY KONCENTRATU LIW1 Mg/h_avg_15-30"
          ],
          [
           1304.0447998046875,
           "XGBRegressor",
           "REG NADAWY KONCENTRATU LIW1 Mg/h_avg_15-30"
          ]
         ],
         "hovertemplate": "<b>%{hovertext}</b><br><br>prediction=%{y:.3f}<br>mean_prediction=%{customdata[0]:.3f}<extra></extra>",
         "hovertext": [
          "XGBRegressor",
          "XGBRegressor",
          "XGBRegressor",
          "XGBRegressor",
          "XGBRegressor",
          "XGBRegressor",
          "XGBRegressor",
          "XGBRegressor",
          "XGBRegressor",
          "XGBRegressor",
          "XGBRegressor",
          "XGBRegressor",
          "XGBRegressor",
          "XGBRegressor",
          "XGBRegressor",
          "XGBRegressor",
          "XGBRegressor",
          "XGBRegressor",
          "XGBRegressor",
          "XGBRegressor",
          "XGBRegressor",
          "XGBRegressor",
          "XGBRegressor",
          "XGBRegressor",
          "XGBRegressor",
          "XGBRegressor",
          "XGBRegressor",
          "XGBRegressor",
          "XGBRegressor",
          "XGBRegressor",
          "XGBRegressor",
          "XGBRegressor",
          "XGBRegressor",
          "XGBRegressor",
          "XGBRegressor",
          "XGBRegressor",
          "XGBRegressor",
          "XGBRegressor",
          "XGBRegressor",
          "XGBRegressor",
          "XGBRegressor",
          "XGBRegressor",
          "XGBRegressor",
          "XGBRegressor",
          "XGBRegressor",
          "XGBRegressor",
          "XGBRegressor",
          "XGBRegressor",
          "XGBRegressor",
          "XGBRegressor",
          "XGBRegressor",
          "XGBRegressor",
          "XGBRegressor",
          "XGBRegressor",
          "XGBRegressor",
          "XGBRegressor",
          "XGBRegressor",
          "XGBRegressor",
          "XGBRegressor",
          "XGBRegressor",
          "XGBRegressor",
          "XGBRegressor",
          "XGBRegressor",
          "XGBRegressor",
          "XGBRegressor",
          "XGBRegressor",
          "XGBRegressor",
          "XGBRegressor",
          "XGBRegressor",
          "XGBRegressor",
          "XGBRegressor",
          "XGBRegressor",
          "XGBRegressor",
          "XGBRegressor",
          "XGBRegressor",
          "XGBRegressor",
          "XGBRegressor",
          "XGBRegressor",
          "XGBRegressor",
          "XGBRegressor",
          "XGBRegressor",
          "XGBRegressor",
          "XGBRegressor",
          "XGBRegressor",
          "XGBRegressor",
          "XGBRegressor",
          "XGBRegressor",
          "XGBRegressor",
          "XGBRegressor",
          "XGBRegressor",
          "XGBRegressor",
          "XGBRegressor",
          "XGBRegressor",
          "XGBRegressor",
          "XGBRegressor",
          "XGBRegressor",
          "XGBRegressor",
          "XGBRegressor",
          "XGBRegressor",
          "XGBRegressor",
          "XGBRegressor"
         ],
         "legendgroup": "XGBRegressor",
         "line": {
          "color": "#46bac2",
          "dash": "solid",
          "width": 2
         },
         "marker": {
          "symbol": "circle"
         },
         "mode": "lines",
         "name": "XGBRegressor",
         "opacity": 1,
         "orientation": "v",
         "showlegend": false,
         "type": "scatter",
         "x": [
          10.978518939548069,
          11.509406424543593,
          12.040293909539116,
          12.57118139453464,
          13.102068879530165,
          13.63295636452569,
          14.163843849521214,
          14.694731334516737,
          15.225618819512261,
          15.756506304507786,
          16.28739378950331,
          16.818281274498833,
          17.349168759494358,
          17.880056244489882,
          18.410943729485407,
          18.941831214480928,
          19.472718699476452,
          20.003606184471977,
          20.5344936694675,
          21.065381154463026,
          21.59626863945855,
          22.127156124454075,
          22.6580436094496,
          23.188931094445124,
          23.71981857944065,
          24.250706064436173,
          24.781593549431697,
          25.31248103442722,
          25.843368519422743,
          26.374256004418267,
          26.90514348941379,
          27.436030974409313,
          27.966918459404837,
          28.497805944400362,
          29.028693429395886,
          29.55958091439141,
          30.090468399386936,
          30.62135588438246,
          31.152243369377985,
          31.68313085437351,
          32.214018339369034,
          32.74490582436456,
          33.27579330936008,
          33.80668079435561,
          34.337568279351125,
          34.86845576434665,
          35.399343249342174,
          35.9302307343377,
          36.46111821933322,
          36.99200570432875,
          37.52289318932427,
          38.053780674319796,
          38.58466815931532,
          39.115555644310845,
          39.64644312930637,
          40.177330614301894,
          40.70821809929742,
          41.23910558429294,
          41.76999306928847,
          42.30088055428399,
          42.83176803927951,
          43.362655524275034,
          43.89354300927056,
          44.42443049426608,
          44.95531797926161,
          45.48620546425713,
          46.01709294925266,
          46.54798043424818,
          47.078867919243706,
          47.60975540423923,
          48.140642889234755,
          48.67153037423028,
          49.202417859225804,
          49.73330534422132,
          50.264192829216846,
          50.79508031421237,
          51.325967799207895,
          51.85685528420342,
          52.387742769198944,
          52.91863025419447,
          53.44951773918999,
          53.98040522418552,
          54.51129270918104,
          55.04218019417657,
          55.57306767917209,
          56.103955164167616,
          56.63484264916314,
          57.165730134158665,
          57.69661761915418,
          58.22750510414971,
          58.75839258914523,
          59.289280074140756,
          59.82016755913628,
          60.351055044131805,
          60.88194252912733,
          61.412830014122854,
          61.94371749911838,
          62.4746049841139,
          63.00549246910943,
          63.53637995410495,
          64.06726743910048
         ],
         "xaxis": "x10",
         "y": [
          1302.522216796875,
          1302.522216796875,
          1302.522216796875,
          1302.522216796875,
          1302.522216796875,
          1302.522216796875,
          1302.522216796875,
          1302.522216796875,
          1302.522216796875,
          1302.522216796875,
          1302.522216796875,
          1302.522216796875,
          1302.522216796875,
          1302.522216796875,
          1302.522216796875,
          1302.522216796875,
          1302.522216796875,
          1302.522216796875,
          1302.522216796875,
          1302.522216796875,
          1302.522216796875,
          1302.522216796875,
          1302.522216796875,
          1302.522216796875,
          1302.522216796875,
          1302.522216796875,
          1302.522216796875,
          1302.522216796875,
          1302.522216796875,
          1302.522216796875,
          1302.522216796875,
          1302.522216796875,
          1302.522216796875,
          1302.522216796875,
          1302.522216796875,
          1302.522216796875,
          1303.9088134765625,
          1303.9088134765625,
          1303.9088134765625,
          1303.9088134765625,
          1303.9088134765625,
          1303.9088134765625,
          1303.9088134765625,
          1303.9088134765625,
          1303.9088134765625,
          1303.9088134765625,
          1303.9088134765625,
          1303.9088134765625,
          1303.9088134765625,
          1303.9088134765625,
          1303.9088134765625,
          1303.9088134765625,
          1303.9088134765625,
          1303.9088134765625,
          1303.9088134765625,
          1303.906005859375,
          1303.906005859375,
          1303.906005859375,
          1303.906005859375,
          1303.906005859375,
          1303.906005859375,
          1303.906005859375,
          1303.906005859375,
          1303.9266357421875,
          1303.9266357421875,
          1303.9266357421875,
          1303.9266357421875,
          1303.9266357421875,
          1303.9266357421875,
          1303.9266357421875,
          1303.9266357421875,
          1303.9266357421875,
          1303.978271484375,
          1303.984130859375,
          1303.9910888671875,
          1303.9910888671875,
          1304.0244140625,
          1304.0244140625,
          1304.0244140625,
          1304.0244140625,
          1304.0244140625,
          1304.0244140625,
          1304.0244140625,
          1304.0244140625,
          1304.0244140625,
          1304.031494140625,
          1304.031494140625,
          1304.031494140625,
          1304.031494140625,
          1304.0142822265625,
          1304.0142822265625,
          1304.0142822265625,
          1304.0142822265625,
          1304.0142822265625,
          1304.0142822265625,
          1304.072021484375,
          1304.072021484375,
          1304.072021484375,
          1304.072021484375,
          1304.072021484375,
          1304.072021484375
         ],
         "yaxis": "y10"
        },
        {
         "customdata": [
          [
           1304.0447998046875,
           "XGBRegressor",
           "REG NADAWY KONCENTRATU LIW2 Mg/h_avg_15-30"
          ],
          [
           1304.0447998046875,
           "XGBRegressor",
           "REG NADAWY KONCENTRATU LIW2 Mg/h_avg_15-30"
          ],
          [
           1304.0447998046875,
           "XGBRegressor",
           "REG NADAWY KONCENTRATU LIW2 Mg/h_avg_15-30"
          ],
          [
           1304.0447998046875,
           "XGBRegressor",
           "REG NADAWY KONCENTRATU LIW2 Mg/h_avg_15-30"
          ],
          [
           1304.0447998046875,
           "XGBRegressor",
           "REG NADAWY KONCENTRATU LIW2 Mg/h_avg_15-30"
          ],
          [
           1304.0447998046875,
           "XGBRegressor",
           "REG NADAWY KONCENTRATU LIW2 Mg/h_avg_15-30"
          ],
          [
           1304.0447998046875,
           "XGBRegressor",
           "REG NADAWY KONCENTRATU LIW2 Mg/h_avg_15-30"
          ],
          [
           1304.0447998046875,
           "XGBRegressor",
           "REG NADAWY KONCENTRATU LIW2 Mg/h_avg_15-30"
          ],
          [
           1304.0447998046875,
           "XGBRegressor",
           "REG NADAWY KONCENTRATU LIW2 Mg/h_avg_15-30"
          ],
          [
           1304.0447998046875,
           "XGBRegressor",
           "REG NADAWY KONCENTRATU LIW2 Mg/h_avg_15-30"
          ],
          [
           1304.0447998046875,
           "XGBRegressor",
           "REG NADAWY KONCENTRATU LIW2 Mg/h_avg_15-30"
          ],
          [
           1304.0447998046875,
           "XGBRegressor",
           "REG NADAWY KONCENTRATU LIW2 Mg/h_avg_15-30"
          ],
          [
           1304.0447998046875,
           "XGBRegressor",
           "REG NADAWY KONCENTRATU LIW2 Mg/h_avg_15-30"
          ],
          [
           1304.0447998046875,
           "XGBRegressor",
           "REG NADAWY KONCENTRATU LIW2 Mg/h_avg_15-30"
          ],
          [
           1304.0447998046875,
           "XGBRegressor",
           "REG NADAWY KONCENTRATU LIW2 Mg/h_avg_15-30"
          ],
          [
           1304.0447998046875,
           "XGBRegressor",
           "REG NADAWY KONCENTRATU LIW2 Mg/h_avg_15-30"
          ],
          [
           1304.0447998046875,
           "XGBRegressor",
           "REG NADAWY KONCENTRATU LIW2 Mg/h_avg_15-30"
          ],
          [
           1304.0447998046875,
           "XGBRegressor",
           "REG NADAWY KONCENTRATU LIW2 Mg/h_avg_15-30"
          ],
          [
           1304.0447998046875,
           "XGBRegressor",
           "REG NADAWY KONCENTRATU LIW2 Mg/h_avg_15-30"
          ],
          [
           1304.0447998046875,
           "XGBRegressor",
           "REG NADAWY KONCENTRATU LIW2 Mg/h_avg_15-30"
          ],
          [
           1304.0447998046875,
           "XGBRegressor",
           "REG NADAWY KONCENTRATU LIW2 Mg/h_avg_15-30"
          ],
          [
           1304.0447998046875,
           "XGBRegressor",
           "REG NADAWY KONCENTRATU LIW2 Mg/h_avg_15-30"
          ],
          [
           1304.0447998046875,
           "XGBRegressor",
           "REG NADAWY KONCENTRATU LIW2 Mg/h_avg_15-30"
          ],
          [
           1304.0447998046875,
           "XGBRegressor",
           "REG NADAWY KONCENTRATU LIW2 Mg/h_avg_15-30"
          ],
          [
           1304.0447998046875,
           "XGBRegressor",
           "REG NADAWY KONCENTRATU LIW2 Mg/h_avg_15-30"
          ],
          [
           1304.0447998046875,
           "XGBRegressor",
           "REG NADAWY KONCENTRATU LIW2 Mg/h_avg_15-30"
          ],
          [
           1304.0447998046875,
           "XGBRegressor",
           "REG NADAWY KONCENTRATU LIW2 Mg/h_avg_15-30"
          ],
          [
           1304.0447998046875,
           "XGBRegressor",
           "REG NADAWY KONCENTRATU LIW2 Mg/h_avg_15-30"
          ],
          [
           1304.0447998046875,
           "XGBRegressor",
           "REG NADAWY KONCENTRATU LIW2 Mg/h_avg_15-30"
          ],
          [
           1304.0447998046875,
           "XGBRegressor",
           "REG NADAWY KONCENTRATU LIW2 Mg/h_avg_15-30"
          ],
          [
           1304.0447998046875,
           "XGBRegressor",
           "REG NADAWY KONCENTRATU LIW2 Mg/h_avg_15-30"
          ],
          [
           1304.0447998046875,
           "XGBRegressor",
           "REG NADAWY KONCENTRATU LIW2 Mg/h_avg_15-30"
          ],
          [
           1304.0447998046875,
           "XGBRegressor",
           "REG NADAWY KONCENTRATU LIW2 Mg/h_avg_15-30"
          ],
          [
           1304.0447998046875,
           "XGBRegressor",
           "REG NADAWY KONCENTRATU LIW2 Mg/h_avg_15-30"
          ],
          [
           1304.0447998046875,
           "XGBRegressor",
           "REG NADAWY KONCENTRATU LIW2 Mg/h_avg_15-30"
          ],
          [
           1304.0447998046875,
           "XGBRegressor",
           "REG NADAWY KONCENTRATU LIW2 Mg/h_avg_15-30"
          ],
          [
           1304.0447998046875,
           "XGBRegressor",
           "REG NADAWY KONCENTRATU LIW2 Mg/h_avg_15-30"
          ],
          [
           1304.0447998046875,
           "XGBRegressor",
           "REG NADAWY KONCENTRATU LIW2 Mg/h_avg_15-30"
          ],
          [
           1304.0447998046875,
           "XGBRegressor",
           "REG NADAWY KONCENTRATU LIW2 Mg/h_avg_15-30"
          ],
          [
           1304.0447998046875,
           "XGBRegressor",
           "REG NADAWY KONCENTRATU LIW2 Mg/h_avg_15-30"
          ],
          [
           1304.0447998046875,
           "XGBRegressor",
           "REG NADAWY KONCENTRATU LIW2 Mg/h_avg_15-30"
          ],
          [
           1304.0447998046875,
           "XGBRegressor",
           "REG NADAWY KONCENTRATU LIW2 Mg/h_avg_15-30"
          ],
          [
           1304.0447998046875,
           "XGBRegressor",
           "REG NADAWY KONCENTRATU LIW2 Mg/h_avg_15-30"
          ],
          [
           1304.0447998046875,
           "XGBRegressor",
           "REG NADAWY KONCENTRATU LIW2 Mg/h_avg_15-30"
          ],
          [
           1304.0447998046875,
           "XGBRegressor",
           "REG NADAWY KONCENTRATU LIW2 Mg/h_avg_15-30"
          ],
          [
           1304.0447998046875,
           "XGBRegressor",
           "REG NADAWY KONCENTRATU LIW2 Mg/h_avg_15-30"
          ],
          [
           1304.0447998046875,
           "XGBRegressor",
           "REG NADAWY KONCENTRATU LIW2 Mg/h_avg_15-30"
          ],
          [
           1304.0447998046875,
           "XGBRegressor",
           "REG NADAWY KONCENTRATU LIW2 Mg/h_avg_15-30"
          ],
          [
           1304.0447998046875,
           "XGBRegressor",
           "REG NADAWY KONCENTRATU LIW2 Mg/h_avg_15-30"
          ],
          [
           1304.0447998046875,
           "XGBRegressor",
           "REG NADAWY KONCENTRATU LIW2 Mg/h_avg_15-30"
          ],
          [
           1304.0447998046875,
           "XGBRegressor",
           "REG NADAWY KONCENTRATU LIW2 Mg/h_avg_15-30"
          ],
          [
           1304.0447998046875,
           "XGBRegressor",
           "REG NADAWY KONCENTRATU LIW2 Mg/h_avg_15-30"
          ],
          [
           1304.0447998046875,
           "XGBRegressor",
           "REG NADAWY KONCENTRATU LIW2 Mg/h_avg_15-30"
          ],
          [
           1304.0447998046875,
           "XGBRegressor",
           "REG NADAWY KONCENTRATU LIW2 Mg/h_avg_15-30"
          ],
          [
           1304.0447998046875,
           "XGBRegressor",
           "REG NADAWY KONCENTRATU LIW2 Mg/h_avg_15-30"
          ],
          [
           1304.0447998046875,
           "XGBRegressor",
           "REG NADAWY KONCENTRATU LIW2 Mg/h_avg_15-30"
          ],
          [
           1304.0447998046875,
           "XGBRegressor",
           "REG NADAWY KONCENTRATU LIW2 Mg/h_avg_15-30"
          ],
          [
           1304.0447998046875,
           "XGBRegressor",
           "REG NADAWY KONCENTRATU LIW2 Mg/h_avg_15-30"
          ],
          [
           1304.0447998046875,
           "XGBRegressor",
           "REG NADAWY KONCENTRATU LIW2 Mg/h_avg_15-30"
          ],
          [
           1304.0447998046875,
           "XGBRegressor",
           "REG NADAWY KONCENTRATU LIW2 Mg/h_avg_15-30"
          ],
          [
           1304.0447998046875,
           "XGBRegressor",
           "REG NADAWY KONCENTRATU LIW2 Mg/h_avg_15-30"
          ],
          [
           1304.0447998046875,
           "XGBRegressor",
           "REG NADAWY KONCENTRATU LIW2 Mg/h_avg_15-30"
          ],
          [
           1304.0447998046875,
           "XGBRegressor",
           "REG NADAWY KONCENTRATU LIW2 Mg/h_avg_15-30"
          ],
          [
           1304.0447998046875,
           "XGBRegressor",
           "REG NADAWY KONCENTRATU LIW2 Mg/h_avg_15-30"
          ],
          [
           1304.0447998046875,
           "XGBRegressor",
           "REG NADAWY KONCENTRATU LIW2 Mg/h_avg_15-30"
          ],
          [
           1304.0447998046875,
           "XGBRegressor",
           "REG NADAWY KONCENTRATU LIW2 Mg/h_avg_15-30"
          ],
          [
           1304.0447998046875,
           "XGBRegressor",
           "REG NADAWY KONCENTRATU LIW2 Mg/h_avg_15-30"
          ],
          [
           1304.0447998046875,
           "XGBRegressor",
           "REG NADAWY KONCENTRATU LIW2 Mg/h_avg_15-30"
          ],
          [
           1304.0447998046875,
           "XGBRegressor",
           "REG NADAWY KONCENTRATU LIW2 Mg/h_avg_15-30"
          ],
          [
           1304.0447998046875,
           "XGBRegressor",
           "REG NADAWY KONCENTRATU LIW2 Mg/h_avg_15-30"
          ],
          [
           1304.0447998046875,
           "XGBRegressor",
           "REG NADAWY KONCENTRATU LIW2 Mg/h_avg_15-30"
          ],
          [
           1304.0447998046875,
           "XGBRegressor",
           "REG NADAWY KONCENTRATU LIW2 Mg/h_avg_15-30"
          ],
          [
           1304.0447998046875,
           "XGBRegressor",
           "REG NADAWY KONCENTRATU LIW2 Mg/h_avg_15-30"
          ],
          [
           1304.0447998046875,
           "XGBRegressor",
           "REG NADAWY KONCENTRATU LIW2 Mg/h_avg_15-30"
          ],
          [
           1304.0447998046875,
           "XGBRegressor",
           "REG NADAWY KONCENTRATU LIW2 Mg/h_avg_15-30"
          ],
          [
           1304.0447998046875,
           "XGBRegressor",
           "REG NADAWY KONCENTRATU LIW2 Mg/h_avg_15-30"
          ],
          [
           1304.0447998046875,
           "XGBRegressor",
           "REG NADAWY KONCENTRATU LIW2 Mg/h_avg_15-30"
          ],
          [
           1304.0447998046875,
           "XGBRegressor",
           "REG NADAWY KONCENTRATU LIW2 Mg/h_avg_15-30"
          ],
          [
           1304.0447998046875,
           "XGBRegressor",
           "REG NADAWY KONCENTRATU LIW2 Mg/h_avg_15-30"
          ],
          [
           1304.0447998046875,
           "XGBRegressor",
           "REG NADAWY KONCENTRATU LIW2 Mg/h_avg_15-30"
          ],
          [
           1304.0447998046875,
           "XGBRegressor",
           "REG NADAWY KONCENTRATU LIW2 Mg/h_avg_15-30"
          ],
          [
           1304.0447998046875,
           "XGBRegressor",
           "REG NADAWY KONCENTRATU LIW2 Mg/h_avg_15-30"
          ],
          [
           1304.0447998046875,
           "XGBRegressor",
           "REG NADAWY KONCENTRATU LIW2 Mg/h_avg_15-30"
          ],
          [
           1304.0447998046875,
           "XGBRegressor",
           "REG NADAWY KONCENTRATU LIW2 Mg/h_avg_15-30"
          ],
          [
           1304.0447998046875,
           "XGBRegressor",
           "REG NADAWY KONCENTRATU LIW2 Mg/h_avg_15-30"
          ],
          [
           1304.0447998046875,
           "XGBRegressor",
           "REG NADAWY KONCENTRATU LIW2 Mg/h_avg_15-30"
          ],
          [
           1304.0447998046875,
           "XGBRegressor",
           "REG NADAWY KONCENTRATU LIW2 Mg/h_avg_15-30"
          ],
          [
           1304.0447998046875,
           "XGBRegressor",
           "REG NADAWY KONCENTRATU LIW2 Mg/h_avg_15-30"
          ],
          [
           1304.0447998046875,
           "XGBRegressor",
           "REG NADAWY KONCENTRATU LIW2 Mg/h_avg_15-30"
          ],
          [
           1304.0447998046875,
           "XGBRegressor",
           "REG NADAWY KONCENTRATU LIW2 Mg/h_avg_15-30"
          ],
          [
           1304.0447998046875,
           "XGBRegressor",
           "REG NADAWY KONCENTRATU LIW2 Mg/h_avg_15-30"
          ],
          [
           1304.0447998046875,
           "XGBRegressor",
           "REG NADAWY KONCENTRATU LIW2 Mg/h_avg_15-30"
          ],
          [
           1304.0447998046875,
           "XGBRegressor",
           "REG NADAWY KONCENTRATU LIW2 Mg/h_avg_15-30"
          ],
          [
           1304.0447998046875,
           "XGBRegressor",
           "REG NADAWY KONCENTRATU LIW2 Mg/h_avg_15-30"
          ],
          [
           1304.0447998046875,
           "XGBRegressor",
           "REG NADAWY KONCENTRATU LIW2 Mg/h_avg_15-30"
          ],
          [
           1304.0447998046875,
           "XGBRegressor",
           "REG NADAWY KONCENTRATU LIW2 Mg/h_avg_15-30"
          ],
          [
           1304.0447998046875,
           "XGBRegressor",
           "REG NADAWY KONCENTRATU LIW2 Mg/h_avg_15-30"
          ],
          [
           1304.0447998046875,
           "XGBRegressor",
           "REG NADAWY KONCENTRATU LIW2 Mg/h_avg_15-30"
          ],
          [
           1304.0447998046875,
           "XGBRegressor",
           "REG NADAWY KONCENTRATU LIW2 Mg/h_avg_15-30"
          ],
          [
           1304.0447998046875,
           "XGBRegressor",
           "REG NADAWY KONCENTRATU LIW2 Mg/h_avg_15-30"
          ],
          [
           1304.0447998046875,
           "XGBRegressor",
           "REG NADAWY KONCENTRATU LIW2 Mg/h_avg_15-30"
          ]
         ],
         "hovertemplate": "<b>%{hovertext}</b><br><br>prediction=%{y:.3f}<br>mean_prediction=%{customdata[0]:.3f}<extra></extra>",
         "hovertext": [
          "XGBRegressor",
          "XGBRegressor",
          "XGBRegressor",
          "XGBRegressor",
          "XGBRegressor",
          "XGBRegressor",
          "XGBRegressor",
          "XGBRegressor",
          "XGBRegressor",
          "XGBRegressor",
          "XGBRegressor",
          "XGBRegressor",
          "XGBRegressor",
          "XGBRegressor",
          "XGBRegressor",
          "XGBRegressor",
          "XGBRegressor",
          "XGBRegressor",
          "XGBRegressor",
          "XGBRegressor",
          "XGBRegressor",
          "XGBRegressor",
          "XGBRegressor",
          "XGBRegressor",
          "XGBRegressor",
          "XGBRegressor",
          "XGBRegressor",
          "XGBRegressor",
          "XGBRegressor",
          "XGBRegressor",
          "XGBRegressor",
          "XGBRegressor",
          "XGBRegressor",
          "XGBRegressor",
          "XGBRegressor",
          "XGBRegressor",
          "XGBRegressor",
          "XGBRegressor",
          "XGBRegressor",
          "XGBRegressor",
          "XGBRegressor",
          "XGBRegressor",
          "XGBRegressor",
          "XGBRegressor",
          "XGBRegressor",
          "XGBRegressor",
          "XGBRegressor",
          "XGBRegressor",
          "XGBRegressor",
          "XGBRegressor",
          "XGBRegressor",
          "XGBRegressor",
          "XGBRegressor",
          "XGBRegressor",
          "XGBRegressor",
          "XGBRegressor",
          "XGBRegressor",
          "XGBRegressor",
          "XGBRegressor",
          "XGBRegressor",
          "XGBRegressor",
          "XGBRegressor",
          "XGBRegressor",
          "XGBRegressor",
          "XGBRegressor",
          "XGBRegressor",
          "XGBRegressor",
          "XGBRegressor",
          "XGBRegressor",
          "XGBRegressor",
          "XGBRegressor",
          "XGBRegressor",
          "XGBRegressor",
          "XGBRegressor",
          "XGBRegressor",
          "XGBRegressor",
          "XGBRegressor",
          "XGBRegressor",
          "XGBRegressor",
          "XGBRegressor",
          "XGBRegressor",
          "XGBRegressor",
          "XGBRegressor",
          "XGBRegressor",
          "XGBRegressor",
          "XGBRegressor",
          "XGBRegressor",
          "XGBRegressor",
          "XGBRegressor",
          "XGBRegressor",
          "XGBRegressor",
          "XGBRegressor",
          "XGBRegressor",
          "XGBRegressor",
          "XGBRegressor",
          "XGBRegressor",
          "XGBRegressor",
          "XGBRegressor",
          "XGBRegressor",
          "XGBRegressor",
          "XGBRegressor"
         ],
         "legendgroup": "XGBRegressor",
         "line": {
          "color": "#46bac2",
          "dash": "solid",
          "width": 2
         },
         "marker": {
          "symbol": "circle"
         },
         "mode": "lines",
         "name": "XGBRegressor",
         "opacity": 1,
         "orientation": "v",
         "showlegend": false,
         "type": "scatter",
         "x": [
          10.35042122794522,
          11.00636130328377,
          11.662301378622319,
          12.318241453960868,
          12.974181529299416,
          13.630121604637965,
          14.286061679976516,
          14.942001755315065,
          15.597941830653614,
          16.253881905992163,
          16.909821981330712,
          17.56576205666926,
          18.22170213200781,
          18.87764220734636,
          19.533582282684907,
          20.189522358023456,
          20.845462433362005,
          21.501402508700554,
          22.157342584039103,
          22.813282659377652,
          23.4692227347162,
          24.12516281005475,
          24.7811028853933,
          25.437042960731848,
          26.0929830360704,
          26.74892311140895,
          27.404863186747498,
          28.060803262086047,
          28.716743337424596,
          29.372683412763145,
          30.028623488101694,
          30.684563563440243,
          31.34050363877879,
          31.99644371411734,
          32.65238378945589,
          33.30832386479444,
          33.96426394013299,
          34.620204015471536,
          35.276144090810085,
          35.932084166148634,
          36.58802424148718,
          37.24396431682573,
          37.89990439216428,
          38.55584446750283,
          39.21178454284138,
          39.86772461817993,
          40.52366469351848,
          41.179604768857025,
          41.835544844195574,
          42.49148491953412,
          43.14742499487267,
          43.80336507021122,
          44.45930514554977,
          45.11524522088832,
          45.77118529622687,
          46.42712537156542,
          47.083065446903966,
          47.739005522242515,
          48.394945597581064,
          49.05088567291961,
          49.70682574825816,
          50.36276582359671,
          51.01870589893526,
          51.67464597427381,
          52.33058604961236,
          52.986526124950906,
          53.642466200289455,
          54.298406275628004,
          54.95434635096655,
          55.6102864263051,
          56.26622650164365,
          56.9221665769822,
          57.57810665232075,
          58.2340467276593,
          58.889986802997846,
          59.545926878336395,
          60.201866953674944,
          60.85780702901349,
          61.51374710435204,
          62.16968717969059,
          62.82562725502914,
          63.48156733036769,
          64.13750740570624,
          64.7934474810448,
          65.44938755638334,
          66.10532763172189,
          66.76126770706044,
          67.41720778239899,
          68.07314785773754,
          68.72908793307609,
          69.38502800841464,
          70.04096808375319,
          70.69690815909173,
          71.35284823443028,
          72.00878830976883,
          72.66472838510738,
          73.32066846044593,
          73.97660853578448,
          74.63254861112303,
          75.28848868646158,
          75.94442876180013
         ],
         "xaxis": "x7",
         "y": [
          1303.0189208984375,
          1303.0189208984375,
          1303.0189208984375,
          1303.0189208984375,
          1303.0189208984375,
          1303.0189208984375,
          1303.0189208984375,
          1303.0189208984375,
          1303.0189208984375,
          1303.0189208984375,
          1303.0189208984375,
          1303.0189208984375,
          1303.0189208984375,
          1303.0189208984375,
          1303.0189208984375,
          1303.0189208984375,
          1303.0189208984375,
          1303.0189208984375,
          1303.0189208984375,
          1303.0189208984375,
          1303.0189208984375,
          1303.0189208984375,
          1303.0189208984375,
          1303.0189208984375,
          1303.0189208984375,
          1303.0189208984375,
          1303.0189208984375,
          1303.0189208984375,
          1303.0189208984375,
          1303.0189208984375,
          1303.0189208984375,
          1303.0189208984375,
          1303.0189208984375,
          1303.0189208984375,
          1303.0189208984375,
          1303.0189208984375,
          1303.0189208984375,
          1303.0189208984375,
          1303.0189208984375,
          1303.0189208984375,
          1303.0189208984375,
          1303.0189208984375,
          1303.0189208984375,
          1303.0189208984375,
          1303.0189208984375,
          1303.0189208984375,
          1303.0240478515625,
          1303.0240478515625,
          1303.0240478515625,
          1303.2703857421875,
          1303.37939453125,
          1303.37939453125,
          1303.4034423828125,
          1303.5999755859375,
          1303.691650390625,
          1303.691650390625,
          1303.8004150390625,
          1303.8004150390625,
          1303.8004150390625,
          1303.8895263671875,
          1303.8895263671875,
          1303.9405517578125,
          1304.048583984375,
          1304.048583984375,
          1304.065673828125,
          1304.065673828125,
          1304.065673828125,
          1304.07177734375,
          1304.0743408203125,
          1304.07763671875,
          1304.0836181640625,
          1304.0836181640625,
          1304.102294921875,
          1304.1314697265625,
          1304.1314697265625,
          1304.1314697265625,
          1304.1314697265625,
          1304.1314697265625,
          1304.1314697265625,
          1304.1634521484375,
          1304.1634521484375,
          1304.1634521484375,
          1304.1634521484375,
          1304.1634521484375,
          1304.1634521484375,
          1304.1634521484375,
          1304.1634521484375,
          1304.1634521484375,
          1304.1634521484375,
          1304.1634521484375,
          1304.1634521484375,
          1304.1634521484375,
          1304.1634521484375,
          1304.1634521484375,
          1304.1634521484375,
          1304.1634521484375,
          1304.1634521484375,
          1304.1634521484375,
          1304.1634521484375,
          1304.1634521484375,
          1304.1634521484375
         ],
         "yaxis": "y7"
        },
        {
         "customdata": [
          [
           1304.0447998046875,
           "XGBRegressor",
           "REG NADAWY KONCENTRATU LIW1 Mg/h_avg_30-45"
          ],
          [
           1304.0447998046875,
           "XGBRegressor",
           "REG NADAWY KONCENTRATU LIW1 Mg/h_avg_30-45"
          ],
          [
           1304.0447998046875,
           "XGBRegressor",
           "REG NADAWY KONCENTRATU LIW1 Mg/h_avg_30-45"
          ],
          [
           1304.0447998046875,
           "XGBRegressor",
           "REG NADAWY KONCENTRATU LIW1 Mg/h_avg_30-45"
          ],
          [
           1304.0447998046875,
           "XGBRegressor",
           "REG NADAWY KONCENTRATU LIW1 Mg/h_avg_30-45"
          ],
          [
           1304.0447998046875,
           "XGBRegressor",
           "REG NADAWY KONCENTRATU LIW1 Mg/h_avg_30-45"
          ],
          [
           1304.0447998046875,
           "XGBRegressor",
           "REG NADAWY KONCENTRATU LIW1 Mg/h_avg_30-45"
          ],
          [
           1304.0447998046875,
           "XGBRegressor",
           "REG NADAWY KONCENTRATU LIW1 Mg/h_avg_30-45"
          ],
          [
           1304.0447998046875,
           "XGBRegressor",
           "REG NADAWY KONCENTRATU LIW1 Mg/h_avg_30-45"
          ],
          [
           1304.0447998046875,
           "XGBRegressor",
           "REG NADAWY KONCENTRATU LIW1 Mg/h_avg_30-45"
          ],
          [
           1304.0447998046875,
           "XGBRegressor",
           "REG NADAWY KONCENTRATU LIW1 Mg/h_avg_30-45"
          ],
          [
           1304.0447998046875,
           "XGBRegressor",
           "REG NADAWY KONCENTRATU LIW1 Mg/h_avg_30-45"
          ],
          [
           1304.0447998046875,
           "XGBRegressor",
           "REG NADAWY KONCENTRATU LIW1 Mg/h_avg_30-45"
          ],
          [
           1304.0447998046875,
           "XGBRegressor",
           "REG NADAWY KONCENTRATU LIW1 Mg/h_avg_30-45"
          ],
          [
           1304.0447998046875,
           "XGBRegressor",
           "REG NADAWY KONCENTRATU LIW1 Mg/h_avg_30-45"
          ],
          [
           1304.0447998046875,
           "XGBRegressor",
           "REG NADAWY KONCENTRATU LIW1 Mg/h_avg_30-45"
          ],
          [
           1304.0447998046875,
           "XGBRegressor",
           "REG NADAWY KONCENTRATU LIW1 Mg/h_avg_30-45"
          ],
          [
           1304.0447998046875,
           "XGBRegressor",
           "REG NADAWY KONCENTRATU LIW1 Mg/h_avg_30-45"
          ],
          [
           1304.0447998046875,
           "XGBRegressor",
           "REG NADAWY KONCENTRATU LIW1 Mg/h_avg_30-45"
          ],
          [
           1304.0447998046875,
           "XGBRegressor",
           "REG NADAWY KONCENTRATU LIW1 Mg/h_avg_30-45"
          ],
          [
           1304.0447998046875,
           "XGBRegressor",
           "REG NADAWY KONCENTRATU LIW1 Mg/h_avg_30-45"
          ],
          [
           1304.0447998046875,
           "XGBRegressor",
           "REG NADAWY KONCENTRATU LIW1 Mg/h_avg_30-45"
          ],
          [
           1304.0447998046875,
           "XGBRegressor",
           "REG NADAWY KONCENTRATU LIW1 Mg/h_avg_30-45"
          ],
          [
           1304.0447998046875,
           "XGBRegressor",
           "REG NADAWY KONCENTRATU LIW1 Mg/h_avg_30-45"
          ],
          [
           1304.0447998046875,
           "XGBRegressor",
           "REG NADAWY KONCENTRATU LIW1 Mg/h_avg_30-45"
          ],
          [
           1304.0447998046875,
           "XGBRegressor",
           "REG NADAWY KONCENTRATU LIW1 Mg/h_avg_30-45"
          ],
          [
           1304.0447998046875,
           "XGBRegressor",
           "REG NADAWY KONCENTRATU LIW1 Mg/h_avg_30-45"
          ],
          [
           1304.0447998046875,
           "XGBRegressor",
           "REG NADAWY KONCENTRATU LIW1 Mg/h_avg_30-45"
          ],
          [
           1304.0447998046875,
           "XGBRegressor",
           "REG NADAWY KONCENTRATU LIW1 Mg/h_avg_30-45"
          ],
          [
           1304.0447998046875,
           "XGBRegressor",
           "REG NADAWY KONCENTRATU LIW1 Mg/h_avg_30-45"
          ],
          [
           1304.0447998046875,
           "XGBRegressor",
           "REG NADAWY KONCENTRATU LIW1 Mg/h_avg_30-45"
          ],
          [
           1304.0447998046875,
           "XGBRegressor",
           "REG NADAWY KONCENTRATU LIW1 Mg/h_avg_30-45"
          ],
          [
           1304.0447998046875,
           "XGBRegressor",
           "REG NADAWY KONCENTRATU LIW1 Mg/h_avg_30-45"
          ],
          [
           1304.0447998046875,
           "XGBRegressor",
           "REG NADAWY KONCENTRATU LIW1 Mg/h_avg_30-45"
          ],
          [
           1304.0447998046875,
           "XGBRegressor",
           "REG NADAWY KONCENTRATU LIW1 Mg/h_avg_30-45"
          ],
          [
           1304.0447998046875,
           "XGBRegressor",
           "REG NADAWY KONCENTRATU LIW1 Mg/h_avg_30-45"
          ],
          [
           1304.0447998046875,
           "XGBRegressor",
           "REG NADAWY KONCENTRATU LIW1 Mg/h_avg_30-45"
          ],
          [
           1304.0447998046875,
           "XGBRegressor",
           "REG NADAWY KONCENTRATU LIW1 Mg/h_avg_30-45"
          ],
          [
           1304.0447998046875,
           "XGBRegressor",
           "REG NADAWY KONCENTRATU LIW1 Mg/h_avg_30-45"
          ],
          [
           1304.0447998046875,
           "XGBRegressor",
           "REG NADAWY KONCENTRATU LIW1 Mg/h_avg_30-45"
          ],
          [
           1304.0447998046875,
           "XGBRegressor",
           "REG NADAWY KONCENTRATU LIW1 Mg/h_avg_30-45"
          ],
          [
           1304.0447998046875,
           "XGBRegressor",
           "REG NADAWY KONCENTRATU LIW1 Mg/h_avg_30-45"
          ],
          [
           1304.0447998046875,
           "XGBRegressor",
           "REG NADAWY KONCENTRATU LIW1 Mg/h_avg_30-45"
          ],
          [
           1304.0447998046875,
           "XGBRegressor",
           "REG NADAWY KONCENTRATU LIW1 Mg/h_avg_30-45"
          ],
          [
           1304.0447998046875,
           "XGBRegressor",
           "REG NADAWY KONCENTRATU LIW1 Mg/h_avg_30-45"
          ],
          [
           1304.0447998046875,
           "XGBRegressor",
           "REG NADAWY KONCENTRATU LIW1 Mg/h_avg_30-45"
          ],
          [
           1304.0447998046875,
           "XGBRegressor",
           "REG NADAWY KONCENTRATU LIW1 Mg/h_avg_30-45"
          ],
          [
           1304.0447998046875,
           "XGBRegressor",
           "REG NADAWY KONCENTRATU LIW1 Mg/h_avg_30-45"
          ],
          [
           1304.0447998046875,
           "XGBRegressor",
           "REG NADAWY KONCENTRATU LIW1 Mg/h_avg_30-45"
          ],
          [
           1304.0447998046875,
           "XGBRegressor",
           "REG NADAWY KONCENTRATU LIW1 Mg/h_avg_30-45"
          ],
          [
           1304.0447998046875,
           "XGBRegressor",
           "REG NADAWY KONCENTRATU LIW1 Mg/h_avg_30-45"
          ],
          [
           1304.0447998046875,
           "XGBRegressor",
           "REG NADAWY KONCENTRATU LIW1 Mg/h_avg_30-45"
          ],
          [
           1304.0447998046875,
           "XGBRegressor",
           "REG NADAWY KONCENTRATU LIW1 Mg/h_avg_30-45"
          ],
          [
           1304.0447998046875,
           "XGBRegressor",
           "REG NADAWY KONCENTRATU LIW1 Mg/h_avg_30-45"
          ],
          [
           1304.0447998046875,
           "XGBRegressor",
           "REG NADAWY KONCENTRATU LIW1 Mg/h_avg_30-45"
          ],
          [
           1304.0447998046875,
           "XGBRegressor",
           "REG NADAWY KONCENTRATU LIW1 Mg/h_avg_30-45"
          ],
          [
           1304.0447998046875,
           "XGBRegressor",
           "REG NADAWY KONCENTRATU LIW1 Mg/h_avg_30-45"
          ],
          [
           1304.0447998046875,
           "XGBRegressor",
           "REG NADAWY KONCENTRATU LIW1 Mg/h_avg_30-45"
          ],
          [
           1304.0447998046875,
           "XGBRegressor",
           "REG NADAWY KONCENTRATU LIW1 Mg/h_avg_30-45"
          ],
          [
           1304.0447998046875,
           "XGBRegressor",
           "REG NADAWY KONCENTRATU LIW1 Mg/h_avg_30-45"
          ],
          [
           1304.0447998046875,
           "XGBRegressor",
           "REG NADAWY KONCENTRATU LIW1 Mg/h_avg_30-45"
          ],
          [
           1304.0447998046875,
           "XGBRegressor",
           "REG NADAWY KONCENTRATU LIW1 Mg/h_avg_30-45"
          ],
          [
           1304.0447998046875,
           "XGBRegressor",
           "REG NADAWY KONCENTRATU LIW1 Mg/h_avg_30-45"
          ],
          [
           1304.0447998046875,
           "XGBRegressor",
           "REG NADAWY KONCENTRATU LIW1 Mg/h_avg_30-45"
          ],
          [
           1304.0447998046875,
           "XGBRegressor",
           "REG NADAWY KONCENTRATU LIW1 Mg/h_avg_30-45"
          ],
          [
           1304.0447998046875,
           "XGBRegressor",
           "REG NADAWY KONCENTRATU LIW1 Mg/h_avg_30-45"
          ],
          [
           1304.0447998046875,
           "XGBRegressor",
           "REG NADAWY KONCENTRATU LIW1 Mg/h_avg_30-45"
          ],
          [
           1304.0447998046875,
           "XGBRegressor",
           "REG NADAWY KONCENTRATU LIW1 Mg/h_avg_30-45"
          ],
          [
           1304.0447998046875,
           "XGBRegressor",
           "REG NADAWY KONCENTRATU LIW1 Mg/h_avg_30-45"
          ],
          [
           1304.0447998046875,
           "XGBRegressor",
           "REG NADAWY KONCENTRATU LIW1 Mg/h_avg_30-45"
          ],
          [
           1304.0447998046875,
           "XGBRegressor",
           "REG NADAWY KONCENTRATU LIW1 Mg/h_avg_30-45"
          ],
          [
           1304.0447998046875,
           "XGBRegressor",
           "REG NADAWY KONCENTRATU LIW1 Mg/h_avg_30-45"
          ],
          [
           1304.0447998046875,
           "XGBRegressor",
           "REG NADAWY KONCENTRATU LIW1 Mg/h_avg_30-45"
          ],
          [
           1304.0447998046875,
           "XGBRegressor",
           "REG NADAWY KONCENTRATU LIW1 Mg/h_avg_30-45"
          ],
          [
           1304.0447998046875,
           "XGBRegressor",
           "REG NADAWY KONCENTRATU LIW1 Mg/h_avg_30-45"
          ],
          [
           1304.0447998046875,
           "XGBRegressor",
           "REG NADAWY KONCENTRATU LIW1 Mg/h_avg_30-45"
          ],
          [
           1304.0447998046875,
           "XGBRegressor",
           "REG NADAWY KONCENTRATU LIW1 Mg/h_avg_30-45"
          ],
          [
           1304.0447998046875,
           "XGBRegressor",
           "REG NADAWY KONCENTRATU LIW1 Mg/h_avg_30-45"
          ],
          [
           1304.0447998046875,
           "XGBRegressor",
           "REG NADAWY KONCENTRATU LIW1 Mg/h_avg_30-45"
          ],
          [
           1304.0447998046875,
           "XGBRegressor",
           "REG NADAWY KONCENTRATU LIW1 Mg/h_avg_30-45"
          ],
          [
           1304.0447998046875,
           "XGBRegressor",
           "REG NADAWY KONCENTRATU LIW1 Mg/h_avg_30-45"
          ],
          [
           1304.0447998046875,
           "XGBRegressor",
           "REG NADAWY KONCENTRATU LIW1 Mg/h_avg_30-45"
          ],
          [
           1304.0447998046875,
           "XGBRegressor",
           "REG NADAWY KONCENTRATU LIW1 Mg/h_avg_30-45"
          ],
          [
           1304.0447998046875,
           "XGBRegressor",
           "REG NADAWY KONCENTRATU LIW1 Mg/h_avg_30-45"
          ],
          [
           1304.0447998046875,
           "XGBRegressor",
           "REG NADAWY KONCENTRATU LIW1 Mg/h_avg_30-45"
          ],
          [
           1304.0447998046875,
           "XGBRegressor",
           "REG NADAWY KONCENTRATU LIW1 Mg/h_avg_30-45"
          ],
          [
           1304.0447998046875,
           "XGBRegressor",
           "REG NADAWY KONCENTRATU LIW1 Mg/h_avg_30-45"
          ],
          [
           1304.0447998046875,
           "XGBRegressor",
           "REG NADAWY KONCENTRATU LIW1 Mg/h_avg_30-45"
          ],
          [
           1304.0447998046875,
           "XGBRegressor",
           "REG NADAWY KONCENTRATU LIW1 Mg/h_avg_30-45"
          ],
          [
           1304.0447998046875,
           "XGBRegressor",
           "REG NADAWY KONCENTRATU LIW1 Mg/h_avg_30-45"
          ],
          [
           1304.0447998046875,
           "XGBRegressor",
           "REG NADAWY KONCENTRATU LIW1 Mg/h_avg_30-45"
          ],
          [
           1304.0447998046875,
           "XGBRegressor",
           "REG NADAWY KONCENTRATU LIW1 Mg/h_avg_30-45"
          ],
          [
           1304.0447998046875,
           "XGBRegressor",
           "REG NADAWY KONCENTRATU LIW1 Mg/h_avg_30-45"
          ],
          [
           1304.0447998046875,
           "XGBRegressor",
           "REG NADAWY KONCENTRATU LIW1 Mg/h_avg_30-45"
          ],
          [
           1304.0447998046875,
           "XGBRegressor",
           "REG NADAWY KONCENTRATU LIW1 Mg/h_avg_30-45"
          ],
          [
           1304.0447998046875,
           "XGBRegressor",
           "REG NADAWY KONCENTRATU LIW1 Mg/h_avg_30-45"
          ],
          [
           1304.0447998046875,
           "XGBRegressor",
           "REG NADAWY KONCENTRATU LIW1 Mg/h_avg_30-45"
          ],
          [
           1304.0447998046875,
           "XGBRegressor",
           "REG NADAWY KONCENTRATU LIW1 Mg/h_avg_30-45"
          ],
          [
           1304.0447998046875,
           "XGBRegressor",
           "REG NADAWY KONCENTRATU LIW1 Mg/h_avg_30-45"
          ],
          [
           1304.0447998046875,
           "XGBRegressor",
           "REG NADAWY KONCENTRATU LIW1 Mg/h_avg_30-45"
          ],
          [
           1304.0447998046875,
           "XGBRegressor",
           "REG NADAWY KONCENTRATU LIW1 Mg/h_avg_30-45"
          ]
         ],
         "hovertemplate": "<b>%{hovertext}</b><br><br>prediction=%{y:.3f}<br>mean_prediction=%{customdata[0]:.3f}<extra></extra>",
         "hovertext": [
          "XGBRegressor",
          "XGBRegressor",
          "XGBRegressor",
          "XGBRegressor",
          "XGBRegressor",
          "XGBRegressor",
          "XGBRegressor",
          "XGBRegressor",
          "XGBRegressor",
          "XGBRegressor",
          "XGBRegressor",
          "XGBRegressor",
          "XGBRegressor",
          "XGBRegressor",
          "XGBRegressor",
          "XGBRegressor",
          "XGBRegressor",
          "XGBRegressor",
          "XGBRegressor",
          "XGBRegressor",
          "XGBRegressor",
          "XGBRegressor",
          "XGBRegressor",
          "XGBRegressor",
          "XGBRegressor",
          "XGBRegressor",
          "XGBRegressor",
          "XGBRegressor",
          "XGBRegressor",
          "XGBRegressor",
          "XGBRegressor",
          "XGBRegressor",
          "XGBRegressor",
          "XGBRegressor",
          "XGBRegressor",
          "XGBRegressor",
          "XGBRegressor",
          "XGBRegressor",
          "XGBRegressor",
          "XGBRegressor",
          "XGBRegressor",
          "XGBRegressor",
          "XGBRegressor",
          "XGBRegressor",
          "XGBRegressor",
          "XGBRegressor",
          "XGBRegressor",
          "XGBRegressor",
          "XGBRegressor",
          "XGBRegressor",
          "XGBRegressor",
          "XGBRegressor",
          "XGBRegressor",
          "XGBRegressor",
          "XGBRegressor",
          "XGBRegressor",
          "XGBRegressor",
          "XGBRegressor",
          "XGBRegressor",
          "XGBRegressor",
          "XGBRegressor",
          "XGBRegressor",
          "XGBRegressor",
          "XGBRegressor",
          "XGBRegressor",
          "XGBRegressor",
          "XGBRegressor",
          "XGBRegressor",
          "XGBRegressor",
          "XGBRegressor",
          "XGBRegressor",
          "XGBRegressor",
          "XGBRegressor",
          "XGBRegressor",
          "XGBRegressor",
          "XGBRegressor",
          "XGBRegressor",
          "XGBRegressor",
          "XGBRegressor",
          "XGBRegressor",
          "XGBRegressor",
          "XGBRegressor",
          "XGBRegressor",
          "XGBRegressor",
          "XGBRegressor",
          "XGBRegressor",
          "XGBRegressor",
          "XGBRegressor",
          "XGBRegressor",
          "XGBRegressor",
          "XGBRegressor",
          "XGBRegressor",
          "XGBRegressor",
          "XGBRegressor",
          "XGBRegressor",
          "XGBRegressor",
          "XGBRegressor",
          "XGBRegressor",
          "XGBRegressor",
          "XGBRegressor",
          "XGBRegressor"
         ],
         "legendgroup": "XGBRegressor",
         "line": {
          "color": "#46bac2",
          "dash": "solid",
          "width": 2
         },
         "marker": {
          "symbol": "circle"
         },
         "mode": "lines",
         "name": "XGBRegressor",
         "opacity": 1,
         "orientation": "v",
         "showlegend": false,
         "type": "scatter",
         "x": [
          10.978518939548069,
          11.509406424543593,
          12.040293909539116,
          12.57118139453464,
          13.102068879530165,
          13.63295636452569,
          14.163843849521214,
          14.694731334516737,
          15.225618819512261,
          15.756506304507786,
          16.28739378950331,
          16.818281274498833,
          17.349168759494358,
          17.880056244489882,
          18.410943729485407,
          18.941831214480928,
          19.472718699476452,
          20.003606184471977,
          20.5344936694675,
          21.065381154463026,
          21.59626863945855,
          22.127156124454075,
          22.6580436094496,
          23.188931094445124,
          23.71981857944065,
          24.250706064436173,
          24.781593549431697,
          25.31248103442722,
          25.843368519422743,
          26.374256004418267,
          26.90514348941379,
          27.436030974409313,
          27.966918459404837,
          28.497805944400362,
          29.028693429395886,
          29.55958091439141,
          30.090468399386936,
          30.62135588438246,
          31.152243369377985,
          31.68313085437351,
          32.214018339369034,
          32.74490582436456,
          33.27579330936008,
          33.80668079435561,
          34.337568279351125,
          34.86845576434665,
          35.399343249342174,
          35.9302307343377,
          36.46111821933322,
          36.99200570432875,
          37.52289318932427,
          38.053780674319796,
          38.58466815931532,
          39.115555644310845,
          39.64644312930637,
          40.177330614301894,
          40.70821809929742,
          41.23910558429294,
          41.76999306928847,
          42.30088055428399,
          42.83176803927951,
          43.362655524275034,
          43.89354300927056,
          44.42443049426608,
          44.95531797926161,
          45.48620546425713,
          46.01709294925266,
          46.54798043424818,
          47.078867919243706,
          47.60975540423923,
          48.140642889234755,
          48.67153037423028,
          49.202417859225804,
          49.73330534422132,
          50.264192829216846,
          50.79508031421237,
          51.325967799207895,
          51.85685528420342,
          52.387742769198944,
          52.91863025419447,
          53.44951773918999,
          53.98040522418552,
          54.51129270918104,
          55.04218019417657,
          55.57306767917209,
          56.103955164167616,
          56.63484264916314,
          57.165730134158665,
          57.69661761915418,
          58.22750510414971,
          58.75839258914523,
          59.289280074140756,
          59.82016755913628,
          60.351055044131805,
          60.88194252912733,
          61.412830014122854,
          61.94371749911838,
          62.4746049841139,
          63.00549246910943,
          63.53637995410495,
          64.06726743910048
         ],
         "xaxis": "x8",
         "y": [
          1302.92822265625,
          1302.92822265625,
          1302.92822265625,
          1302.92822265625,
          1302.92822265625,
          1302.92822265625,
          1302.92822265625,
          1302.92822265625,
          1302.92822265625,
          1302.92822265625,
          1302.92822265625,
          1302.92822265625,
          1302.92822265625,
          1302.92822265625,
          1302.92822265625,
          1302.92822265625,
          1302.92822265625,
          1302.92822265625,
          1302.92822265625,
          1302.92822265625,
          1302.92822265625,
          1302.92822265625,
          1302.92822265625,
          1302.95556640625,
          1302.95556640625,
          1302.95556640625,
          1302.95556640625,
          1302.95556640625,
          1302.95556640625,
          1302.95556640625,
          1302.95556640625,
          1302.95556640625,
          1302.95556640625,
          1303.786376953125,
          1303.786376953125,
          1303.786376953125,
          1303.786376953125,
          1303.8138427734375,
          1303.8138427734375,
          1303.8138427734375,
          1303.8138427734375,
          1303.8138427734375,
          1303.8138427734375,
          1303.8138427734375,
          1303.8138427734375,
          1303.8138427734375,
          1303.8138427734375,
          1303.8138427734375,
          1303.8138427734375,
          1303.8138427734375,
          1303.8138427734375,
          1303.8138427734375,
          1303.8138427734375,
          1303.8138427734375,
          1303.8138427734375,
          1303.9071044921875,
          1303.9071044921875,
          1303.9071044921875,
          1303.9071044921875,
          1303.9744873046875,
          1303.9744873046875,
          1303.9744873046875,
          1303.9744873046875,
          1303.9744873046875,
          1304.021484375,
          1304.021484375,
          1304.023193359375,
          1304.023193359375,
          1304.023193359375,
          1304.023193359375,
          1304.023193359375,
          1304.023193359375,
          1304.023193359375,
          1304.04736328125,
          1304.04736328125,
          1304.04736328125,
          1304.04736328125,
          1304.04736328125,
          1304.04736328125,
          1304.04736328125,
          1304.04736328125,
          1304.04736328125,
          1304.04736328125,
          1304.04736328125,
          1304.04736328125,
          1304.04736328125,
          1304.04736328125,
          1304.04736328125,
          1304.04736328125,
          1304.053955078125,
          1304.053955078125,
          1304.053955078125,
          1304.053955078125,
          1304.053955078125,
          1304.0479736328125,
          1304.097412109375,
          1304.097412109375,
          1304.097412109375,
          1304.097412109375,
          1304.097412109375,
          1304.097412109375
         ],
         "yaxis": "y8"
        },
        {
         "customdata": [
          [
           1304.0447998046875,
           "XGBRegressor",
           "REG NADAWY KONCENTRATU LIW2 Mg/h_avg_30-45"
          ],
          [
           1304.0447998046875,
           "XGBRegressor",
           "REG NADAWY KONCENTRATU LIW2 Mg/h_avg_30-45"
          ],
          [
           1304.0447998046875,
           "XGBRegressor",
           "REG NADAWY KONCENTRATU LIW2 Mg/h_avg_30-45"
          ],
          [
           1304.0447998046875,
           "XGBRegressor",
           "REG NADAWY KONCENTRATU LIW2 Mg/h_avg_30-45"
          ],
          [
           1304.0447998046875,
           "XGBRegressor",
           "REG NADAWY KONCENTRATU LIW2 Mg/h_avg_30-45"
          ],
          [
           1304.0447998046875,
           "XGBRegressor",
           "REG NADAWY KONCENTRATU LIW2 Mg/h_avg_30-45"
          ],
          [
           1304.0447998046875,
           "XGBRegressor",
           "REG NADAWY KONCENTRATU LIW2 Mg/h_avg_30-45"
          ],
          [
           1304.0447998046875,
           "XGBRegressor",
           "REG NADAWY KONCENTRATU LIW2 Mg/h_avg_30-45"
          ],
          [
           1304.0447998046875,
           "XGBRegressor",
           "REG NADAWY KONCENTRATU LIW2 Mg/h_avg_30-45"
          ],
          [
           1304.0447998046875,
           "XGBRegressor",
           "REG NADAWY KONCENTRATU LIW2 Mg/h_avg_30-45"
          ],
          [
           1304.0447998046875,
           "XGBRegressor",
           "REG NADAWY KONCENTRATU LIW2 Mg/h_avg_30-45"
          ],
          [
           1304.0447998046875,
           "XGBRegressor",
           "REG NADAWY KONCENTRATU LIW2 Mg/h_avg_30-45"
          ],
          [
           1304.0447998046875,
           "XGBRegressor",
           "REG NADAWY KONCENTRATU LIW2 Mg/h_avg_30-45"
          ],
          [
           1304.0447998046875,
           "XGBRegressor",
           "REG NADAWY KONCENTRATU LIW2 Mg/h_avg_30-45"
          ],
          [
           1304.0447998046875,
           "XGBRegressor",
           "REG NADAWY KONCENTRATU LIW2 Mg/h_avg_30-45"
          ],
          [
           1304.0447998046875,
           "XGBRegressor",
           "REG NADAWY KONCENTRATU LIW2 Mg/h_avg_30-45"
          ],
          [
           1304.0447998046875,
           "XGBRegressor",
           "REG NADAWY KONCENTRATU LIW2 Mg/h_avg_30-45"
          ],
          [
           1304.0447998046875,
           "XGBRegressor",
           "REG NADAWY KONCENTRATU LIW2 Mg/h_avg_30-45"
          ],
          [
           1304.0447998046875,
           "XGBRegressor",
           "REG NADAWY KONCENTRATU LIW2 Mg/h_avg_30-45"
          ],
          [
           1304.0447998046875,
           "XGBRegressor",
           "REG NADAWY KONCENTRATU LIW2 Mg/h_avg_30-45"
          ],
          [
           1304.0447998046875,
           "XGBRegressor",
           "REG NADAWY KONCENTRATU LIW2 Mg/h_avg_30-45"
          ],
          [
           1304.0447998046875,
           "XGBRegressor",
           "REG NADAWY KONCENTRATU LIW2 Mg/h_avg_30-45"
          ],
          [
           1304.0447998046875,
           "XGBRegressor",
           "REG NADAWY KONCENTRATU LIW2 Mg/h_avg_30-45"
          ],
          [
           1304.0447998046875,
           "XGBRegressor",
           "REG NADAWY KONCENTRATU LIW2 Mg/h_avg_30-45"
          ],
          [
           1304.0447998046875,
           "XGBRegressor",
           "REG NADAWY KONCENTRATU LIW2 Mg/h_avg_30-45"
          ],
          [
           1304.0447998046875,
           "XGBRegressor",
           "REG NADAWY KONCENTRATU LIW2 Mg/h_avg_30-45"
          ],
          [
           1304.0447998046875,
           "XGBRegressor",
           "REG NADAWY KONCENTRATU LIW2 Mg/h_avg_30-45"
          ],
          [
           1304.0447998046875,
           "XGBRegressor",
           "REG NADAWY KONCENTRATU LIW2 Mg/h_avg_30-45"
          ],
          [
           1304.0447998046875,
           "XGBRegressor",
           "REG NADAWY KONCENTRATU LIW2 Mg/h_avg_30-45"
          ],
          [
           1304.0447998046875,
           "XGBRegressor",
           "REG NADAWY KONCENTRATU LIW2 Mg/h_avg_30-45"
          ],
          [
           1304.0447998046875,
           "XGBRegressor",
           "REG NADAWY KONCENTRATU LIW2 Mg/h_avg_30-45"
          ],
          [
           1304.0447998046875,
           "XGBRegressor",
           "REG NADAWY KONCENTRATU LIW2 Mg/h_avg_30-45"
          ],
          [
           1304.0447998046875,
           "XGBRegressor",
           "REG NADAWY KONCENTRATU LIW2 Mg/h_avg_30-45"
          ],
          [
           1304.0447998046875,
           "XGBRegressor",
           "REG NADAWY KONCENTRATU LIW2 Mg/h_avg_30-45"
          ],
          [
           1304.0447998046875,
           "XGBRegressor",
           "REG NADAWY KONCENTRATU LIW2 Mg/h_avg_30-45"
          ],
          [
           1304.0447998046875,
           "XGBRegressor",
           "REG NADAWY KONCENTRATU LIW2 Mg/h_avg_30-45"
          ],
          [
           1304.0447998046875,
           "XGBRegressor",
           "REG NADAWY KONCENTRATU LIW2 Mg/h_avg_30-45"
          ],
          [
           1304.0447998046875,
           "XGBRegressor",
           "REG NADAWY KONCENTRATU LIW2 Mg/h_avg_30-45"
          ],
          [
           1304.0447998046875,
           "XGBRegressor",
           "REG NADAWY KONCENTRATU LIW2 Mg/h_avg_30-45"
          ],
          [
           1304.0447998046875,
           "XGBRegressor",
           "REG NADAWY KONCENTRATU LIW2 Mg/h_avg_30-45"
          ],
          [
           1304.0447998046875,
           "XGBRegressor",
           "REG NADAWY KONCENTRATU LIW2 Mg/h_avg_30-45"
          ],
          [
           1304.0447998046875,
           "XGBRegressor",
           "REG NADAWY KONCENTRATU LIW2 Mg/h_avg_30-45"
          ],
          [
           1304.0447998046875,
           "XGBRegressor",
           "REG NADAWY KONCENTRATU LIW2 Mg/h_avg_30-45"
          ],
          [
           1304.0447998046875,
           "XGBRegressor",
           "REG NADAWY KONCENTRATU LIW2 Mg/h_avg_30-45"
          ],
          [
           1304.0447998046875,
           "XGBRegressor",
           "REG NADAWY KONCENTRATU LIW2 Mg/h_avg_30-45"
          ],
          [
           1304.0447998046875,
           "XGBRegressor",
           "REG NADAWY KONCENTRATU LIW2 Mg/h_avg_30-45"
          ],
          [
           1304.0447998046875,
           "XGBRegressor",
           "REG NADAWY KONCENTRATU LIW2 Mg/h_avg_30-45"
          ],
          [
           1304.0447998046875,
           "XGBRegressor",
           "REG NADAWY KONCENTRATU LIW2 Mg/h_avg_30-45"
          ],
          [
           1304.0447998046875,
           "XGBRegressor",
           "REG NADAWY KONCENTRATU LIW2 Mg/h_avg_30-45"
          ],
          [
           1304.0447998046875,
           "XGBRegressor",
           "REG NADAWY KONCENTRATU LIW2 Mg/h_avg_30-45"
          ],
          [
           1304.0447998046875,
           "XGBRegressor",
           "REG NADAWY KONCENTRATU LIW2 Mg/h_avg_30-45"
          ],
          [
           1304.0447998046875,
           "XGBRegressor",
           "REG NADAWY KONCENTRATU LIW2 Mg/h_avg_30-45"
          ],
          [
           1304.0447998046875,
           "XGBRegressor",
           "REG NADAWY KONCENTRATU LIW2 Mg/h_avg_30-45"
          ],
          [
           1304.0447998046875,
           "XGBRegressor",
           "REG NADAWY KONCENTRATU LIW2 Mg/h_avg_30-45"
          ],
          [
           1304.0447998046875,
           "XGBRegressor",
           "REG NADAWY KONCENTRATU LIW2 Mg/h_avg_30-45"
          ],
          [
           1304.0447998046875,
           "XGBRegressor",
           "REG NADAWY KONCENTRATU LIW2 Mg/h_avg_30-45"
          ],
          [
           1304.0447998046875,
           "XGBRegressor",
           "REG NADAWY KONCENTRATU LIW2 Mg/h_avg_30-45"
          ],
          [
           1304.0447998046875,
           "XGBRegressor",
           "REG NADAWY KONCENTRATU LIW2 Mg/h_avg_30-45"
          ],
          [
           1304.0447998046875,
           "XGBRegressor",
           "REG NADAWY KONCENTRATU LIW2 Mg/h_avg_30-45"
          ],
          [
           1304.0447998046875,
           "XGBRegressor",
           "REG NADAWY KONCENTRATU LIW2 Mg/h_avg_30-45"
          ],
          [
           1304.0447998046875,
           "XGBRegressor",
           "REG NADAWY KONCENTRATU LIW2 Mg/h_avg_30-45"
          ],
          [
           1304.0447998046875,
           "XGBRegressor",
           "REG NADAWY KONCENTRATU LIW2 Mg/h_avg_30-45"
          ],
          [
           1304.0447998046875,
           "XGBRegressor",
           "REG NADAWY KONCENTRATU LIW2 Mg/h_avg_30-45"
          ],
          [
           1304.0447998046875,
           "XGBRegressor",
           "REG NADAWY KONCENTRATU LIW2 Mg/h_avg_30-45"
          ],
          [
           1304.0447998046875,
           "XGBRegressor",
           "REG NADAWY KONCENTRATU LIW2 Mg/h_avg_30-45"
          ],
          [
           1304.0447998046875,
           "XGBRegressor",
           "REG NADAWY KONCENTRATU LIW2 Mg/h_avg_30-45"
          ],
          [
           1304.0447998046875,
           "XGBRegressor",
           "REG NADAWY KONCENTRATU LIW2 Mg/h_avg_30-45"
          ],
          [
           1304.0447998046875,
           "XGBRegressor",
           "REG NADAWY KONCENTRATU LIW2 Mg/h_avg_30-45"
          ],
          [
           1304.0447998046875,
           "XGBRegressor",
           "REG NADAWY KONCENTRATU LIW2 Mg/h_avg_30-45"
          ],
          [
           1304.0447998046875,
           "XGBRegressor",
           "REG NADAWY KONCENTRATU LIW2 Mg/h_avg_30-45"
          ],
          [
           1304.0447998046875,
           "XGBRegressor",
           "REG NADAWY KONCENTRATU LIW2 Mg/h_avg_30-45"
          ],
          [
           1304.0447998046875,
           "XGBRegressor",
           "REG NADAWY KONCENTRATU LIW2 Mg/h_avg_30-45"
          ],
          [
           1304.0447998046875,
           "XGBRegressor",
           "REG NADAWY KONCENTRATU LIW2 Mg/h_avg_30-45"
          ],
          [
           1304.0447998046875,
           "XGBRegressor",
           "REG NADAWY KONCENTRATU LIW2 Mg/h_avg_30-45"
          ],
          [
           1304.0447998046875,
           "XGBRegressor",
           "REG NADAWY KONCENTRATU LIW2 Mg/h_avg_30-45"
          ],
          [
           1304.0447998046875,
           "XGBRegressor",
           "REG NADAWY KONCENTRATU LIW2 Mg/h_avg_30-45"
          ],
          [
           1304.0447998046875,
           "XGBRegressor",
           "REG NADAWY KONCENTRATU LIW2 Mg/h_avg_30-45"
          ],
          [
           1304.0447998046875,
           "XGBRegressor",
           "REG NADAWY KONCENTRATU LIW2 Mg/h_avg_30-45"
          ],
          [
           1304.0447998046875,
           "XGBRegressor",
           "REG NADAWY KONCENTRATU LIW2 Mg/h_avg_30-45"
          ],
          [
           1304.0447998046875,
           "XGBRegressor",
           "REG NADAWY KONCENTRATU LIW2 Mg/h_avg_30-45"
          ],
          [
           1304.0447998046875,
           "XGBRegressor",
           "REG NADAWY KONCENTRATU LIW2 Mg/h_avg_30-45"
          ],
          [
           1304.0447998046875,
           "XGBRegressor",
           "REG NADAWY KONCENTRATU LIW2 Mg/h_avg_30-45"
          ],
          [
           1304.0447998046875,
           "XGBRegressor",
           "REG NADAWY KONCENTRATU LIW2 Mg/h_avg_30-45"
          ],
          [
           1304.0447998046875,
           "XGBRegressor",
           "REG NADAWY KONCENTRATU LIW2 Mg/h_avg_30-45"
          ],
          [
           1304.0447998046875,
           "XGBRegressor",
           "REG NADAWY KONCENTRATU LIW2 Mg/h_avg_30-45"
          ],
          [
           1304.0447998046875,
           "XGBRegressor",
           "REG NADAWY KONCENTRATU LIW2 Mg/h_avg_30-45"
          ],
          [
           1304.0447998046875,
           "XGBRegressor",
           "REG NADAWY KONCENTRATU LIW2 Mg/h_avg_30-45"
          ],
          [
           1304.0447998046875,
           "XGBRegressor",
           "REG NADAWY KONCENTRATU LIW2 Mg/h_avg_30-45"
          ],
          [
           1304.0447998046875,
           "XGBRegressor",
           "REG NADAWY KONCENTRATU LIW2 Mg/h_avg_30-45"
          ],
          [
           1304.0447998046875,
           "XGBRegressor",
           "REG NADAWY KONCENTRATU LIW2 Mg/h_avg_30-45"
          ],
          [
           1304.0447998046875,
           "XGBRegressor",
           "REG NADAWY KONCENTRATU LIW2 Mg/h_avg_30-45"
          ],
          [
           1304.0447998046875,
           "XGBRegressor",
           "REG NADAWY KONCENTRATU LIW2 Mg/h_avg_30-45"
          ],
          [
           1304.0447998046875,
           "XGBRegressor",
           "REG NADAWY KONCENTRATU LIW2 Mg/h_avg_30-45"
          ],
          [
           1304.0447998046875,
           "XGBRegressor",
           "REG NADAWY KONCENTRATU LIW2 Mg/h_avg_30-45"
          ],
          [
           1304.0447998046875,
           "XGBRegressor",
           "REG NADAWY KONCENTRATU LIW2 Mg/h_avg_30-45"
          ],
          [
           1304.0447998046875,
           "XGBRegressor",
           "REG NADAWY KONCENTRATU LIW2 Mg/h_avg_30-45"
          ],
          [
           1304.0447998046875,
           "XGBRegressor",
           "REG NADAWY KONCENTRATU LIW2 Mg/h_avg_30-45"
          ],
          [
           1304.0447998046875,
           "XGBRegressor",
           "REG NADAWY KONCENTRATU LIW2 Mg/h_avg_30-45"
          ],
          [
           1304.0447998046875,
           "XGBRegressor",
           "REG NADAWY KONCENTRATU LIW2 Mg/h_avg_30-45"
          ],
          [
           1304.0447998046875,
           "XGBRegressor",
           "REG NADAWY KONCENTRATU LIW2 Mg/h_avg_30-45"
          ],
          [
           1304.0447998046875,
           "XGBRegressor",
           "REG NADAWY KONCENTRATU LIW2 Mg/h_avg_30-45"
          ]
         ],
         "hovertemplate": "<b>%{hovertext}</b><br><br>prediction=%{y:.3f}<br>mean_prediction=%{customdata[0]:.3f}<extra></extra>",
         "hovertext": [
          "XGBRegressor",
          "XGBRegressor",
          "XGBRegressor",
          "XGBRegressor",
          "XGBRegressor",
          "XGBRegressor",
          "XGBRegressor",
          "XGBRegressor",
          "XGBRegressor",
          "XGBRegressor",
          "XGBRegressor",
          "XGBRegressor",
          "XGBRegressor",
          "XGBRegressor",
          "XGBRegressor",
          "XGBRegressor",
          "XGBRegressor",
          "XGBRegressor",
          "XGBRegressor",
          "XGBRegressor",
          "XGBRegressor",
          "XGBRegressor",
          "XGBRegressor",
          "XGBRegressor",
          "XGBRegressor",
          "XGBRegressor",
          "XGBRegressor",
          "XGBRegressor",
          "XGBRegressor",
          "XGBRegressor",
          "XGBRegressor",
          "XGBRegressor",
          "XGBRegressor",
          "XGBRegressor",
          "XGBRegressor",
          "XGBRegressor",
          "XGBRegressor",
          "XGBRegressor",
          "XGBRegressor",
          "XGBRegressor",
          "XGBRegressor",
          "XGBRegressor",
          "XGBRegressor",
          "XGBRegressor",
          "XGBRegressor",
          "XGBRegressor",
          "XGBRegressor",
          "XGBRegressor",
          "XGBRegressor",
          "XGBRegressor",
          "XGBRegressor",
          "XGBRegressor",
          "XGBRegressor",
          "XGBRegressor",
          "XGBRegressor",
          "XGBRegressor",
          "XGBRegressor",
          "XGBRegressor",
          "XGBRegressor",
          "XGBRegressor",
          "XGBRegressor",
          "XGBRegressor",
          "XGBRegressor",
          "XGBRegressor",
          "XGBRegressor",
          "XGBRegressor",
          "XGBRegressor",
          "XGBRegressor",
          "XGBRegressor",
          "XGBRegressor",
          "XGBRegressor",
          "XGBRegressor",
          "XGBRegressor",
          "XGBRegressor",
          "XGBRegressor",
          "XGBRegressor",
          "XGBRegressor",
          "XGBRegressor",
          "XGBRegressor",
          "XGBRegressor",
          "XGBRegressor",
          "XGBRegressor",
          "XGBRegressor",
          "XGBRegressor",
          "XGBRegressor",
          "XGBRegressor",
          "XGBRegressor",
          "XGBRegressor",
          "XGBRegressor",
          "XGBRegressor",
          "XGBRegressor",
          "XGBRegressor",
          "XGBRegressor",
          "XGBRegressor",
          "XGBRegressor",
          "XGBRegressor",
          "XGBRegressor",
          "XGBRegressor",
          "XGBRegressor",
          "XGBRegressor",
          "XGBRegressor"
         ],
         "legendgroup": "XGBRegressor",
         "line": {
          "color": "#46bac2",
          "dash": "solid",
          "width": 2
         },
         "marker": {
          "symbol": "circle"
         },
         "mode": "lines",
         "name": "XGBRegressor",
         "opacity": 1,
         "orientation": "v",
         "showlegend": false,
         "type": "scatter",
         "x": [
          10.35042122794522,
          11.00636130328377,
          11.662301378622319,
          12.318241453960868,
          12.974181529299416,
          13.630121604637965,
          14.286061679976516,
          14.942001755315065,
          15.597941830653614,
          16.253881905992163,
          16.909821981330712,
          17.56576205666926,
          18.22170213200781,
          18.87764220734636,
          19.533582282684907,
          20.189522358023456,
          20.845462433362005,
          21.501402508700554,
          22.157342584039103,
          22.813282659377652,
          23.4692227347162,
          24.12516281005475,
          24.7811028853933,
          25.437042960731848,
          26.0929830360704,
          26.74892311140895,
          27.404863186747498,
          28.060803262086047,
          28.716743337424596,
          29.372683412763145,
          30.028623488101694,
          30.684563563440243,
          31.34050363877879,
          31.99644371411734,
          32.65238378945589,
          33.30832386479444,
          33.96426394013299,
          34.620204015471536,
          35.276144090810085,
          35.932084166148634,
          36.58802424148718,
          37.24396431682573,
          37.89990439216428,
          38.55584446750283,
          39.21178454284138,
          39.86772461817993,
          40.52366469351848,
          41.179604768857025,
          41.835544844195574,
          42.49148491953412,
          43.14742499487267,
          43.80336507021122,
          44.45930514554977,
          45.11524522088832,
          45.77118529622687,
          46.42712537156542,
          47.083065446903966,
          47.739005522242515,
          48.394945597581064,
          49.05088567291961,
          49.70682574825816,
          50.36276582359671,
          51.01870589893526,
          51.67464597427381,
          52.33058604961236,
          52.986526124950906,
          53.642466200289455,
          54.298406275628004,
          54.95434635096655,
          55.6102864263051,
          56.26622650164365,
          56.9221665769822,
          57.57810665232075,
          58.2340467276593,
          58.889986802997846,
          59.545926878336395,
          60.201866953674944,
          60.85780702901349,
          61.51374710435204,
          62.16968717969059,
          62.82562725502914,
          63.48156733036769,
          64.13750740570624,
          64.7934474810448,
          65.44938755638334,
          66.10532763172189,
          66.76126770706044,
          67.41720778239899,
          68.07314785773754,
          68.72908793307609,
          69.38502800841464,
          70.04096808375319,
          70.69690815909173,
          71.35284823443028,
          72.00878830976883,
          72.66472838510738,
          73.32066846044593,
          73.97660853578448,
          74.63254861112303,
          75.28848868646158,
          75.94442876180013
         ],
         "xaxis": "x5",
         "y": [
          1303.7987060546875,
          1303.7987060546875,
          1303.7987060546875,
          1303.7987060546875,
          1303.7987060546875,
          1303.7987060546875,
          1303.7987060546875,
          1303.7987060546875,
          1303.7987060546875,
          1303.7987060546875,
          1303.7987060546875,
          1303.7987060546875,
          1303.7987060546875,
          1303.7987060546875,
          1303.7987060546875,
          1303.7987060546875,
          1303.7987060546875,
          1303.7987060546875,
          1303.7987060546875,
          1303.7987060546875,
          1303.7987060546875,
          1303.7987060546875,
          1303.7987060546875,
          1303.7987060546875,
          1303.7987060546875,
          1303.7987060546875,
          1303.7987060546875,
          1303.7987060546875,
          1303.7987060546875,
          1303.7987060546875,
          1303.7987060546875,
          1303.7987060546875,
          1303.7987060546875,
          1303.7987060546875,
          1303.7987060546875,
          1303.7987060546875,
          1303.7987060546875,
          1303.7987060546875,
          1303.7987060546875,
          1303.7987060546875,
          1303.7987060546875,
          1303.7987060546875,
          1303.7987060546875,
          1303.7987060546875,
          1303.7987060546875,
          1303.7987060546875,
          1303.7987060546875,
          1303.7987060546875,
          1303.847900390625,
          1303.8487548828125,
          1303.9595947265625,
          1304.003173828125,
          1304.003173828125,
          1304.0499267578125,
          1304.0499267578125,
          1304.0499267578125,
          1304.0499267578125,
          1304.0499267578125,
          1304.0499267578125,
          1304.0499267578125,
          1304.0499267578125,
          1304.0499267578125,
          1304.05224609375,
          1304.05224609375,
          1304.05224609375,
          1304.05224609375,
          1304.05224609375,
          1304.05224609375,
          1304.05224609375,
          1304.05224609375,
          1304.05224609375,
          1304.05224609375,
          1304.05224609375,
          1304.05322265625,
          1304.05322265625,
          1304.05322265625,
          1304.05322265625,
          1304.05322265625,
          1304.05322265625,
          1304.05322265625,
          1304.05322265625,
          1304.0615234375,
          1304.0615234375,
          1304.0615234375,
          1304.0615234375,
          1304.0615234375,
          1304.0615234375,
          1304.0615234375,
          1304.0615234375,
          1304.0615234375,
          1304.0615234375,
          1304.0615234375,
          1304.0615234375,
          1304.0615234375,
          1304.0615234375,
          1304.0615234375,
          1304.0615234375,
          1304.0615234375,
          1304.0615234375,
          1304.0615234375,
          1304.0615234375
         ],
         "yaxis": "y5"
        },
        {
         "customdata": [
          [
           1304.0447998046875,
           "XGBRegressor",
           "REG NADAWY KONCENTRATU LIW1 Mg/h_avg_45-60"
          ],
          [
           1304.0447998046875,
           "XGBRegressor",
           "REG NADAWY KONCENTRATU LIW1 Mg/h_avg_45-60"
          ],
          [
           1304.0447998046875,
           "XGBRegressor",
           "REG NADAWY KONCENTRATU LIW1 Mg/h_avg_45-60"
          ],
          [
           1304.0447998046875,
           "XGBRegressor",
           "REG NADAWY KONCENTRATU LIW1 Mg/h_avg_45-60"
          ],
          [
           1304.0447998046875,
           "XGBRegressor",
           "REG NADAWY KONCENTRATU LIW1 Mg/h_avg_45-60"
          ],
          [
           1304.0447998046875,
           "XGBRegressor",
           "REG NADAWY KONCENTRATU LIW1 Mg/h_avg_45-60"
          ],
          [
           1304.0447998046875,
           "XGBRegressor",
           "REG NADAWY KONCENTRATU LIW1 Mg/h_avg_45-60"
          ],
          [
           1304.0447998046875,
           "XGBRegressor",
           "REG NADAWY KONCENTRATU LIW1 Mg/h_avg_45-60"
          ],
          [
           1304.0447998046875,
           "XGBRegressor",
           "REG NADAWY KONCENTRATU LIW1 Mg/h_avg_45-60"
          ],
          [
           1304.0447998046875,
           "XGBRegressor",
           "REG NADAWY KONCENTRATU LIW1 Mg/h_avg_45-60"
          ],
          [
           1304.0447998046875,
           "XGBRegressor",
           "REG NADAWY KONCENTRATU LIW1 Mg/h_avg_45-60"
          ],
          [
           1304.0447998046875,
           "XGBRegressor",
           "REG NADAWY KONCENTRATU LIW1 Mg/h_avg_45-60"
          ],
          [
           1304.0447998046875,
           "XGBRegressor",
           "REG NADAWY KONCENTRATU LIW1 Mg/h_avg_45-60"
          ],
          [
           1304.0447998046875,
           "XGBRegressor",
           "REG NADAWY KONCENTRATU LIW1 Mg/h_avg_45-60"
          ],
          [
           1304.0447998046875,
           "XGBRegressor",
           "REG NADAWY KONCENTRATU LIW1 Mg/h_avg_45-60"
          ],
          [
           1304.0447998046875,
           "XGBRegressor",
           "REG NADAWY KONCENTRATU LIW1 Mg/h_avg_45-60"
          ],
          [
           1304.0447998046875,
           "XGBRegressor",
           "REG NADAWY KONCENTRATU LIW1 Mg/h_avg_45-60"
          ],
          [
           1304.0447998046875,
           "XGBRegressor",
           "REG NADAWY KONCENTRATU LIW1 Mg/h_avg_45-60"
          ],
          [
           1304.0447998046875,
           "XGBRegressor",
           "REG NADAWY KONCENTRATU LIW1 Mg/h_avg_45-60"
          ],
          [
           1304.0447998046875,
           "XGBRegressor",
           "REG NADAWY KONCENTRATU LIW1 Mg/h_avg_45-60"
          ],
          [
           1304.0447998046875,
           "XGBRegressor",
           "REG NADAWY KONCENTRATU LIW1 Mg/h_avg_45-60"
          ],
          [
           1304.0447998046875,
           "XGBRegressor",
           "REG NADAWY KONCENTRATU LIW1 Mg/h_avg_45-60"
          ],
          [
           1304.0447998046875,
           "XGBRegressor",
           "REG NADAWY KONCENTRATU LIW1 Mg/h_avg_45-60"
          ],
          [
           1304.0447998046875,
           "XGBRegressor",
           "REG NADAWY KONCENTRATU LIW1 Mg/h_avg_45-60"
          ],
          [
           1304.0447998046875,
           "XGBRegressor",
           "REG NADAWY KONCENTRATU LIW1 Mg/h_avg_45-60"
          ],
          [
           1304.0447998046875,
           "XGBRegressor",
           "REG NADAWY KONCENTRATU LIW1 Mg/h_avg_45-60"
          ],
          [
           1304.0447998046875,
           "XGBRegressor",
           "REG NADAWY KONCENTRATU LIW1 Mg/h_avg_45-60"
          ],
          [
           1304.0447998046875,
           "XGBRegressor",
           "REG NADAWY KONCENTRATU LIW1 Mg/h_avg_45-60"
          ],
          [
           1304.0447998046875,
           "XGBRegressor",
           "REG NADAWY KONCENTRATU LIW1 Mg/h_avg_45-60"
          ],
          [
           1304.0447998046875,
           "XGBRegressor",
           "REG NADAWY KONCENTRATU LIW1 Mg/h_avg_45-60"
          ],
          [
           1304.0447998046875,
           "XGBRegressor",
           "REG NADAWY KONCENTRATU LIW1 Mg/h_avg_45-60"
          ],
          [
           1304.0447998046875,
           "XGBRegressor",
           "REG NADAWY KONCENTRATU LIW1 Mg/h_avg_45-60"
          ],
          [
           1304.0447998046875,
           "XGBRegressor",
           "REG NADAWY KONCENTRATU LIW1 Mg/h_avg_45-60"
          ],
          [
           1304.0447998046875,
           "XGBRegressor",
           "REG NADAWY KONCENTRATU LIW1 Mg/h_avg_45-60"
          ],
          [
           1304.0447998046875,
           "XGBRegressor",
           "REG NADAWY KONCENTRATU LIW1 Mg/h_avg_45-60"
          ],
          [
           1304.0447998046875,
           "XGBRegressor",
           "REG NADAWY KONCENTRATU LIW1 Mg/h_avg_45-60"
          ],
          [
           1304.0447998046875,
           "XGBRegressor",
           "REG NADAWY KONCENTRATU LIW1 Mg/h_avg_45-60"
          ],
          [
           1304.0447998046875,
           "XGBRegressor",
           "REG NADAWY KONCENTRATU LIW1 Mg/h_avg_45-60"
          ],
          [
           1304.0447998046875,
           "XGBRegressor",
           "REG NADAWY KONCENTRATU LIW1 Mg/h_avg_45-60"
          ],
          [
           1304.0447998046875,
           "XGBRegressor",
           "REG NADAWY KONCENTRATU LIW1 Mg/h_avg_45-60"
          ],
          [
           1304.0447998046875,
           "XGBRegressor",
           "REG NADAWY KONCENTRATU LIW1 Mg/h_avg_45-60"
          ],
          [
           1304.0447998046875,
           "XGBRegressor",
           "REG NADAWY KONCENTRATU LIW1 Mg/h_avg_45-60"
          ],
          [
           1304.0447998046875,
           "XGBRegressor",
           "REG NADAWY KONCENTRATU LIW1 Mg/h_avg_45-60"
          ],
          [
           1304.0447998046875,
           "XGBRegressor",
           "REG NADAWY KONCENTRATU LIW1 Mg/h_avg_45-60"
          ],
          [
           1304.0447998046875,
           "XGBRegressor",
           "REG NADAWY KONCENTRATU LIW1 Mg/h_avg_45-60"
          ],
          [
           1304.0447998046875,
           "XGBRegressor",
           "REG NADAWY KONCENTRATU LIW1 Mg/h_avg_45-60"
          ],
          [
           1304.0447998046875,
           "XGBRegressor",
           "REG NADAWY KONCENTRATU LIW1 Mg/h_avg_45-60"
          ],
          [
           1304.0447998046875,
           "XGBRegressor",
           "REG NADAWY KONCENTRATU LIW1 Mg/h_avg_45-60"
          ],
          [
           1304.0447998046875,
           "XGBRegressor",
           "REG NADAWY KONCENTRATU LIW1 Mg/h_avg_45-60"
          ],
          [
           1304.0447998046875,
           "XGBRegressor",
           "REG NADAWY KONCENTRATU LIW1 Mg/h_avg_45-60"
          ],
          [
           1304.0447998046875,
           "XGBRegressor",
           "REG NADAWY KONCENTRATU LIW1 Mg/h_avg_45-60"
          ],
          [
           1304.0447998046875,
           "XGBRegressor",
           "REG NADAWY KONCENTRATU LIW1 Mg/h_avg_45-60"
          ],
          [
           1304.0447998046875,
           "XGBRegressor",
           "REG NADAWY KONCENTRATU LIW1 Mg/h_avg_45-60"
          ],
          [
           1304.0447998046875,
           "XGBRegressor",
           "REG NADAWY KONCENTRATU LIW1 Mg/h_avg_45-60"
          ],
          [
           1304.0447998046875,
           "XGBRegressor",
           "REG NADAWY KONCENTRATU LIW1 Mg/h_avg_45-60"
          ],
          [
           1304.0447998046875,
           "XGBRegressor",
           "REG NADAWY KONCENTRATU LIW1 Mg/h_avg_45-60"
          ],
          [
           1304.0447998046875,
           "XGBRegressor",
           "REG NADAWY KONCENTRATU LIW1 Mg/h_avg_45-60"
          ],
          [
           1304.0447998046875,
           "XGBRegressor",
           "REG NADAWY KONCENTRATU LIW1 Mg/h_avg_45-60"
          ],
          [
           1304.0447998046875,
           "XGBRegressor",
           "REG NADAWY KONCENTRATU LIW1 Mg/h_avg_45-60"
          ],
          [
           1304.0447998046875,
           "XGBRegressor",
           "REG NADAWY KONCENTRATU LIW1 Mg/h_avg_45-60"
          ],
          [
           1304.0447998046875,
           "XGBRegressor",
           "REG NADAWY KONCENTRATU LIW1 Mg/h_avg_45-60"
          ],
          [
           1304.0447998046875,
           "XGBRegressor",
           "REG NADAWY KONCENTRATU LIW1 Mg/h_avg_45-60"
          ],
          [
           1304.0447998046875,
           "XGBRegressor",
           "REG NADAWY KONCENTRATU LIW1 Mg/h_avg_45-60"
          ],
          [
           1304.0447998046875,
           "XGBRegressor",
           "REG NADAWY KONCENTRATU LIW1 Mg/h_avg_45-60"
          ],
          [
           1304.0447998046875,
           "XGBRegressor",
           "REG NADAWY KONCENTRATU LIW1 Mg/h_avg_45-60"
          ],
          [
           1304.0447998046875,
           "XGBRegressor",
           "REG NADAWY KONCENTRATU LIW1 Mg/h_avg_45-60"
          ],
          [
           1304.0447998046875,
           "XGBRegressor",
           "REG NADAWY KONCENTRATU LIW1 Mg/h_avg_45-60"
          ],
          [
           1304.0447998046875,
           "XGBRegressor",
           "REG NADAWY KONCENTRATU LIW1 Mg/h_avg_45-60"
          ],
          [
           1304.0447998046875,
           "XGBRegressor",
           "REG NADAWY KONCENTRATU LIW1 Mg/h_avg_45-60"
          ],
          [
           1304.0447998046875,
           "XGBRegressor",
           "REG NADAWY KONCENTRATU LIW1 Mg/h_avg_45-60"
          ],
          [
           1304.0447998046875,
           "XGBRegressor",
           "REG NADAWY KONCENTRATU LIW1 Mg/h_avg_45-60"
          ],
          [
           1304.0447998046875,
           "XGBRegressor",
           "REG NADAWY KONCENTRATU LIW1 Mg/h_avg_45-60"
          ],
          [
           1304.0447998046875,
           "XGBRegressor",
           "REG NADAWY KONCENTRATU LIW1 Mg/h_avg_45-60"
          ],
          [
           1304.0447998046875,
           "XGBRegressor",
           "REG NADAWY KONCENTRATU LIW1 Mg/h_avg_45-60"
          ],
          [
           1304.0447998046875,
           "XGBRegressor",
           "REG NADAWY KONCENTRATU LIW1 Mg/h_avg_45-60"
          ],
          [
           1304.0447998046875,
           "XGBRegressor",
           "REG NADAWY KONCENTRATU LIW1 Mg/h_avg_45-60"
          ],
          [
           1304.0447998046875,
           "XGBRegressor",
           "REG NADAWY KONCENTRATU LIW1 Mg/h_avg_45-60"
          ],
          [
           1304.0447998046875,
           "XGBRegressor",
           "REG NADAWY KONCENTRATU LIW1 Mg/h_avg_45-60"
          ],
          [
           1304.0447998046875,
           "XGBRegressor",
           "REG NADAWY KONCENTRATU LIW1 Mg/h_avg_45-60"
          ],
          [
           1304.0447998046875,
           "XGBRegressor",
           "REG NADAWY KONCENTRATU LIW1 Mg/h_avg_45-60"
          ],
          [
           1304.0447998046875,
           "XGBRegressor",
           "REG NADAWY KONCENTRATU LIW1 Mg/h_avg_45-60"
          ],
          [
           1304.0447998046875,
           "XGBRegressor",
           "REG NADAWY KONCENTRATU LIW1 Mg/h_avg_45-60"
          ],
          [
           1304.0447998046875,
           "XGBRegressor",
           "REG NADAWY KONCENTRATU LIW1 Mg/h_avg_45-60"
          ],
          [
           1304.0447998046875,
           "XGBRegressor",
           "REG NADAWY KONCENTRATU LIW1 Mg/h_avg_45-60"
          ],
          [
           1304.0447998046875,
           "XGBRegressor",
           "REG NADAWY KONCENTRATU LIW1 Mg/h_avg_45-60"
          ],
          [
           1304.0447998046875,
           "XGBRegressor",
           "REG NADAWY KONCENTRATU LIW1 Mg/h_avg_45-60"
          ],
          [
           1304.0447998046875,
           "XGBRegressor",
           "REG NADAWY KONCENTRATU LIW1 Mg/h_avg_45-60"
          ],
          [
           1304.0447998046875,
           "XGBRegressor",
           "REG NADAWY KONCENTRATU LIW1 Mg/h_avg_45-60"
          ],
          [
           1304.0447998046875,
           "XGBRegressor",
           "REG NADAWY KONCENTRATU LIW1 Mg/h_avg_45-60"
          ],
          [
           1304.0447998046875,
           "XGBRegressor",
           "REG NADAWY KONCENTRATU LIW1 Mg/h_avg_45-60"
          ],
          [
           1304.0447998046875,
           "XGBRegressor",
           "REG NADAWY KONCENTRATU LIW1 Mg/h_avg_45-60"
          ],
          [
           1304.0447998046875,
           "XGBRegressor",
           "REG NADAWY KONCENTRATU LIW1 Mg/h_avg_45-60"
          ],
          [
           1304.0447998046875,
           "XGBRegressor",
           "REG NADAWY KONCENTRATU LIW1 Mg/h_avg_45-60"
          ],
          [
           1304.0447998046875,
           "XGBRegressor",
           "REG NADAWY KONCENTRATU LIW1 Mg/h_avg_45-60"
          ],
          [
           1304.0447998046875,
           "XGBRegressor",
           "REG NADAWY KONCENTRATU LIW1 Mg/h_avg_45-60"
          ],
          [
           1304.0447998046875,
           "XGBRegressor",
           "REG NADAWY KONCENTRATU LIW1 Mg/h_avg_45-60"
          ],
          [
           1304.0447998046875,
           "XGBRegressor",
           "REG NADAWY KONCENTRATU LIW1 Mg/h_avg_45-60"
          ],
          [
           1304.0447998046875,
           "XGBRegressor",
           "REG NADAWY KONCENTRATU LIW1 Mg/h_avg_45-60"
          ],
          [
           1304.0447998046875,
           "XGBRegressor",
           "REG NADAWY KONCENTRATU LIW1 Mg/h_avg_45-60"
          ],
          [
           1304.0447998046875,
           "XGBRegressor",
           "REG NADAWY KONCENTRATU LIW1 Mg/h_avg_45-60"
          ],
          [
           1304.0447998046875,
           "XGBRegressor",
           "REG NADAWY KONCENTRATU LIW1 Mg/h_avg_45-60"
          ]
         ],
         "hovertemplate": "<b>%{hovertext}</b><br><br>prediction=%{y:.3f}<br>mean_prediction=%{customdata[0]:.3f}<extra></extra>",
         "hovertext": [
          "XGBRegressor",
          "XGBRegressor",
          "XGBRegressor",
          "XGBRegressor",
          "XGBRegressor",
          "XGBRegressor",
          "XGBRegressor",
          "XGBRegressor",
          "XGBRegressor",
          "XGBRegressor",
          "XGBRegressor",
          "XGBRegressor",
          "XGBRegressor",
          "XGBRegressor",
          "XGBRegressor",
          "XGBRegressor",
          "XGBRegressor",
          "XGBRegressor",
          "XGBRegressor",
          "XGBRegressor",
          "XGBRegressor",
          "XGBRegressor",
          "XGBRegressor",
          "XGBRegressor",
          "XGBRegressor",
          "XGBRegressor",
          "XGBRegressor",
          "XGBRegressor",
          "XGBRegressor",
          "XGBRegressor",
          "XGBRegressor",
          "XGBRegressor",
          "XGBRegressor",
          "XGBRegressor",
          "XGBRegressor",
          "XGBRegressor",
          "XGBRegressor",
          "XGBRegressor",
          "XGBRegressor",
          "XGBRegressor",
          "XGBRegressor",
          "XGBRegressor",
          "XGBRegressor",
          "XGBRegressor",
          "XGBRegressor",
          "XGBRegressor",
          "XGBRegressor",
          "XGBRegressor",
          "XGBRegressor",
          "XGBRegressor",
          "XGBRegressor",
          "XGBRegressor",
          "XGBRegressor",
          "XGBRegressor",
          "XGBRegressor",
          "XGBRegressor",
          "XGBRegressor",
          "XGBRegressor",
          "XGBRegressor",
          "XGBRegressor",
          "XGBRegressor",
          "XGBRegressor",
          "XGBRegressor",
          "XGBRegressor",
          "XGBRegressor",
          "XGBRegressor",
          "XGBRegressor",
          "XGBRegressor",
          "XGBRegressor",
          "XGBRegressor",
          "XGBRegressor",
          "XGBRegressor",
          "XGBRegressor",
          "XGBRegressor",
          "XGBRegressor",
          "XGBRegressor",
          "XGBRegressor",
          "XGBRegressor",
          "XGBRegressor",
          "XGBRegressor",
          "XGBRegressor",
          "XGBRegressor",
          "XGBRegressor",
          "XGBRegressor",
          "XGBRegressor",
          "XGBRegressor",
          "XGBRegressor",
          "XGBRegressor",
          "XGBRegressor",
          "XGBRegressor",
          "XGBRegressor",
          "XGBRegressor",
          "XGBRegressor",
          "XGBRegressor",
          "XGBRegressor",
          "XGBRegressor",
          "XGBRegressor",
          "XGBRegressor",
          "XGBRegressor",
          "XGBRegressor",
          "XGBRegressor"
         ],
         "legendgroup": "XGBRegressor",
         "line": {
          "color": "#46bac2",
          "dash": "solid",
          "width": 2
         },
         "marker": {
          "symbol": "circle"
         },
         "mode": "lines",
         "name": "XGBRegressor",
         "opacity": 1,
         "orientation": "v",
         "showlegend": false,
         "type": "scatter",
         "x": [
          10.978518939548069,
          11.58876953570048,
          12.199020131852892,
          12.809270728005304,
          13.419521324157715,
          14.029771920310127,
          14.640022516462539,
          15.25027311261495,
          15.860523708767362,
          16.47077430491977,
          17.081024901072183,
          17.691275497224595,
          18.301526093377007,
          18.911776689529418,
          19.52202728568183,
          20.13227788183424,
          20.742528477986653,
          21.352779074139065,
          21.963029670291476,
          22.573280266443888,
          23.1835308625963,
          23.79378145874871,
          24.404032054901123,
          25.014282651053534,
          25.624533247205946,
          26.234783843358358,
          26.84503443951077,
          27.45528503566318,
          28.065535631815592,
          28.675786227968004,
          29.286036824120416,
          29.896287420272827,
          30.50653801642524,
          31.11678861257765,
          31.727039208730062,
          32.337289804882474,
          32.947540401034885,
          33.5577909971873,
          34.16804159333971,
          34.77829218949212,
          35.38854278564453,
          35.99879338179694,
          36.609043977949355,
          37.21929457410177,
          37.82954517025418,
          38.43979576640659,
          39.050046362559,
          39.66029695871141,
          40.270547554863825,
          40.880798151016236,
          41.49104874716865,
          42.10129934332106,
          42.71154993947347,
          43.32180053562588,
          43.932051131778294,
          44.542301727930706,
          45.15255232408312,
          45.76280292023553,
          46.37305351638794,
          46.98330411254035,
          47.593554708692764,
          48.203805304845176,
          48.81405590099759,
          49.42430649715,
          50.03455709330241,
          50.64480768945482,
          51.255058285607234,
          51.865308881759645,
          52.47555947791206,
          53.08581007406447,
          53.69606067021688,
          54.30631126636929,
          54.916561862521704,
          55.526812458674115,
          56.13706305482653,
          56.74731365097894,
          57.35756424713135,
          57.96781484328376,
          58.57806543943617,
          59.188316035588585,
          59.798566631741,
          60.40881722789341,
          61.01906782404582,
          61.62931842019823,
          62.23956901635064,
          62.849819612503055,
          63.460070208655466,
          64.07032080480788,
          64.68057140096029,
          65.2908219971127,
          65.90107259326511,
          66.51132318941752,
          67.12157378556994,
          67.73182438172235,
          68.34207497787476,
          68.95232557402717,
          69.56257617017958,
          70.172826766332,
          70.7830773624844,
          71.39332795863682,
          72.00357855478923
         ],
         "xaxis": "x6",
         "y": [
          1303.06201171875,
          1303.06201171875,
          1303.06201171875,
          1303.06201171875,
          1303.06201171875,
          1303.06201171875,
          1303.06201171875,
          1303.06201171875,
          1303.06201171875,
          1303.06201171875,
          1303.06201171875,
          1303.06201171875,
          1303.06201171875,
          1303.06201171875,
          1303.06201171875,
          1303.06201171875,
          1303.06201171875,
          1303.06201171875,
          1303.06201171875,
          1303.06201171875,
          1303.06201171875,
          1303.06201171875,
          1303.06201171875,
          1303.06201171875,
          1303.06201171875,
          1303.06201171875,
          1303.06201171875,
          1303.06201171875,
          1303.06201171875,
          1303.06201171875,
          1303.06201171875,
          1303.06201171875,
          1303.040771484375,
          1303.040771484375,
          1303.040771484375,
          1303.040771484375,
          1303.040771484375,
          1303.040771484375,
          1303.040771484375,
          1303.0562744140625,
          1303.14111328125,
          1303.14111328125,
          1303.14111328125,
          1303.37548828125,
          1304.0369873046875,
          1304.0369873046875,
          1304.0369873046875,
          1304.0369873046875,
          1304.0369873046875,
          1304.0369873046875,
          1304.0379638671875,
          1304.0379638671875,
          1304.0379638671875,
          1304.0379638671875,
          1304.0379638671875,
          1304.0379638671875,
          1304.081787109375,
          1304.081787109375,
          1304.081787109375,
          1304.081787109375,
          1304.081787109375,
          1304.081787109375,
          1304.081787109375,
          1304.081787109375,
          1304.081787109375,
          1304.081787109375,
          1304.081787109375,
          1304.081787109375,
          1304.081787109375,
          1304.081787109375,
          1304.074951171875,
          1304.0325927734375,
          1304.0325927734375,
          1304.0325927734375,
          1304.0325927734375,
          1304.0325927734375,
          1304.0146484375,
          1304.0146484375,
          1304.0146484375,
          1304.0155029296875,
          1303.9957275390625,
          1303.9957275390625,
          1303.9608154296875,
          1303.9608154296875,
          1303.9608154296875,
          1303.9608154296875,
          1303.9608154296875,
          1303.9608154296875,
          1303.9608154296875,
          1303.9608154296875,
          1303.9608154296875,
          1303.9608154296875,
          1303.9608154296875,
          1303.9608154296875,
          1303.9608154296875,
          1303.9608154296875,
          1303.9608154296875,
          1303.9608154296875,
          1303.9608154296875,
          1303.9608154296875,
          1303.9608154296875
         ],
         "yaxis": "y6"
        },
        {
         "customdata": [
          [
           1304.0447998046875,
           "XGBRegressor",
           "REG NADAWY KONCENTRATU LIW2 Mg/h_avg_45-60"
          ],
          [
           1304.0447998046875,
           "XGBRegressor",
           "REG NADAWY KONCENTRATU LIW2 Mg/h_avg_45-60"
          ],
          [
           1304.0447998046875,
           "XGBRegressor",
           "REG NADAWY KONCENTRATU LIW2 Mg/h_avg_45-60"
          ],
          [
           1304.0447998046875,
           "XGBRegressor",
           "REG NADAWY KONCENTRATU LIW2 Mg/h_avg_45-60"
          ],
          [
           1304.0447998046875,
           "XGBRegressor",
           "REG NADAWY KONCENTRATU LIW2 Mg/h_avg_45-60"
          ],
          [
           1304.0447998046875,
           "XGBRegressor",
           "REG NADAWY KONCENTRATU LIW2 Mg/h_avg_45-60"
          ],
          [
           1304.0447998046875,
           "XGBRegressor",
           "REG NADAWY KONCENTRATU LIW2 Mg/h_avg_45-60"
          ],
          [
           1304.0447998046875,
           "XGBRegressor",
           "REG NADAWY KONCENTRATU LIW2 Mg/h_avg_45-60"
          ],
          [
           1304.0447998046875,
           "XGBRegressor",
           "REG NADAWY KONCENTRATU LIW2 Mg/h_avg_45-60"
          ],
          [
           1304.0447998046875,
           "XGBRegressor",
           "REG NADAWY KONCENTRATU LIW2 Mg/h_avg_45-60"
          ],
          [
           1304.0447998046875,
           "XGBRegressor",
           "REG NADAWY KONCENTRATU LIW2 Mg/h_avg_45-60"
          ],
          [
           1304.0447998046875,
           "XGBRegressor",
           "REG NADAWY KONCENTRATU LIW2 Mg/h_avg_45-60"
          ],
          [
           1304.0447998046875,
           "XGBRegressor",
           "REG NADAWY KONCENTRATU LIW2 Mg/h_avg_45-60"
          ],
          [
           1304.0447998046875,
           "XGBRegressor",
           "REG NADAWY KONCENTRATU LIW2 Mg/h_avg_45-60"
          ],
          [
           1304.0447998046875,
           "XGBRegressor",
           "REG NADAWY KONCENTRATU LIW2 Mg/h_avg_45-60"
          ],
          [
           1304.0447998046875,
           "XGBRegressor",
           "REG NADAWY KONCENTRATU LIW2 Mg/h_avg_45-60"
          ],
          [
           1304.0447998046875,
           "XGBRegressor",
           "REG NADAWY KONCENTRATU LIW2 Mg/h_avg_45-60"
          ],
          [
           1304.0447998046875,
           "XGBRegressor",
           "REG NADAWY KONCENTRATU LIW2 Mg/h_avg_45-60"
          ],
          [
           1304.0447998046875,
           "XGBRegressor",
           "REG NADAWY KONCENTRATU LIW2 Mg/h_avg_45-60"
          ],
          [
           1304.0447998046875,
           "XGBRegressor",
           "REG NADAWY KONCENTRATU LIW2 Mg/h_avg_45-60"
          ],
          [
           1304.0447998046875,
           "XGBRegressor",
           "REG NADAWY KONCENTRATU LIW2 Mg/h_avg_45-60"
          ],
          [
           1304.0447998046875,
           "XGBRegressor",
           "REG NADAWY KONCENTRATU LIW2 Mg/h_avg_45-60"
          ],
          [
           1304.0447998046875,
           "XGBRegressor",
           "REG NADAWY KONCENTRATU LIW2 Mg/h_avg_45-60"
          ],
          [
           1304.0447998046875,
           "XGBRegressor",
           "REG NADAWY KONCENTRATU LIW2 Mg/h_avg_45-60"
          ],
          [
           1304.0447998046875,
           "XGBRegressor",
           "REG NADAWY KONCENTRATU LIW2 Mg/h_avg_45-60"
          ],
          [
           1304.0447998046875,
           "XGBRegressor",
           "REG NADAWY KONCENTRATU LIW2 Mg/h_avg_45-60"
          ],
          [
           1304.0447998046875,
           "XGBRegressor",
           "REG NADAWY KONCENTRATU LIW2 Mg/h_avg_45-60"
          ],
          [
           1304.0447998046875,
           "XGBRegressor",
           "REG NADAWY KONCENTRATU LIW2 Mg/h_avg_45-60"
          ],
          [
           1304.0447998046875,
           "XGBRegressor",
           "REG NADAWY KONCENTRATU LIW2 Mg/h_avg_45-60"
          ],
          [
           1304.0447998046875,
           "XGBRegressor",
           "REG NADAWY KONCENTRATU LIW2 Mg/h_avg_45-60"
          ],
          [
           1304.0447998046875,
           "XGBRegressor",
           "REG NADAWY KONCENTRATU LIW2 Mg/h_avg_45-60"
          ],
          [
           1304.0447998046875,
           "XGBRegressor",
           "REG NADAWY KONCENTRATU LIW2 Mg/h_avg_45-60"
          ],
          [
           1304.0447998046875,
           "XGBRegressor",
           "REG NADAWY KONCENTRATU LIW2 Mg/h_avg_45-60"
          ],
          [
           1304.0447998046875,
           "XGBRegressor",
           "REG NADAWY KONCENTRATU LIW2 Mg/h_avg_45-60"
          ],
          [
           1304.0447998046875,
           "XGBRegressor",
           "REG NADAWY KONCENTRATU LIW2 Mg/h_avg_45-60"
          ],
          [
           1304.0447998046875,
           "XGBRegressor",
           "REG NADAWY KONCENTRATU LIW2 Mg/h_avg_45-60"
          ],
          [
           1304.0447998046875,
           "XGBRegressor",
           "REG NADAWY KONCENTRATU LIW2 Mg/h_avg_45-60"
          ],
          [
           1304.0447998046875,
           "XGBRegressor",
           "REG NADAWY KONCENTRATU LIW2 Mg/h_avg_45-60"
          ],
          [
           1304.0447998046875,
           "XGBRegressor",
           "REG NADAWY KONCENTRATU LIW2 Mg/h_avg_45-60"
          ],
          [
           1304.0447998046875,
           "XGBRegressor",
           "REG NADAWY KONCENTRATU LIW2 Mg/h_avg_45-60"
          ],
          [
           1304.0447998046875,
           "XGBRegressor",
           "REG NADAWY KONCENTRATU LIW2 Mg/h_avg_45-60"
          ],
          [
           1304.0447998046875,
           "XGBRegressor",
           "REG NADAWY KONCENTRATU LIW2 Mg/h_avg_45-60"
          ],
          [
           1304.0447998046875,
           "XGBRegressor",
           "REG NADAWY KONCENTRATU LIW2 Mg/h_avg_45-60"
          ],
          [
           1304.0447998046875,
           "XGBRegressor",
           "REG NADAWY KONCENTRATU LIW2 Mg/h_avg_45-60"
          ],
          [
           1304.0447998046875,
           "XGBRegressor",
           "REG NADAWY KONCENTRATU LIW2 Mg/h_avg_45-60"
          ],
          [
           1304.0447998046875,
           "XGBRegressor",
           "REG NADAWY KONCENTRATU LIW2 Mg/h_avg_45-60"
          ],
          [
           1304.0447998046875,
           "XGBRegressor",
           "REG NADAWY KONCENTRATU LIW2 Mg/h_avg_45-60"
          ],
          [
           1304.0447998046875,
           "XGBRegressor",
           "REG NADAWY KONCENTRATU LIW2 Mg/h_avg_45-60"
          ],
          [
           1304.0447998046875,
           "XGBRegressor",
           "REG NADAWY KONCENTRATU LIW2 Mg/h_avg_45-60"
          ],
          [
           1304.0447998046875,
           "XGBRegressor",
           "REG NADAWY KONCENTRATU LIW2 Mg/h_avg_45-60"
          ],
          [
           1304.0447998046875,
           "XGBRegressor",
           "REG NADAWY KONCENTRATU LIW2 Mg/h_avg_45-60"
          ],
          [
           1304.0447998046875,
           "XGBRegressor",
           "REG NADAWY KONCENTRATU LIW2 Mg/h_avg_45-60"
          ],
          [
           1304.0447998046875,
           "XGBRegressor",
           "REG NADAWY KONCENTRATU LIW2 Mg/h_avg_45-60"
          ],
          [
           1304.0447998046875,
           "XGBRegressor",
           "REG NADAWY KONCENTRATU LIW2 Mg/h_avg_45-60"
          ],
          [
           1304.0447998046875,
           "XGBRegressor",
           "REG NADAWY KONCENTRATU LIW2 Mg/h_avg_45-60"
          ],
          [
           1304.0447998046875,
           "XGBRegressor",
           "REG NADAWY KONCENTRATU LIW2 Mg/h_avg_45-60"
          ],
          [
           1304.0447998046875,
           "XGBRegressor",
           "REG NADAWY KONCENTRATU LIW2 Mg/h_avg_45-60"
          ],
          [
           1304.0447998046875,
           "XGBRegressor",
           "REG NADAWY KONCENTRATU LIW2 Mg/h_avg_45-60"
          ],
          [
           1304.0447998046875,
           "XGBRegressor",
           "REG NADAWY KONCENTRATU LIW2 Mg/h_avg_45-60"
          ],
          [
           1304.0447998046875,
           "XGBRegressor",
           "REG NADAWY KONCENTRATU LIW2 Mg/h_avg_45-60"
          ],
          [
           1304.0447998046875,
           "XGBRegressor",
           "REG NADAWY KONCENTRATU LIW2 Mg/h_avg_45-60"
          ],
          [
           1304.0447998046875,
           "XGBRegressor",
           "REG NADAWY KONCENTRATU LIW2 Mg/h_avg_45-60"
          ],
          [
           1304.0447998046875,
           "XGBRegressor",
           "REG NADAWY KONCENTRATU LIW2 Mg/h_avg_45-60"
          ],
          [
           1304.0447998046875,
           "XGBRegressor",
           "REG NADAWY KONCENTRATU LIW2 Mg/h_avg_45-60"
          ],
          [
           1304.0447998046875,
           "XGBRegressor",
           "REG NADAWY KONCENTRATU LIW2 Mg/h_avg_45-60"
          ],
          [
           1304.0447998046875,
           "XGBRegressor",
           "REG NADAWY KONCENTRATU LIW2 Mg/h_avg_45-60"
          ],
          [
           1304.0447998046875,
           "XGBRegressor",
           "REG NADAWY KONCENTRATU LIW2 Mg/h_avg_45-60"
          ],
          [
           1304.0447998046875,
           "XGBRegressor",
           "REG NADAWY KONCENTRATU LIW2 Mg/h_avg_45-60"
          ],
          [
           1304.0447998046875,
           "XGBRegressor",
           "REG NADAWY KONCENTRATU LIW2 Mg/h_avg_45-60"
          ],
          [
           1304.0447998046875,
           "XGBRegressor",
           "REG NADAWY KONCENTRATU LIW2 Mg/h_avg_45-60"
          ],
          [
           1304.0447998046875,
           "XGBRegressor",
           "REG NADAWY KONCENTRATU LIW2 Mg/h_avg_45-60"
          ],
          [
           1304.0447998046875,
           "XGBRegressor",
           "REG NADAWY KONCENTRATU LIW2 Mg/h_avg_45-60"
          ],
          [
           1304.0447998046875,
           "XGBRegressor",
           "REG NADAWY KONCENTRATU LIW2 Mg/h_avg_45-60"
          ],
          [
           1304.0447998046875,
           "XGBRegressor",
           "REG NADAWY KONCENTRATU LIW2 Mg/h_avg_45-60"
          ],
          [
           1304.0447998046875,
           "XGBRegressor",
           "REG NADAWY KONCENTRATU LIW2 Mg/h_avg_45-60"
          ],
          [
           1304.0447998046875,
           "XGBRegressor",
           "REG NADAWY KONCENTRATU LIW2 Mg/h_avg_45-60"
          ],
          [
           1304.0447998046875,
           "XGBRegressor",
           "REG NADAWY KONCENTRATU LIW2 Mg/h_avg_45-60"
          ],
          [
           1304.0447998046875,
           "XGBRegressor",
           "REG NADAWY KONCENTRATU LIW2 Mg/h_avg_45-60"
          ],
          [
           1304.0447998046875,
           "XGBRegressor",
           "REG NADAWY KONCENTRATU LIW2 Mg/h_avg_45-60"
          ],
          [
           1304.0447998046875,
           "XGBRegressor",
           "REG NADAWY KONCENTRATU LIW2 Mg/h_avg_45-60"
          ],
          [
           1304.0447998046875,
           "XGBRegressor",
           "REG NADAWY KONCENTRATU LIW2 Mg/h_avg_45-60"
          ],
          [
           1304.0447998046875,
           "XGBRegressor",
           "REG NADAWY KONCENTRATU LIW2 Mg/h_avg_45-60"
          ],
          [
           1304.0447998046875,
           "XGBRegressor",
           "REG NADAWY KONCENTRATU LIW2 Mg/h_avg_45-60"
          ],
          [
           1304.0447998046875,
           "XGBRegressor",
           "REG NADAWY KONCENTRATU LIW2 Mg/h_avg_45-60"
          ],
          [
           1304.0447998046875,
           "XGBRegressor",
           "REG NADAWY KONCENTRATU LIW2 Mg/h_avg_45-60"
          ],
          [
           1304.0447998046875,
           "XGBRegressor",
           "REG NADAWY KONCENTRATU LIW2 Mg/h_avg_45-60"
          ],
          [
           1304.0447998046875,
           "XGBRegressor",
           "REG NADAWY KONCENTRATU LIW2 Mg/h_avg_45-60"
          ],
          [
           1304.0447998046875,
           "XGBRegressor",
           "REG NADAWY KONCENTRATU LIW2 Mg/h_avg_45-60"
          ],
          [
           1304.0447998046875,
           "XGBRegressor",
           "REG NADAWY KONCENTRATU LIW2 Mg/h_avg_45-60"
          ],
          [
           1304.0447998046875,
           "XGBRegressor",
           "REG NADAWY KONCENTRATU LIW2 Mg/h_avg_45-60"
          ],
          [
           1304.0447998046875,
           "XGBRegressor",
           "REG NADAWY KONCENTRATU LIW2 Mg/h_avg_45-60"
          ],
          [
           1304.0447998046875,
           "XGBRegressor",
           "REG NADAWY KONCENTRATU LIW2 Mg/h_avg_45-60"
          ],
          [
           1304.0447998046875,
           "XGBRegressor",
           "REG NADAWY KONCENTRATU LIW2 Mg/h_avg_45-60"
          ],
          [
           1304.0447998046875,
           "XGBRegressor",
           "REG NADAWY KONCENTRATU LIW2 Mg/h_avg_45-60"
          ],
          [
           1304.0447998046875,
           "XGBRegressor",
           "REG NADAWY KONCENTRATU LIW2 Mg/h_avg_45-60"
          ],
          [
           1304.0447998046875,
           "XGBRegressor",
           "REG NADAWY KONCENTRATU LIW2 Mg/h_avg_45-60"
          ],
          [
           1304.0447998046875,
           "XGBRegressor",
           "REG NADAWY KONCENTRATU LIW2 Mg/h_avg_45-60"
          ],
          [
           1304.0447998046875,
           "XGBRegressor",
           "REG NADAWY KONCENTRATU LIW2 Mg/h_avg_45-60"
          ],
          [
           1304.0447998046875,
           "XGBRegressor",
           "REG NADAWY KONCENTRATU LIW2 Mg/h_avg_45-60"
          ],
          [
           1304.0447998046875,
           "XGBRegressor",
           "REG NADAWY KONCENTRATU LIW2 Mg/h_avg_45-60"
          ],
          [
           1304.0447998046875,
           "XGBRegressor",
           "REG NADAWY KONCENTRATU LIW2 Mg/h_avg_45-60"
          ]
         ],
         "hovertemplate": "<b>%{hovertext}</b><br><br>prediction=%{y:.3f}<br>mean_prediction=%{customdata[0]:.3f}<extra></extra>",
         "hovertext": [
          "XGBRegressor",
          "XGBRegressor",
          "XGBRegressor",
          "XGBRegressor",
          "XGBRegressor",
          "XGBRegressor",
          "XGBRegressor",
          "XGBRegressor",
          "XGBRegressor",
          "XGBRegressor",
          "XGBRegressor",
          "XGBRegressor",
          "XGBRegressor",
          "XGBRegressor",
          "XGBRegressor",
          "XGBRegressor",
          "XGBRegressor",
          "XGBRegressor",
          "XGBRegressor",
          "XGBRegressor",
          "XGBRegressor",
          "XGBRegressor",
          "XGBRegressor",
          "XGBRegressor",
          "XGBRegressor",
          "XGBRegressor",
          "XGBRegressor",
          "XGBRegressor",
          "XGBRegressor",
          "XGBRegressor",
          "XGBRegressor",
          "XGBRegressor",
          "XGBRegressor",
          "XGBRegressor",
          "XGBRegressor",
          "XGBRegressor",
          "XGBRegressor",
          "XGBRegressor",
          "XGBRegressor",
          "XGBRegressor",
          "XGBRegressor",
          "XGBRegressor",
          "XGBRegressor",
          "XGBRegressor",
          "XGBRegressor",
          "XGBRegressor",
          "XGBRegressor",
          "XGBRegressor",
          "XGBRegressor",
          "XGBRegressor",
          "XGBRegressor",
          "XGBRegressor",
          "XGBRegressor",
          "XGBRegressor",
          "XGBRegressor",
          "XGBRegressor",
          "XGBRegressor",
          "XGBRegressor",
          "XGBRegressor",
          "XGBRegressor",
          "XGBRegressor",
          "XGBRegressor",
          "XGBRegressor",
          "XGBRegressor",
          "XGBRegressor",
          "XGBRegressor",
          "XGBRegressor",
          "XGBRegressor",
          "XGBRegressor",
          "XGBRegressor",
          "XGBRegressor",
          "XGBRegressor",
          "XGBRegressor",
          "XGBRegressor",
          "XGBRegressor",
          "XGBRegressor",
          "XGBRegressor",
          "XGBRegressor",
          "XGBRegressor",
          "XGBRegressor",
          "XGBRegressor",
          "XGBRegressor",
          "XGBRegressor",
          "XGBRegressor",
          "XGBRegressor",
          "XGBRegressor",
          "XGBRegressor",
          "XGBRegressor",
          "XGBRegressor",
          "XGBRegressor",
          "XGBRegressor",
          "XGBRegressor",
          "XGBRegressor",
          "XGBRegressor",
          "XGBRegressor",
          "XGBRegressor",
          "XGBRegressor",
          "XGBRegressor",
          "XGBRegressor",
          "XGBRegressor",
          "XGBRegressor"
         ],
         "legendgroup": "XGBRegressor",
         "line": {
          "color": "#46bac2",
          "dash": "solid",
          "width": 2
         },
         "marker": {
          "symbol": "circle"
         },
         "mode": "lines",
         "name": "XGBRegressor",
         "opacity": 1,
         "orientation": "v",
         "showlegend": false,
         "type": "scatter",
         "x": [
          10.315206138557858,
          10.982780982444021,
          11.650355826330186,
          12.317930670216349,
          12.985505514102513,
          13.653080357988676,
          14.320655201874839,
          14.988230045761004,
          15.655804889647166,
          16.32337973353333,
          16.990954577419494,
          17.65852942130566,
          18.32610426519182,
          18.993679109077984,
          19.661253952964145,
          20.32882879685031,
          20.996403640736474,
          21.66397848462264,
          22.331553328508804,
          22.999128172394965,
          23.66670301628113,
          24.33427786016729,
          25.001852704053455,
          25.66942754793962,
          26.33700239182578,
          27.004577235711945,
          27.67215207959811,
          28.339726923484275,
          29.007301767370436,
          29.6748766112566,
          30.342451455142765,
          31.010026299028926,
          31.67760114291509,
          32.34517598680125,
          33.012750830687416,
          33.68032567457358,
          34.347900518459745,
          35.01547536234591,
          35.68305020623207,
          36.35062505011824,
          37.0181998940044,
          37.68577473789056,
          38.353349581776726,
          39.02092442566289,
          39.688499269549055,
          40.35607411343521,
          41.023648957321385,
          41.69122380120754,
          42.3587986450937,
          43.02637348897987,
          43.69394833286603,
          44.3615231767522,
          45.02909802063836,
          45.69667286452453,
          46.36424770841069,
          47.031822552296845,
          47.699397396183016,
          48.366972240069174,
          49.034547083955346,
          49.7021219278415,
          50.369696771727675,
          51.03727161561383,
          51.70484645949999,
          52.37242130338616,
          53.03999614727232,
          53.70757099115849,
          54.37514583504465,
          55.04272067893082,
          55.71029552281698,
          56.377870366703135,
          57.04544521058931,
          57.713020054475464,
          58.380594898361636,
          59.048169742247794,
          59.71574458613395,
          60.38331943002012,
          61.05089427390628,
          61.71846911779245,
          62.38604396167861,
          63.05361880556478,
          63.72119364945094,
          64.3887684933371,
          65.05634333722327,
          65.72391818110943,
          66.3914930249956,
          67.05906786888175,
          67.72664271276793,
          68.39421755665408,
          69.06179240054024,
          69.72936724442641,
          70.39694208831257,
          71.06451693219874,
          71.7320917760849,
          72.39966661997106,
          73.06724146385723,
          73.73481630774339,
          74.40239115162954,
          75.06996599551572,
          75.73754083940187,
          76.40511568328805,
          77.0726905271742
         ],
         "xaxis": "x3",
         "y": [
          1302.4849853515625,
          1302.4849853515625,
          1302.4849853515625,
          1302.4849853515625,
          1302.4849853515625,
          1302.4849853515625,
          1302.4849853515625,
          1302.4849853515625,
          1302.4849853515625,
          1302.4849853515625,
          1302.4849853515625,
          1302.4849853515625,
          1302.4849853515625,
          1302.4849853515625,
          1302.4849853515625,
          1302.4849853515625,
          1302.4849853515625,
          1302.4849853515625,
          1302.4849853515625,
          1302.4849853515625,
          1302.4849853515625,
          1302.4849853515625,
          1302.4849853515625,
          1302.4849853515625,
          1302.4849853515625,
          1302.4849853515625,
          1302.4849853515625,
          1302.4849853515625,
          1302.4849853515625,
          1302.4849853515625,
          1302.4849853515625,
          1302.4849853515625,
          1302.4849853515625,
          1302.4849853515625,
          1302.4849853515625,
          1302.4849853515625,
          1302.4849853515625,
          1302.62255859375,
          1302.770751953125,
          1302.7254638671875,
          1302.873779296875,
          1303.3182373046875,
          1303.3182373046875,
          1303.3182373046875,
          1303.3182373046875,
          1303.7569580078125,
          1303.810546875,
          1303.810546875,
          1303.810546875,
          1303.9725341796875,
          1303.9725341796875,
          1303.9725341796875,
          1304.06396484375,
          1304.06396484375,
          1304.06396484375,
          1304.06396484375,
          1304.06396484375,
          1304.06396484375,
          1304.06396484375,
          1304.06396484375,
          1304.06396484375,
          1304.06396484375,
          1304.06396484375,
          1304.06396484375,
          1304.06396484375,
          1304.06396484375,
          1304.06396484375,
          1304.06396484375,
          1304.06396484375,
          1304.06396484375,
          1304.0728759765625,
          1304.0728759765625,
          1304.09130859375,
          1303.969482421875,
          1303.969482421875,
          1303.8748779296875,
          1303.8685302734375,
          1303.8685302734375,
          1303.8685302734375,
          1303.8685302734375,
          1303.8726806640625,
          1303.8726806640625,
          1303.89794921875,
          1303.89794921875,
          1303.89794921875,
          1303.89794921875,
          1303.89794921875,
          1303.89794921875,
          1303.89794921875,
          1303.8616943359375,
          1303.8616943359375,
          1303.8616943359375,
          1303.8616943359375,
          1303.8616943359375,
          1303.8616943359375,
          1303.8616943359375,
          1303.8616943359375,
          1303.8616943359375,
          1303.8616943359375,
          1303.8616943359375,
          1303.8616943359375
         ],
         "yaxis": "y3"
        },
        {
         "customdata": [
          [
           1304.0447998046875,
           "XGBRegressor",
           "SUMARYCZNA MOC CIEPLNA ODEBRANA - CAŁKOWITA MW_avg_15-30"
          ],
          [
           1304.0447998046875,
           "XGBRegressor",
           "SUMARYCZNA MOC CIEPLNA ODEBRANA - CAŁKOWITA MW_avg_15-30"
          ],
          [
           1304.0447998046875,
           "XGBRegressor",
           "SUMARYCZNA MOC CIEPLNA ODEBRANA - CAŁKOWITA MW_avg_15-30"
          ],
          [
           1304.0447998046875,
           "XGBRegressor",
           "SUMARYCZNA MOC CIEPLNA ODEBRANA - CAŁKOWITA MW_avg_15-30"
          ],
          [
           1304.0447998046875,
           "XGBRegressor",
           "SUMARYCZNA MOC CIEPLNA ODEBRANA - CAŁKOWITA MW_avg_15-30"
          ],
          [
           1304.0447998046875,
           "XGBRegressor",
           "SUMARYCZNA MOC CIEPLNA ODEBRANA - CAŁKOWITA MW_avg_15-30"
          ],
          [
           1304.0447998046875,
           "XGBRegressor",
           "SUMARYCZNA MOC CIEPLNA ODEBRANA - CAŁKOWITA MW_avg_15-30"
          ],
          [
           1304.0447998046875,
           "XGBRegressor",
           "SUMARYCZNA MOC CIEPLNA ODEBRANA - CAŁKOWITA MW_avg_15-30"
          ],
          [
           1304.0447998046875,
           "XGBRegressor",
           "SUMARYCZNA MOC CIEPLNA ODEBRANA - CAŁKOWITA MW_avg_15-30"
          ],
          [
           1304.0447998046875,
           "XGBRegressor",
           "SUMARYCZNA MOC CIEPLNA ODEBRANA - CAŁKOWITA MW_avg_15-30"
          ],
          [
           1304.0447998046875,
           "XGBRegressor",
           "SUMARYCZNA MOC CIEPLNA ODEBRANA - CAŁKOWITA MW_avg_15-30"
          ],
          [
           1304.0447998046875,
           "XGBRegressor",
           "SUMARYCZNA MOC CIEPLNA ODEBRANA - CAŁKOWITA MW_avg_15-30"
          ],
          [
           1304.0447998046875,
           "XGBRegressor",
           "SUMARYCZNA MOC CIEPLNA ODEBRANA - CAŁKOWITA MW_avg_15-30"
          ],
          [
           1304.0447998046875,
           "XGBRegressor",
           "SUMARYCZNA MOC CIEPLNA ODEBRANA - CAŁKOWITA MW_avg_15-30"
          ],
          [
           1304.0447998046875,
           "XGBRegressor",
           "SUMARYCZNA MOC CIEPLNA ODEBRANA - CAŁKOWITA MW_avg_15-30"
          ],
          [
           1304.0447998046875,
           "XGBRegressor",
           "SUMARYCZNA MOC CIEPLNA ODEBRANA - CAŁKOWITA MW_avg_15-30"
          ],
          [
           1304.0447998046875,
           "XGBRegressor",
           "SUMARYCZNA MOC CIEPLNA ODEBRANA - CAŁKOWITA MW_avg_15-30"
          ],
          [
           1304.0447998046875,
           "XGBRegressor",
           "SUMARYCZNA MOC CIEPLNA ODEBRANA - CAŁKOWITA MW_avg_15-30"
          ],
          [
           1304.0447998046875,
           "XGBRegressor",
           "SUMARYCZNA MOC CIEPLNA ODEBRANA - CAŁKOWITA MW_avg_15-30"
          ],
          [
           1304.0447998046875,
           "XGBRegressor",
           "SUMARYCZNA MOC CIEPLNA ODEBRANA - CAŁKOWITA MW_avg_15-30"
          ],
          [
           1304.0447998046875,
           "XGBRegressor",
           "SUMARYCZNA MOC CIEPLNA ODEBRANA - CAŁKOWITA MW_avg_15-30"
          ],
          [
           1304.0447998046875,
           "XGBRegressor",
           "SUMARYCZNA MOC CIEPLNA ODEBRANA - CAŁKOWITA MW_avg_15-30"
          ],
          [
           1304.0447998046875,
           "XGBRegressor",
           "SUMARYCZNA MOC CIEPLNA ODEBRANA - CAŁKOWITA MW_avg_15-30"
          ],
          [
           1304.0447998046875,
           "XGBRegressor",
           "SUMARYCZNA MOC CIEPLNA ODEBRANA - CAŁKOWITA MW_avg_15-30"
          ],
          [
           1304.0447998046875,
           "XGBRegressor",
           "SUMARYCZNA MOC CIEPLNA ODEBRANA - CAŁKOWITA MW_avg_15-30"
          ],
          [
           1304.0447998046875,
           "XGBRegressor",
           "SUMARYCZNA MOC CIEPLNA ODEBRANA - CAŁKOWITA MW_avg_15-30"
          ],
          [
           1304.0447998046875,
           "XGBRegressor",
           "SUMARYCZNA MOC CIEPLNA ODEBRANA - CAŁKOWITA MW_avg_15-30"
          ],
          [
           1304.0447998046875,
           "XGBRegressor",
           "SUMARYCZNA MOC CIEPLNA ODEBRANA - CAŁKOWITA MW_avg_15-30"
          ],
          [
           1304.0447998046875,
           "XGBRegressor",
           "SUMARYCZNA MOC CIEPLNA ODEBRANA - CAŁKOWITA MW_avg_15-30"
          ],
          [
           1304.0447998046875,
           "XGBRegressor",
           "SUMARYCZNA MOC CIEPLNA ODEBRANA - CAŁKOWITA MW_avg_15-30"
          ],
          [
           1304.0447998046875,
           "XGBRegressor",
           "SUMARYCZNA MOC CIEPLNA ODEBRANA - CAŁKOWITA MW_avg_15-30"
          ],
          [
           1304.0447998046875,
           "XGBRegressor",
           "SUMARYCZNA MOC CIEPLNA ODEBRANA - CAŁKOWITA MW_avg_15-30"
          ],
          [
           1304.0447998046875,
           "XGBRegressor",
           "SUMARYCZNA MOC CIEPLNA ODEBRANA - CAŁKOWITA MW_avg_15-30"
          ],
          [
           1304.0447998046875,
           "XGBRegressor",
           "SUMARYCZNA MOC CIEPLNA ODEBRANA - CAŁKOWITA MW_avg_15-30"
          ],
          [
           1304.0447998046875,
           "XGBRegressor",
           "SUMARYCZNA MOC CIEPLNA ODEBRANA - CAŁKOWITA MW_avg_15-30"
          ],
          [
           1304.0447998046875,
           "XGBRegressor",
           "SUMARYCZNA MOC CIEPLNA ODEBRANA - CAŁKOWITA MW_avg_15-30"
          ],
          [
           1304.0447998046875,
           "XGBRegressor",
           "SUMARYCZNA MOC CIEPLNA ODEBRANA - CAŁKOWITA MW_avg_15-30"
          ],
          [
           1304.0447998046875,
           "XGBRegressor",
           "SUMARYCZNA MOC CIEPLNA ODEBRANA - CAŁKOWITA MW_avg_15-30"
          ],
          [
           1304.0447998046875,
           "XGBRegressor",
           "SUMARYCZNA MOC CIEPLNA ODEBRANA - CAŁKOWITA MW_avg_15-30"
          ],
          [
           1304.0447998046875,
           "XGBRegressor",
           "SUMARYCZNA MOC CIEPLNA ODEBRANA - CAŁKOWITA MW_avg_15-30"
          ],
          [
           1304.0447998046875,
           "XGBRegressor",
           "SUMARYCZNA MOC CIEPLNA ODEBRANA - CAŁKOWITA MW_avg_15-30"
          ],
          [
           1304.0447998046875,
           "XGBRegressor",
           "SUMARYCZNA MOC CIEPLNA ODEBRANA - CAŁKOWITA MW_avg_15-30"
          ],
          [
           1304.0447998046875,
           "XGBRegressor",
           "SUMARYCZNA MOC CIEPLNA ODEBRANA - CAŁKOWITA MW_avg_15-30"
          ],
          [
           1304.0447998046875,
           "XGBRegressor",
           "SUMARYCZNA MOC CIEPLNA ODEBRANA - CAŁKOWITA MW_avg_15-30"
          ],
          [
           1304.0447998046875,
           "XGBRegressor",
           "SUMARYCZNA MOC CIEPLNA ODEBRANA - CAŁKOWITA MW_avg_15-30"
          ],
          [
           1304.0447998046875,
           "XGBRegressor",
           "SUMARYCZNA MOC CIEPLNA ODEBRANA - CAŁKOWITA MW_avg_15-30"
          ],
          [
           1304.0447998046875,
           "XGBRegressor",
           "SUMARYCZNA MOC CIEPLNA ODEBRANA - CAŁKOWITA MW_avg_15-30"
          ],
          [
           1304.0447998046875,
           "XGBRegressor",
           "SUMARYCZNA MOC CIEPLNA ODEBRANA - CAŁKOWITA MW_avg_15-30"
          ],
          [
           1304.0447998046875,
           "XGBRegressor",
           "SUMARYCZNA MOC CIEPLNA ODEBRANA - CAŁKOWITA MW_avg_15-30"
          ],
          [
           1304.0447998046875,
           "XGBRegressor",
           "SUMARYCZNA MOC CIEPLNA ODEBRANA - CAŁKOWITA MW_avg_15-30"
          ],
          [
           1304.0447998046875,
           "XGBRegressor",
           "SUMARYCZNA MOC CIEPLNA ODEBRANA - CAŁKOWITA MW_avg_15-30"
          ],
          [
           1304.0447998046875,
           "XGBRegressor",
           "SUMARYCZNA MOC CIEPLNA ODEBRANA - CAŁKOWITA MW_avg_15-30"
          ],
          [
           1304.0447998046875,
           "XGBRegressor",
           "SUMARYCZNA MOC CIEPLNA ODEBRANA - CAŁKOWITA MW_avg_15-30"
          ],
          [
           1304.0447998046875,
           "XGBRegressor",
           "SUMARYCZNA MOC CIEPLNA ODEBRANA - CAŁKOWITA MW_avg_15-30"
          ],
          [
           1304.0447998046875,
           "XGBRegressor",
           "SUMARYCZNA MOC CIEPLNA ODEBRANA - CAŁKOWITA MW_avg_15-30"
          ],
          [
           1304.0447998046875,
           "XGBRegressor",
           "SUMARYCZNA MOC CIEPLNA ODEBRANA - CAŁKOWITA MW_avg_15-30"
          ],
          [
           1304.0447998046875,
           "XGBRegressor",
           "SUMARYCZNA MOC CIEPLNA ODEBRANA - CAŁKOWITA MW_avg_15-30"
          ],
          [
           1304.0447998046875,
           "XGBRegressor",
           "SUMARYCZNA MOC CIEPLNA ODEBRANA - CAŁKOWITA MW_avg_15-30"
          ],
          [
           1304.0447998046875,
           "XGBRegressor",
           "SUMARYCZNA MOC CIEPLNA ODEBRANA - CAŁKOWITA MW_avg_15-30"
          ],
          [
           1304.0447998046875,
           "XGBRegressor",
           "SUMARYCZNA MOC CIEPLNA ODEBRANA - CAŁKOWITA MW_avg_15-30"
          ],
          [
           1304.0447998046875,
           "XGBRegressor",
           "SUMARYCZNA MOC CIEPLNA ODEBRANA - CAŁKOWITA MW_avg_15-30"
          ],
          [
           1304.0447998046875,
           "XGBRegressor",
           "SUMARYCZNA MOC CIEPLNA ODEBRANA - CAŁKOWITA MW_avg_15-30"
          ],
          [
           1304.0447998046875,
           "XGBRegressor",
           "SUMARYCZNA MOC CIEPLNA ODEBRANA - CAŁKOWITA MW_avg_15-30"
          ],
          [
           1304.0447998046875,
           "XGBRegressor",
           "SUMARYCZNA MOC CIEPLNA ODEBRANA - CAŁKOWITA MW_avg_15-30"
          ],
          [
           1304.0447998046875,
           "XGBRegressor",
           "SUMARYCZNA MOC CIEPLNA ODEBRANA - CAŁKOWITA MW_avg_15-30"
          ],
          [
           1304.0447998046875,
           "XGBRegressor",
           "SUMARYCZNA MOC CIEPLNA ODEBRANA - CAŁKOWITA MW_avg_15-30"
          ],
          [
           1304.0447998046875,
           "XGBRegressor",
           "SUMARYCZNA MOC CIEPLNA ODEBRANA - CAŁKOWITA MW_avg_15-30"
          ],
          [
           1304.0447998046875,
           "XGBRegressor",
           "SUMARYCZNA MOC CIEPLNA ODEBRANA - CAŁKOWITA MW_avg_15-30"
          ],
          [
           1304.0447998046875,
           "XGBRegressor",
           "SUMARYCZNA MOC CIEPLNA ODEBRANA - CAŁKOWITA MW_avg_15-30"
          ],
          [
           1304.0447998046875,
           "XGBRegressor",
           "SUMARYCZNA MOC CIEPLNA ODEBRANA - CAŁKOWITA MW_avg_15-30"
          ],
          [
           1304.0447998046875,
           "XGBRegressor",
           "SUMARYCZNA MOC CIEPLNA ODEBRANA - CAŁKOWITA MW_avg_15-30"
          ],
          [
           1304.0447998046875,
           "XGBRegressor",
           "SUMARYCZNA MOC CIEPLNA ODEBRANA - CAŁKOWITA MW_avg_15-30"
          ],
          [
           1304.0447998046875,
           "XGBRegressor",
           "SUMARYCZNA MOC CIEPLNA ODEBRANA - CAŁKOWITA MW_avg_15-30"
          ],
          [
           1304.0447998046875,
           "XGBRegressor",
           "SUMARYCZNA MOC CIEPLNA ODEBRANA - CAŁKOWITA MW_avg_15-30"
          ],
          [
           1304.0447998046875,
           "XGBRegressor",
           "SUMARYCZNA MOC CIEPLNA ODEBRANA - CAŁKOWITA MW_avg_15-30"
          ],
          [
           1304.0447998046875,
           "XGBRegressor",
           "SUMARYCZNA MOC CIEPLNA ODEBRANA - CAŁKOWITA MW_avg_15-30"
          ],
          [
           1304.0447998046875,
           "XGBRegressor",
           "SUMARYCZNA MOC CIEPLNA ODEBRANA - CAŁKOWITA MW_avg_15-30"
          ],
          [
           1304.0447998046875,
           "XGBRegressor",
           "SUMARYCZNA MOC CIEPLNA ODEBRANA - CAŁKOWITA MW_avg_15-30"
          ],
          [
           1304.0447998046875,
           "XGBRegressor",
           "SUMARYCZNA MOC CIEPLNA ODEBRANA - CAŁKOWITA MW_avg_15-30"
          ],
          [
           1304.0447998046875,
           "XGBRegressor",
           "SUMARYCZNA MOC CIEPLNA ODEBRANA - CAŁKOWITA MW_avg_15-30"
          ],
          [
           1304.0447998046875,
           "XGBRegressor",
           "SUMARYCZNA MOC CIEPLNA ODEBRANA - CAŁKOWITA MW_avg_15-30"
          ],
          [
           1304.0447998046875,
           "XGBRegressor",
           "SUMARYCZNA MOC CIEPLNA ODEBRANA - CAŁKOWITA MW_avg_15-30"
          ],
          [
           1304.0447998046875,
           "XGBRegressor",
           "SUMARYCZNA MOC CIEPLNA ODEBRANA - CAŁKOWITA MW_avg_15-30"
          ],
          [
           1304.0447998046875,
           "XGBRegressor",
           "SUMARYCZNA MOC CIEPLNA ODEBRANA - CAŁKOWITA MW_avg_15-30"
          ],
          [
           1304.0447998046875,
           "XGBRegressor",
           "SUMARYCZNA MOC CIEPLNA ODEBRANA - CAŁKOWITA MW_avg_15-30"
          ],
          [
           1304.0447998046875,
           "XGBRegressor",
           "SUMARYCZNA MOC CIEPLNA ODEBRANA - CAŁKOWITA MW_avg_15-30"
          ],
          [
           1304.0447998046875,
           "XGBRegressor",
           "SUMARYCZNA MOC CIEPLNA ODEBRANA - CAŁKOWITA MW_avg_15-30"
          ],
          [
           1304.0447998046875,
           "XGBRegressor",
           "SUMARYCZNA MOC CIEPLNA ODEBRANA - CAŁKOWITA MW_avg_15-30"
          ],
          [
           1304.0447998046875,
           "XGBRegressor",
           "SUMARYCZNA MOC CIEPLNA ODEBRANA - CAŁKOWITA MW_avg_15-30"
          ],
          [
           1304.0447998046875,
           "XGBRegressor",
           "SUMARYCZNA MOC CIEPLNA ODEBRANA - CAŁKOWITA MW_avg_15-30"
          ],
          [
           1304.0447998046875,
           "XGBRegressor",
           "SUMARYCZNA MOC CIEPLNA ODEBRANA - CAŁKOWITA MW_avg_15-30"
          ],
          [
           1304.0447998046875,
           "XGBRegressor",
           "SUMARYCZNA MOC CIEPLNA ODEBRANA - CAŁKOWITA MW_avg_15-30"
          ],
          [
           1304.0447998046875,
           "XGBRegressor",
           "SUMARYCZNA MOC CIEPLNA ODEBRANA - CAŁKOWITA MW_avg_15-30"
          ],
          [
           1304.0447998046875,
           "XGBRegressor",
           "SUMARYCZNA MOC CIEPLNA ODEBRANA - CAŁKOWITA MW_avg_15-30"
          ],
          [
           1304.0447998046875,
           "XGBRegressor",
           "SUMARYCZNA MOC CIEPLNA ODEBRANA - CAŁKOWITA MW_avg_15-30"
          ],
          [
           1304.0447998046875,
           "XGBRegressor",
           "SUMARYCZNA MOC CIEPLNA ODEBRANA - CAŁKOWITA MW_avg_15-30"
          ],
          [
           1304.0447998046875,
           "XGBRegressor",
           "SUMARYCZNA MOC CIEPLNA ODEBRANA - CAŁKOWITA MW_avg_15-30"
          ],
          [
           1304.0447998046875,
           "XGBRegressor",
           "SUMARYCZNA MOC CIEPLNA ODEBRANA - CAŁKOWITA MW_avg_15-30"
          ],
          [
           1304.0447998046875,
           "XGBRegressor",
           "SUMARYCZNA MOC CIEPLNA ODEBRANA - CAŁKOWITA MW_avg_15-30"
          ],
          [
           1304.0447998046875,
           "XGBRegressor",
           "SUMARYCZNA MOC CIEPLNA ODEBRANA - CAŁKOWITA MW_avg_15-30"
          ],
          [
           1304.0447998046875,
           "XGBRegressor",
           "SUMARYCZNA MOC CIEPLNA ODEBRANA - CAŁKOWITA MW_avg_15-30"
          ]
         ],
         "hovertemplate": "<b>%{hovertext}</b><br><br>prediction=%{y:.3f}<br>mean_prediction=%{customdata[0]:.3f}<extra></extra>",
         "hovertext": [
          "XGBRegressor",
          "XGBRegressor",
          "XGBRegressor",
          "XGBRegressor",
          "XGBRegressor",
          "XGBRegressor",
          "XGBRegressor",
          "XGBRegressor",
          "XGBRegressor",
          "XGBRegressor",
          "XGBRegressor",
          "XGBRegressor",
          "XGBRegressor",
          "XGBRegressor",
          "XGBRegressor",
          "XGBRegressor",
          "XGBRegressor",
          "XGBRegressor",
          "XGBRegressor",
          "XGBRegressor",
          "XGBRegressor",
          "XGBRegressor",
          "XGBRegressor",
          "XGBRegressor",
          "XGBRegressor",
          "XGBRegressor",
          "XGBRegressor",
          "XGBRegressor",
          "XGBRegressor",
          "XGBRegressor",
          "XGBRegressor",
          "XGBRegressor",
          "XGBRegressor",
          "XGBRegressor",
          "XGBRegressor",
          "XGBRegressor",
          "XGBRegressor",
          "XGBRegressor",
          "XGBRegressor",
          "XGBRegressor",
          "XGBRegressor",
          "XGBRegressor",
          "XGBRegressor",
          "XGBRegressor",
          "XGBRegressor",
          "XGBRegressor",
          "XGBRegressor",
          "XGBRegressor",
          "XGBRegressor",
          "XGBRegressor",
          "XGBRegressor",
          "XGBRegressor",
          "XGBRegressor",
          "XGBRegressor",
          "XGBRegressor",
          "XGBRegressor",
          "XGBRegressor",
          "XGBRegressor",
          "XGBRegressor",
          "XGBRegressor",
          "XGBRegressor",
          "XGBRegressor",
          "XGBRegressor",
          "XGBRegressor",
          "XGBRegressor",
          "XGBRegressor",
          "XGBRegressor",
          "XGBRegressor",
          "XGBRegressor",
          "XGBRegressor",
          "XGBRegressor",
          "XGBRegressor",
          "XGBRegressor",
          "XGBRegressor",
          "XGBRegressor",
          "XGBRegressor",
          "XGBRegressor",
          "XGBRegressor",
          "XGBRegressor",
          "XGBRegressor",
          "XGBRegressor",
          "XGBRegressor",
          "XGBRegressor",
          "XGBRegressor",
          "XGBRegressor",
          "XGBRegressor",
          "XGBRegressor",
          "XGBRegressor",
          "XGBRegressor",
          "XGBRegressor",
          "XGBRegressor",
          "XGBRegressor",
          "XGBRegressor",
          "XGBRegressor",
          "XGBRegressor",
          "XGBRegressor",
          "XGBRegressor",
          "XGBRegressor",
          "XGBRegressor",
          "XGBRegressor",
          "XGBRegressor"
         ],
         "legendgroup": "XGBRegressor",
         "line": {
          "color": "#46bac2",
          "dash": "solid",
          "width": 2
         },
         "marker": {
          "symbol": "circle"
         },
         "mode": "lines",
         "name": "XGBRegressor",
         "opacity": 1,
         "orientation": "v",
         "showlegend": false,
         "type": "scatter",
         "x": [
          8.579816510942246,
          8.771143402141993,
          8.962470293341742,
          9.153797184541489,
          9.345124075741237,
          9.536450966940984,
          9.727777858140733,
          9.91910474934048,
          10.110431640540227,
          10.301758531739976,
          10.493085422939723,
          10.684412314139472,
          10.875739205339219,
          11.067066096538966,
          11.258392987738715,
          11.449719878938462,
          11.64104677013821,
          11.832373661337957,
          12.023700552537704,
          12.215027443737453,
          12.4063543349372,
          12.597681226136949,
          12.789008117336696,
          12.980335008536443,
          13.171661899736192,
          13.362988790935939,
          13.554315682135687,
          13.745642573335434,
          13.936969464535181,
          14.12829635573493,
          14.319623246934677,
          14.510950138134426,
          14.702277029334173,
          14.89360392053392,
          15.084930811733669,
          15.276257702933416,
          15.467584594133164,
          15.658911485332911,
          15.850238376532658,
          16.04156526773241,
          16.232892158932152,
          16.424219050131903,
          16.61554594133165,
          16.806872832531397,
          16.998199723731148,
          17.18952661493089,
          17.38085350613064,
          17.57218039733039,
          17.763507288530135,
          17.954834179729886,
          18.14616107092963,
          18.33748796212938,
          18.528814853329127,
          18.720141744528874,
          18.911468635728625,
          19.102795526928368,
          19.29412241812812,
          19.485449309327866,
          19.676776200527613,
          19.868103091727363,
          20.059429982927107,
          20.250756874126857,
          20.442083765326604,
          20.63341065652635,
          20.8247375477261,
          21.016064438925845,
          21.207391330125596,
          21.398718221325343,
          21.59004511252509,
          21.78137200372484,
          21.972698894924584,
          22.164025786124334,
          22.35535267732408,
          22.546679568523828,
          22.73800645972358,
          22.929333350923322,
          23.120660242123073,
          23.31198713332282,
          23.503314024522567,
          23.694640915722317,
          23.88596780692206,
          24.07729469812181,
          24.268621589321558,
          24.459948480521305,
          24.651275371721056,
          24.8426022629208,
          25.03392915412055,
          25.2252560453203,
          25.416582936520044,
          25.607909827719794,
          25.799236718919538,
          25.99056361011929,
          26.18189050131904,
          26.373217392518782,
          26.564544283718533,
          26.755871174918276,
          26.947198066118027,
          27.138524957317777,
          27.32985184851752,
          27.52117873971727,
          27.71250563091702
         ],
         "xaxis": "x4",
         "y": [
          1304.0325927734375,
          1304.0325927734375,
          1304.0325927734375,
          1304.0325927734375,
          1304.0325927734375,
          1304.0325927734375,
          1304.0325927734375,
          1304.0325927734375,
          1304.0325927734375,
          1304.0325927734375,
          1304.0325927734375,
          1304.0325927734375,
          1304.0325927734375,
          1304.0325927734375,
          1304.0325927734375,
          1304.0325927734375,
          1304.0325927734375,
          1304.0325927734375,
          1304.0325927734375,
          1304.0325927734375,
          1304.0325927734375,
          1304.0325927734375,
          1304.0325927734375,
          1304.0325927734375,
          1304.0413818359375,
          1304.0413818359375,
          1304.0413818359375,
          1304.0413818359375,
          1304.0413818359375,
          1304.0413818359375,
          1304.0413818359375,
          1304.04736328125,
          1304.04736328125,
          1304.04736328125,
          1304.04736328125,
          1304.04736328125,
          1304.04736328125,
          1304.04736328125,
          1304.04736328125,
          1304.04736328125,
          1304.0484619140625,
          1304.0484619140625,
          1304.0484619140625,
          1304.0484619140625,
          1304.0484619140625,
          1304.05029296875,
          1304.05029296875,
          1304.05029296875,
          1304.05029296875,
          1304.05029296875,
          1304.05029296875,
          1304.05029296875,
          1304.05029296875,
          1304.05029296875,
          1304.05029296875,
          1304.05029296875,
          1304.0487060546875,
          1304.0487060546875,
          1304.0487060546875,
          1304.0487060546875,
          1304.0487060546875,
          1304.0487060546875,
          1304.0487060546875,
          1304.0487060546875,
          1304.0487060546875,
          1304.0423583984375,
          1304.0423583984375,
          1304.0423583984375,
          1304.0325927734375,
          1304.0325927734375,
          1304.0325927734375,
          1304.0325927734375,
          1304.0325927734375,
          1304.032470703125,
          1304.032470703125,
          1304.032470703125,
          1304.032470703125,
          1304.032470703125,
          1304.032470703125,
          1304.032470703125,
          1304.032470703125,
          1304.032470703125,
          1304.032470703125,
          1304.032470703125,
          1304.032470703125,
          1304.032470703125,
          1304.032470703125,
          1304.032470703125,
          1304.032470703125,
          1304.032470703125,
          1304.032470703125,
          1304.032470703125,
          1304.032470703125,
          1304.032470703125,
          1304.032470703125,
          1304.032470703125,
          1304.032470703125,
          1304.032470703125,
          1304.032470703125,
          1304.032470703125,
          1304.032470703125
         ],
         "yaxis": "y4"
        },
        {
         "customdata": [
          [
           1304.0447998046875,
           "XGBRegressor",
           "SUMARYCZNA MOC CIEPLNA ODEBRANA - CAŁKOWITA MW_avg_30-45"
          ],
          [
           1304.0447998046875,
           "XGBRegressor",
           "SUMARYCZNA MOC CIEPLNA ODEBRANA - CAŁKOWITA MW_avg_30-45"
          ],
          [
           1304.0447998046875,
           "XGBRegressor",
           "SUMARYCZNA MOC CIEPLNA ODEBRANA - CAŁKOWITA MW_avg_30-45"
          ],
          [
           1304.0447998046875,
           "XGBRegressor",
           "SUMARYCZNA MOC CIEPLNA ODEBRANA - CAŁKOWITA MW_avg_30-45"
          ],
          [
           1304.0447998046875,
           "XGBRegressor",
           "SUMARYCZNA MOC CIEPLNA ODEBRANA - CAŁKOWITA MW_avg_30-45"
          ],
          [
           1304.0447998046875,
           "XGBRegressor",
           "SUMARYCZNA MOC CIEPLNA ODEBRANA - CAŁKOWITA MW_avg_30-45"
          ],
          [
           1304.0447998046875,
           "XGBRegressor",
           "SUMARYCZNA MOC CIEPLNA ODEBRANA - CAŁKOWITA MW_avg_30-45"
          ],
          [
           1304.0447998046875,
           "XGBRegressor",
           "SUMARYCZNA MOC CIEPLNA ODEBRANA - CAŁKOWITA MW_avg_30-45"
          ],
          [
           1304.0447998046875,
           "XGBRegressor",
           "SUMARYCZNA MOC CIEPLNA ODEBRANA - CAŁKOWITA MW_avg_30-45"
          ],
          [
           1304.0447998046875,
           "XGBRegressor",
           "SUMARYCZNA MOC CIEPLNA ODEBRANA - CAŁKOWITA MW_avg_30-45"
          ],
          [
           1304.0447998046875,
           "XGBRegressor",
           "SUMARYCZNA MOC CIEPLNA ODEBRANA - CAŁKOWITA MW_avg_30-45"
          ],
          [
           1304.0447998046875,
           "XGBRegressor",
           "SUMARYCZNA MOC CIEPLNA ODEBRANA - CAŁKOWITA MW_avg_30-45"
          ],
          [
           1304.0447998046875,
           "XGBRegressor",
           "SUMARYCZNA MOC CIEPLNA ODEBRANA - CAŁKOWITA MW_avg_30-45"
          ],
          [
           1304.0447998046875,
           "XGBRegressor",
           "SUMARYCZNA MOC CIEPLNA ODEBRANA - CAŁKOWITA MW_avg_30-45"
          ],
          [
           1304.0447998046875,
           "XGBRegressor",
           "SUMARYCZNA MOC CIEPLNA ODEBRANA - CAŁKOWITA MW_avg_30-45"
          ],
          [
           1304.0447998046875,
           "XGBRegressor",
           "SUMARYCZNA MOC CIEPLNA ODEBRANA - CAŁKOWITA MW_avg_30-45"
          ],
          [
           1304.0447998046875,
           "XGBRegressor",
           "SUMARYCZNA MOC CIEPLNA ODEBRANA - CAŁKOWITA MW_avg_30-45"
          ],
          [
           1304.0447998046875,
           "XGBRegressor",
           "SUMARYCZNA MOC CIEPLNA ODEBRANA - CAŁKOWITA MW_avg_30-45"
          ],
          [
           1304.0447998046875,
           "XGBRegressor",
           "SUMARYCZNA MOC CIEPLNA ODEBRANA - CAŁKOWITA MW_avg_30-45"
          ],
          [
           1304.0447998046875,
           "XGBRegressor",
           "SUMARYCZNA MOC CIEPLNA ODEBRANA - CAŁKOWITA MW_avg_30-45"
          ],
          [
           1304.0447998046875,
           "XGBRegressor",
           "SUMARYCZNA MOC CIEPLNA ODEBRANA - CAŁKOWITA MW_avg_30-45"
          ],
          [
           1304.0447998046875,
           "XGBRegressor",
           "SUMARYCZNA MOC CIEPLNA ODEBRANA - CAŁKOWITA MW_avg_30-45"
          ],
          [
           1304.0447998046875,
           "XGBRegressor",
           "SUMARYCZNA MOC CIEPLNA ODEBRANA - CAŁKOWITA MW_avg_30-45"
          ],
          [
           1304.0447998046875,
           "XGBRegressor",
           "SUMARYCZNA MOC CIEPLNA ODEBRANA - CAŁKOWITA MW_avg_30-45"
          ],
          [
           1304.0447998046875,
           "XGBRegressor",
           "SUMARYCZNA MOC CIEPLNA ODEBRANA - CAŁKOWITA MW_avg_30-45"
          ],
          [
           1304.0447998046875,
           "XGBRegressor",
           "SUMARYCZNA MOC CIEPLNA ODEBRANA - CAŁKOWITA MW_avg_30-45"
          ],
          [
           1304.0447998046875,
           "XGBRegressor",
           "SUMARYCZNA MOC CIEPLNA ODEBRANA - CAŁKOWITA MW_avg_30-45"
          ],
          [
           1304.0447998046875,
           "XGBRegressor",
           "SUMARYCZNA MOC CIEPLNA ODEBRANA - CAŁKOWITA MW_avg_30-45"
          ],
          [
           1304.0447998046875,
           "XGBRegressor",
           "SUMARYCZNA MOC CIEPLNA ODEBRANA - CAŁKOWITA MW_avg_30-45"
          ],
          [
           1304.0447998046875,
           "XGBRegressor",
           "SUMARYCZNA MOC CIEPLNA ODEBRANA - CAŁKOWITA MW_avg_30-45"
          ],
          [
           1304.0447998046875,
           "XGBRegressor",
           "SUMARYCZNA MOC CIEPLNA ODEBRANA - CAŁKOWITA MW_avg_30-45"
          ],
          [
           1304.0447998046875,
           "XGBRegressor",
           "SUMARYCZNA MOC CIEPLNA ODEBRANA - CAŁKOWITA MW_avg_30-45"
          ],
          [
           1304.0447998046875,
           "XGBRegressor",
           "SUMARYCZNA MOC CIEPLNA ODEBRANA - CAŁKOWITA MW_avg_30-45"
          ],
          [
           1304.0447998046875,
           "XGBRegressor",
           "SUMARYCZNA MOC CIEPLNA ODEBRANA - CAŁKOWITA MW_avg_30-45"
          ],
          [
           1304.0447998046875,
           "XGBRegressor",
           "SUMARYCZNA MOC CIEPLNA ODEBRANA - CAŁKOWITA MW_avg_30-45"
          ],
          [
           1304.0447998046875,
           "XGBRegressor",
           "SUMARYCZNA MOC CIEPLNA ODEBRANA - CAŁKOWITA MW_avg_30-45"
          ],
          [
           1304.0447998046875,
           "XGBRegressor",
           "SUMARYCZNA MOC CIEPLNA ODEBRANA - CAŁKOWITA MW_avg_30-45"
          ],
          [
           1304.0447998046875,
           "XGBRegressor",
           "SUMARYCZNA MOC CIEPLNA ODEBRANA - CAŁKOWITA MW_avg_30-45"
          ],
          [
           1304.0447998046875,
           "XGBRegressor",
           "SUMARYCZNA MOC CIEPLNA ODEBRANA - CAŁKOWITA MW_avg_30-45"
          ],
          [
           1304.0447998046875,
           "XGBRegressor",
           "SUMARYCZNA MOC CIEPLNA ODEBRANA - CAŁKOWITA MW_avg_30-45"
          ],
          [
           1304.0447998046875,
           "XGBRegressor",
           "SUMARYCZNA MOC CIEPLNA ODEBRANA - CAŁKOWITA MW_avg_30-45"
          ],
          [
           1304.0447998046875,
           "XGBRegressor",
           "SUMARYCZNA MOC CIEPLNA ODEBRANA - CAŁKOWITA MW_avg_30-45"
          ],
          [
           1304.0447998046875,
           "XGBRegressor",
           "SUMARYCZNA MOC CIEPLNA ODEBRANA - CAŁKOWITA MW_avg_30-45"
          ],
          [
           1304.0447998046875,
           "XGBRegressor",
           "SUMARYCZNA MOC CIEPLNA ODEBRANA - CAŁKOWITA MW_avg_30-45"
          ],
          [
           1304.0447998046875,
           "XGBRegressor",
           "SUMARYCZNA MOC CIEPLNA ODEBRANA - CAŁKOWITA MW_avg_30-45"
          ],
          [
           1304.0447998046875,
           "XGBRegressor",
           "SUMARYCZNA MOC CIEPLNA ODEBRANA - CAŁKOWITA MW_avg_30-45"
          ],
          [
           1304.0447998046875,
           "XGBRegressor",
           "SUMARYCZNA MOC CIEPLNA ODEBRANA - CAŁKOWITA MW_avg_30-45"
          ],
          [
           1304.0447998046875,
           "XGBRegressor",
           "SUMARYCZNA MOC CIEPLNA ODEBRANA - CAŁKOWITA MW_avg_30-45"
          ],
          [
           1304.0447998046875,
           "XGBRegressor",
           "SUMARYCZNA MOC CIEPLNA ODEBRANA - CAŁKOWITA MW_avg_30-45"
          ],
          [
           1304.0447998046875,
           "XGBRegressor",
           "SUMARYCZNA MOC CIEPLNA ODEBRANA - CAŁKOWITA MW_avg_30-45"
          ],
          [
           1304.0447998046875,
           "XGBRegressor",
           "SUMARYCZNA MOC CIEPLNA ODEBRANA - CAŁKOWITA MW_avg_30-45"
          ],
          [
           1304.0447998046875,
           "XGBRegressor",
           "SUMARYCZNA MOC CIEPLNA ODEBRANA - CAŁKOWITA MW_avg_30-45"
          ],
          [
           1304.0447998046875,
           "XGBRegressor",
           "SUMARYCZNA MOC CIEPLNA ODEBRANA - CAŁKOWITA MW_avg_30-45"
          ],
          [
           1304.0447998046875,
           "XGBRegressor",
           "SUMARYCZNA MOC CIEPLNA ODEBRANA - CAŁKOWITA MW_avg_30-45"
          ],
          [
           1304.0447998046875,
           "XGBRegressor",
           "SUMARYCZNA MOC CIEPLNA ODEBRANA - CAŁKOWITA MW_avg_30-45"
          ],
          [
           1304.0447998046875,
           "XGBRegressor",
           "SUMARYCZNA MOC CIEPLNA ODEBRANA - CAŁKOWITA MW_avg_30-45"
          ],
          [
           1304.0447998046875,
           "XGBRegressor",
           "SUMARYCZNA MOC CIEPLNA ODEBRANA - CAŁKOWITA MW_avg_30-45"
          ],
          [
           1304.0447998046875,
           "XGBRegressor",
           "SUMARYCZNA MOC CIEPLNA ODEBRANA - CAŁKOWITA MW_avg_30-45"
          ],
          [
           1304.0447998046875,
           "XGBRegressor",
           "SUMARYCZNA MOC CIEPLNA ODEBRANA - CAŁKOWITA MW_avg_30-45"
          ],
          [
           1304.0447998046875,
           "XGBRegressor",
           "SUMARYCZNA MOC CIEPLNA ODEBRANA - CAŁKOWITA MW_avg_30-45"
          ],
          [
           1304.0447998046875,
           "XGBRegressor",
           "SUMARYCZNA MOC CIEPLNA ODEBRANA - CAŁKOWITA MW_avg_30-45"
          ],
          [
           1304.0447998046875,
           "XGBRegressor",
           "SUMARYCZNA MOC CIEPLNA ODEBRANA - CAŁKOWITA MW_avg_30-45"
          ],
          [
           1304.0447998046875,
           "XGBRegressor",
           "SUMARYCZNA MOC CIEPLNA ODEBRANA - CAŁKOWITA MW_avg_30-45"
          ],
          [
           1304.0447998046875,
           "XGBRegressor",
           "SUMARYCZNA MOC CIEPLNA ODEBRANA - CAŁKOWITA MW_avg_30-45"
          ],
          [
           1304.0447998046875,
           "XGBRegressor",
           "SUMARYCZNA MOC CIEPLNA ODEBRANA - CAŁKOWITA MW_avg_30-45"
          ],
          [
           1304.0447998046875,
           "XGBRegressor",
           "SUMARYCZNA MOC CIEPLNA ODEBRANA - CAŁKOWITA MW_avg_30-45"
          ],
          [
           1304.0447998046875,
           "XGBRegressor",
           "SUMARYCZNA MOC CIEPLNA ODEBRANA - CAŁKOWITA MW_avg_30-45"
          ],
          [
           1304.0447998046875,
           "XGBRegressor",
           "SUMARYCZNA MOC CIEPLNA ODEBRANA - CAŁKOWITA MW_avg_30-45"
          ],
          [
           1304.0447998046875,
           "XGBRegressor",
           "SUMARYCZNA MOC CIEPLNA ODEBRANA - CAŁKOWITA MW_avg_30-45"
          ],
          [
           1304.0447998046875,
           "XGBRegressor",
           "SUMARYCZNA MOC CIEPLNA ODEBRANA - CAŁKOWITA MW_avg_30-45"
          ],
          [
           1304.0447998046875,
           "XGBRegressor",
           "SUMARYCZNA MOC CIEPLNA ODEBRANA - CAŁKOWITA MW_avg_30-45"
          ],
          [
           1304.0447998046875,
           "XGBRegressor",
           "SUMARYCZNA MOC CIEPLNA ODEBRANA - CAŁKOWITA MW_avg_30-45"
          ],
          [
           1304.0447998046875,
           "XGBRegressor",
           "SUMARYCZNA MOC CIEPLNA ODEBRANA - CAŁKOWITA MW_avg_30-45"
          ],
          [
           1304.0447998046875,
           "XGBRegressor",
           "SUMARYCZNA MOC CIEPLNA ODEBRANA - CAŁKOWITA MW_avg_30-45"
          ],
          [
           1304.0447998046875,
           "XGBRegressor",
           "SUMARYCZNA MOC CIEPLNA ODEBRANA - CAŁKOWITA MW_avg_30-45"
          ],
          [
           1304.0447998046875,
           "XGBRegressor",
           "SUMARYCZNA MOC CIEPLNA ODEBRANA - CAŁKOWITA MW_avg_30-45"
          ],
          [
           1304.0447998046875,
           "XGBRegressor",
           "SUMARYCZNA MOC CIEPLNA ODEBRANA - CAŁKOWITA MW_avg_30-45"
          ],
          [
           1304.0447998046875,
           "XGBRegressor",
           "SUMARYCZNA MOC CIEPLNA ODEBRANA - CAŁKOWITA MW_avg_30-45"
          ],
          [
           1304.0447998046875,
           "XGBRegressor",
           "SUMARYCZNA MOC CIEPLNA ODEBRANA - CAŁKOWITA MW_avg_30-45"
          ],
          [
           1304.0447998046875,
           "XGBRegressor",
           "SUMARYCZNA MOC CIEPLNA ODEBRANA - CAŁKOWITA MW_avg_30-45"
          ],
          [
           1304.0447998046875,
           "XGBRegressor",
           "SUMARYCZNA MOC CIEPLNA ODEBRANA - CAŁKOWITA MW_avg_30-45"
          ],
          [
           1304.0447998046875,
           "XGBRegressor",
           "SUMARYCZNA MOC CIEPLNA ODEBRANA - CAŁKOWITA MW_avg_30-45"
          ],
          [
           1304.0447998046875,
           "XGBRegressor",
           "SUMARYCZNA MOC CIEPLNA ODEBRANA - CAŁKOWITA MW_avg_30-45"
          ],
          [
           1304.0447998046875,
           "XGBRegressor",
           "SUMARYCZNA MOC CIEPLNA ODEBRANA - CAŁKOWITA MW_avg_30-45"
          ],
          [
           1304.0447998046875,
           "XGBRegressor",
           "SUMARYCZNA MOC CIEPLNA ODEBRANA - CAŁKOWITA MW_avg_30-45"
          ],
          [
           1304.0447998046875,
           "XGBRegressor",
           "SUMARYCZNA MOC CIEPLNA ODEBRANA - CAŁKOWITA MW_avg_30-45"
          ],
          [
           1304.0447998046875,
           "XGBRegressor",
           "SUMARYCZNA MOC CIEPLNA ODEBRANA - CAŁKOWITA MW_avg_30-45"
          ],
          [
           1304.0447998046875,
           "XGBRegressor",
           "SUMARYCZNA MOC CIEPLNA ODEBRANA - CAŁKOWITA MW_avg_30-45"
          ],
          [
           1304.0447998046875,
           "XGBRegressor",
           "SUMARYCZNA MOC CIEPLNA ODEBRANA - CAŁKOWITA MW_avg_30-45"
          ],
          [
           1304.0447998046875,
           "XGBRegressor",
           "SUMARYCZNA MOC CIEPLNA ODEBRANA - CAŁKOWITA MW_avg_30-45"
          ],
          [
           1304.0447998046875,
           "XGBRegressor",
           "SUMARYCZNA MOC CIEPLNA ODEBRANA - CAŁKOWITA MW_avg_30-45"
          ],
          [
           1304.0447998046875,
           "XGBRegressor",
           "SUMARYCZNA MOC CIEPLNA ODEBRANA - CAŁKOWITA MW_avg_30-45"
          ],
          [
           1304.0447998046875,
           "XGBRegressor",
           "SUMARYCZNA MOC CIEPLNA ODEBRANA - CAŁKOWITA MW_avg_30-45"
          ],
          [
           1304.0447998046875,
           "XGBRegressor",
           "SUMARYCZNA MOC CIEPLNA ODEBRANA - CAŁKOWITA MW_avg_30-45"
          ],
          [
           1304.0447998046875,
           "XGBRegressor",
           "SUMARYCZNA MOC CIEPLNA ODEBRANA - CAŁKOWITA MW_avg_30-45"
          ],
          [
           1304.0447998046875,
           "XGBRegressor",
           "SUMARYCZNA MOC CIEPLNA ODEBRANA - CAŁKOWITA MW_avg_30-45"
          ],
          [
           1304.0447998046875,
           "XGBRegressor",
           "SUMARYCZNA MOC CIEPLNA ODEBRANA - CAŁKOWITA MW_avg_30-45"
          ],
          [
           1304.0447998046875,
           "XGBRegressor",
           "SUMARYCZNA MOC CIEPLNA ODEBRANA - CAŁKOWITA MW_avg_30-45"
          ],
          [
           1304.0447998046875,
           "XGBRegressor",
           "SUMARYCZNA MOC CIEPLNA ODEBRANA - CAŁKOWITA MW_avg_30-45"
          ],
          [
           1304.0447998046875,
           "XGBRegressor",
           "SUMARYCZNA MOC CIEPLNA ODEBRANA - CAŁKOWITA MW_avg_30-45"
          ],
          [
           1304.0447998046875,
           "XGBRegressor",
           "SUMARYCZNA MOC CIEPLNA ODEBRANA - CAŁKOWITA MW_avg_30-45"
          ]
         ],
         "hovertemplate": "<b>%{hovertext}</b><br><br>prediction=%{y:.3f}<br>mean_prediction=%{customdata[0]:.3f}<extra></extra>",
         "hovertext": [
          "XGBRegressor",
          "XGBRegressor",
          "XGBRegressor",
          "XGBRegressor",
          "XGBRegressor",
          "XGBRegressor",
          "XGBRegressor",
          "XGBRegressor",
          "XGBRegressor",
          "XGBRegressor",
          "XGBRegressor",
          "XGBRegressor",
          "XGBRegressor",
          "XGBRegressor",
          "XGBRegressor",
          "XGBRegressor",
          "XGBRegressor",
          "XGBRegressor",
          "XGBRegressor",
          "XGBRegressor",
          "XGBRegressor",
          "XGBRegressor",
          "XGBRegressor",
          "XGBRegressor",
          "XGBRegressor",
          "XGBRegressor",
          "XGBRegressor",
          "XGBRegressor",
          "XGBRegressor",
          "XGBRegressor",
          "XGBRegressor",
          "XGBRegressor",
          "XGBRegressor",
          "XGBRegressor",
          "XGBRegressor",
          "XGBRegressor",
          "XGBRegressor",
          "XGBRegressor",
          "XGBRegressor",
          "XGBRegressor",
          "XGBRegressor",
          "XGBRegressor",
          "XGBRegressor",
          "XGBRegressor",
          "XGBRegressor",
          "XGBRegressor",
          "XGBRegressor",
          "XGBRegressor",
          "XGBRegressor",
          "XGBRegressor",
          "XGBRegressor",
          "XGBRegressor",
          "XGBRegressor",
          "XGBRegressor",
          "XGBRegressor",
          "XGBRegressor",
          "XGBRegressor",
          "XGBRegressor",
          "XGBRegressor",
          "XGBRegressor",
          "XGBRegressor",
          "XGBRegressor",
          "XGBRegressor",
          "XGBRegressor",
          "XGBRegressor",
          "XGBRegressor",
          "XGBRegressor",
          "XGBRegressor",
          "XGBRegressor",
          "XGBRegressor",
          "XGBRegressor",
          "XGBRegressor",
          "XGBRegressor",
          "XGBRegressor",
          "XGBRegressor",
          "XGBRegressor",
          "XGBRegressor",
          "XGBRegressor",
          "XGBRegressor",
          "XGBRegressor",
          "XGBRegressor",
          "XGBRegressor",
          "XGBRegressor",
          "XGBRegressor",
          "XGBRegressor",
          "XGBRegressor",
          "XGBRegressor",
          "XGBRegressor",
          "XGBRegressor",
          "XGBRegressor",
          "XGBRegressor",
          "XGBRegressor",
          "XGBRegressor",
          "XGBRegressor",
          "XGBRegressor",
          "XGBRegressor",
          "XGBRegressor",
          "XGBRegressor",
          "XGBRegressor",
          "XGBRegressor",
          "XGBRegressor"
         ],
         "legendgroup": "XGBRegressor",
         "line": {
          "color": "#46bac2",
          "dash": "solid",
          "width": 2
         },
         "marker": {
          "symbol": "circle"
         },
         "mode": "lines",
         "name": "XGBRegressor",
         "opacity": 1,
         "orientation": "v",
         "showlegend": false,
         "type": "scatter",
         "x": [
          8.579816510942246,
          8.771143402141993,
          8.962470293341742,
          9.153797184541489,
          9.345124075741237,
          9.536450966940984,
          9.727777858140733,
          9.91910474934048,
          10.110431640540227,
          10.301758531739976,
          10.493085422939723,
          10.684412314139472,
          10.875739205339219,
          11.067066096538966,
          11.258392987738715,
          11.449719878938462,
          11.64104677013821,
          11.832373661337957,
          12.023700552537704,
          12.215027443737453,
          12.4063543349372,
          12.597681226136949,
          12.789008117336696,
          12.980335008536443,
          13.171661899736192,
          13.362988790935939,
          13.554315682135687,
          13.745642573335434,
          13.936969464535181,
          14.12829635573493,
          14.319623246934677,
          14.510950138134426,
          14.702277029334173,
          14.89360392053392,
          15.084930811733669,
          15.276257702933416,
          15.467584594133164,
          15.658911485332911,
          15.850238376532658,
          16.04156526773241,
          16.232892158932152,
          16.424219050131903,
          16.61554594133165,
          16.806872832531397,
          16.998199723731148,
          17.18952661493089,
          17.38085350613064,
          17.57218039733039,
          17.763507288530135,
          17.954834179729886,
          18.14616107092963,
          18.33748796212938,
          18.528814853329127,
          18.720141744528874,
          18.911468635728625,
          19.102795526928368,
          19.29412241812812,
          19.485449309327866,
          19.676776200527613,
          19.868103091727363,
          20.059429982927107,
          20.250756874126857,
          20.442083765326604,
          20.63341065652635,
          20.8247375477261,
          21.016064438925845,
          21.207391330125596,
          21.398718221325343,
          21.59004511252509,
          21.78137200372484,
          21.972698894924584,
          22.164025786124334,
          22.35535267732408,
          22.546679568523828,
          22.73800645972358,
          22.929333350923322,
          23.120660242123073,
          23.31198713332282,
          23.503314024522567,
          23.694640915722317,
          23.88596780692206,
          24.07729469812181,
          24.268621589321558,
          24.459948480521305,
          24.651275371721056,
          24.8426022629208,
          25.03392915412055,
          25.2252560453203,
          25.416582936520044,
          25.607909827719794,
          25.799236718919538,
          25.99056361011929,
          26.18189050131904,
          26.373217392518782,
          26.564544283718533,
          26.755871174918276,
          26.947198066118027,
          27.138524957317777,
          27.32985184851752,
          27.52117873971727,
          27.71250563091702
         ],
         "xaxis": "x",
         "y": [
          1303.5975341796875,
          1303.5975341796875,
          1303.822265625,
          1303.822265625,
          1303.822265625,
          1303.822265625,
          1303.822265625,
          1303.822265625,
          1303.822265625,
          1303.822265625,
          1303.822265625,
          1303.822265625,
          1303.822265625,
          1303.822265625,
          1303.822265625,
          1303.822265625,
          1303.822265625,
          1303.822265625,
          1303.822265625,
          1303.822265625,
          1303.822265625,
          1303.8800048828125,
          1303.8800048828125,
          1303.8800048828125,
          1303.8800048828125,
          1303.8800048828125,
          1303.8800048828125,
          1303.8800048828125,
          1303.8800048828125,
          1303.8800048828125,
          1303.8800048828125,
          1303.8800048828125,
          1303.97216796875,
          1303.97216796875,
          1303.97216796875,
          1304.0540771484375,
          1304.0540771484375,
          1304.0540771484375,
          1304.0496826171875,
          1304.0496826171875,
          1304.0496826171875,
          1304.0496826171875,
          1304.0496826171875,
          1304.0496826171875,
          1304.0496826171875,
          1304.0496826171875,
          1304.0496826171875,
          1304.0496826171875,
          1304.0496826171875,
          1304.0496826171875,
          1304.0496826171875,
          1304.0496826171875,
          1304.0496826171875,
          1304.0496826171875,
          1304.0496826171875,
          1304.0496826171875,
          1304.0496826171875,
          1304.0496826171875,
          1304.0496826171875,
          1304.0496826171875,
          1304.0496826171875,
          1304.049072265625,
          1304.049072265625,
          1304.049072265625,
          1304.049072265625,
          1304.049072265625,
          1304.049072265625,
          1304.049072265625,
          1304.049072265625,
          1304.049072265625,
          1304.049072265625,
          1304.049072265625,
          1304.049072265625,
          1304.049072265625,
          1304.049072265625,
          1304.049072265625,
          1304.049072265625,
          1304.049072265625,
          1304.049072265625,
          1304.049072265625,
          1304.049072265625,
          1304.049072265625,
          1304.049072265625,
          1304.049072265625,
          1304.049072265625,
          1304.012451171875,
          1304.012451171875,
          1303.616943359375,
          1303.616943359375,
          1303.616943359375,
          1303.616943359375,
          1303.616943359375,
          1303.616943359375,
          1303.616943359375,
          1303.616943359375,
          1303.616943359375,
          1303.616943359375,
          1303.616943359375,
          1303.616943359375,
          1303.616943359375,
          1303.616943359375
         ],
         "yaxis": "y"
        },
        {
         "customdata": [
          [
           1304.0447998046875,
           "XGBRegressor",
           "SUMARYCZNA MOC CIEPLNA ODEBRANA - CAŁKOWITA MW_avg_45-60"
          ],
          [
           1304.0447998046875,
           "XGBRegressor",
           "SUMARYCZNA MOC CIEPLNA ODEBRANA - CAŁKOWITA MW_avg_45-60"
          ],
          [
           1304.0447998046875,
           "XGBRegressor",
           "SUMARYCZNA MOC CIEPLNA ODEBRANA - CAŁKOWITA MW_avg_45-60"
          ],
          [
           1304.0447998046875,
           "XGBRegressor",
           "SUMARYCZNA MOC CIEPLNA ODEBRANA - CAŁKOWITA MW_avg_45-60"
          ],
          [
           1304.0447998046875,
           "XGBRegressor",
           "SUMARYCZNA MOC CIEPLNA ODEBRANA - CAŁKOWITA MW_avg_45-60"
          ],
          [
           1304.0447998046875,
           "XGBRegressor",
           "SUMARYCZNA MOC CIEPLNA ODEBRANA - CAŁKOWITA MW_avg_45-60"
          ],
          [
           1304.0447998046875,
           "XGBRegressor",
           "SUMARYCZNA MOC CIEPLNA ODEBRANA - CAŁKOWITA MW_avg_45-60"
          ],
          [
           1304.0447998046875,
           "XGBRegressor",
           "SUMARYCZNA MOC CIEPLNA ODEBRANA - CAŁKOWITA MW_avg_45-60"
          ],
          [
           1304.0447998046875,
           "XGBRegressor",
           "SUMARYCZNA MOC CIEPLNA ODEBRANA - CAŁKOWITA MW_avg_45-60"
          ],
          [
           1304.0447998046875,
           "XGBRegressor",
           "SUMARYCZNA MOC CIEPLNA ODEBRANA - CAŁKOWITA MW_avg_45-60"
          ],
          [
           1304.0447998046875,
           "XGBRegressor",
           "SUMARYCZNA MOC CIEPLNA ODEBRANA - CAŁKOWITA MW_avg_45-60"
          ],
          [
           1304.0447998046875,
           "XGBRegressor",
           "SUMARYCZNA MOC CIEPLNA ODEBRANA - CAŁKOWITA MW_avg_45-60"
          ],
          [
           1304.0447998046875,
           "XGBRegressor",
           "SUMARYCZNA MOC CIEPLNA ODEBRANA - CAŁKOWITA MW_avg_45-60"
          ],
          [
           1304.0447998046875,
           "XGBRegressor",
           "SUMARYCZNA MOC CIEPLNA ODEBRANA - CAŁKOWITA MW_avg_45-60"
          ],
          [
           1304.0447998046875,
           "XGBRegressor",
           "SUMARYCZNA MOC CIEPLNA ODEBRANA - CAŁKOWITA MW_avg_45-60"
          ],
          [
           1304.0447998046875,
           "XGBRegressor",
           "SUMARYCZNA MOC CIEPLNA ODEBRANA - CAŁKOWITA MW_avg_45-60"
          ],
          [
           1304.0447998046875,
           "XGBRegressor",
           "SUMARYCZNA MOC CIEPLNA ODEBRANA - CAŁKOWITA MW_avg_45-60"
          ],
          [
           1304.0447998046875,
           "XGBRegressor",
           "SUMARYCZNA MOC CIEPLNA ODEBRANA - CAŁKOWITA MW_avg_45-60"
          ],
          [
           1304.0447998046875,
           "XGBRegressor",
           "SUMARYCZNA MOC CIEPLNA ODEBRANA - CAŁKOWITA MW_avg_45-60"
          ],
          [
           1304.0447998046875,
           "XGBRegressor",
           "SUMARYCZNA MOC CIEPLNA ODEBRANA - CAŁKOWITA MW_avg_45-60"
          ],
          [
           1304.0447998046875,
           "XGBRegressor",
           "SUMARYCZNA MOC CIEPLNA ODEBRANA - CAŁKOWITA MW_avg_45-60"
          ],
          [
           1304.0447998046875,
           "XGBRegressor",
           "SUMARYCZNA MOC CIEPLNA ODEBRANA - CAŁKOWITA MW_avg_45-60"
          ],
          [
           1304.0447998046875,
           "XGBRegressor",
           "SUMARYCZNA MOC CIEPLNA ODEBRANA - CAŁKOWITA MW_avg_45-60"
          ],
          [
           1304.0447998046875,
           "XGBRegressor",
           "SUMARYCZNA MOC CIEPLNA ODEBRANA - CAŁKOWITA MW_avg_45-60"
          ],
          [
           1304.0447998046875,
           "XGBRegressor",
           "SUMARYCZNA MOC CIEPLNA ODEBRANA - CAŁKOWITA MW_avg_45-60"
          ],
          [
           1304.0447998046875,
           "XGBRegressor",
           "SUMARYCZNA MOC CIEPLNA ODEBRANA - CAŁKOWITA MW_avg_45-60"
          ],
          [
           1304.0447998046875,
           "XGBRegressor",
           "SUMARYCZNA MOC CIEPLNA ODEBRANA - CAŁKOWITA MW_avg_45-60"
          ],
          [
           1304.0447998046875,
           "XGBRegressor",
           "SUMARYCZNA MOC CIEPLNA ODEBRANA - CAŁKOWITA MW_avg_45-60"
          ],
          [
           1304.0447998046875,
           "XGBRegressor",
           "SUMARYCZNA MOC CIEPLNA ODEBRANA - CAŁKOWITA MW_avg_45-60"
          ],
          [
           1304.0447998046875,
           "XGBRegressor",
           "SUMARYCZNA MOC CIEPLNA ODEBRANA - CAŁKOWITA MW_avg_45-60"
          ],
          [
           1304.0447998046875,
           "XGBRegressor",
           "SUMARYCZNA MOC CIEPLNA ODEBRANA - CAŁKOWITA MW_avg_45-60"
          ],
          [
           1304.0447998046875,
           "XGBRegressor",
           "SUMARYCZNA MOC CIEPLNA ODEBRANA - CAŁKOWITA MW_avg_45-60"
          ],
          [
           1304.0447998046875,
           "XGBRegressor",
           "SUMARYCZNA MOC CIEPLNA ODEBRANA - CAŁKOWITA MW_avg_45-60"
          ],
          [
           1304.0447998046875,
           "XGBRegressor",
           "SUMARYCZNA MOC CIEPLNA ODEBRANA - CAŁKOWITA MW_avg_45-60"
          ],
          [
           1304.0447998046875,
           "XGBRegressor",
           "SUMARYCZNA MOC CIEPLNA ODEBRANA - CAŁKOWITA MW_avg_45-60"
          ],
          [
           1304.0447998046875,
           "XGBRegressor",
           "SUMARYCZNA MOC CIEPLNA ODEBRANA - CAŁKOWITA MW_avg_45-60"
          ],
          [
           1304.0447998046875,
           "XGBRegressor",
           "SUMARYCZNA MOC CIEPLNA ODEBRANA - CAŁKOWITA MW_avg_45-60"
          ],
          [
           1304.0447998046875,
           "XGBRegressor",
           "SUMARYCZNA MOC CIEPLNA ODEBRANA - CAŁKOWITA MW_avg_45-60"
          ],
          [
           1304.0447998046875,
           "XGBRegressor",
           "SUMARYCZNA MOC CIEPLNA ODEBRANA - CAŁKOWITA MW_avg_45-60"
          ],
          [
           1304.0447998046875,
           "XGBRegressor",
           "SUMARYCZNA MOC CIEPLNA ODEBRANA - CAŁKOWITA MW_avg_45-60"
          ],
          [
           1304.0447998046875,
           "XGBRegressor",
           "SUMARYCZNA MOC CIEPLNA ODEBRANA - CAŁKOWITA MW_avg_45-60"
          ],
          [
           1304.0447998046875,
           "XGBRegressor",
           "SUMARYCZNA MOC CIEPLNA ODEBRANA - CAŁKOWITA MW_avg_45-60"
          ],
          [
           1304.0447998046875,
           "XGBRegressor",
           "SUMARYCZNA MOC CIEPLNA ODEBRANA - CAŁKOWITA MW_avg_45-60"
          ],
          [
           1304.0447998046875,
           "XGBRegressor",
           "SUMARYCZNA MOC CIEPLNA ODEBRANA - CAŁKOWITA MW_avg_45-60"
          ],
          [
           1304.0447998046875,
           "XGBRegressor",
           "SUMARYCZNA MOC CIEPLNA ODEBRANA - CAŁKOWITA MW_avg_45-60"
          ],
          [
           1304.0447998046875,
           "XGBRegressor",
           "SUMARYCZNA MOC CIEPLNA ODEBRANA - CAŁKOWITA MW_avg_45-60"
          ],
          [
           1304.0447998046875,
           "XGBRegressor",
           "SUMARYCZNA MOC CIEPLNA ODEBRANA - CAŁKOWITA MW_avg_45-60"
          ],
          [
           1304.0447998046875,
           "XGBRegressor",
           "SUMARYCZNA MOC CIEPLNA ODEBRANA - CAŁKOWITA MW_avg_45-60"
          ],
          [
           1304.0447998046875,
           "XGBRegressor",
           "SUMARYCZNA MOC CIEPLNA ODEBRANA - CAŁKOWITA MW_avg_45-60"
          ],
          [
           1304.0447998046875,
           "XGBRegressor",
           "SUMARYCZNA MOC CIEPLNA ODEBRANA - CAŁKOWITA MW_avg_45-60"
          ],
          [
           1304.0447998046875,
           "XGBRegressor",
           "SUMARYCZNA MOC CIEPLNA ODEBRANA - CAŁKOWITA MW_avg_45-60"
          ],
          [
           1304.0447998046875,
           "XGBRegressor",
           "SUMARYCZNA MOC CIEPLNA ODEBRANA - CAŁKOWITA MW_avg_45-60"
          ],
          [
           1304.0447998046875,
           "XGBRegressor",
           "SUMARYCZNA MOC CIEPLNA ODEBRANA - CAŁKOWITA MW_avg_45-60"
          ],
          [
           1304.0447998046875,
           "XGBRegressor",
           "SUMARYCZNA MOC CIEPLNA ODEBRANA - CAŁKOWITA MW_avg_45-60"
          ],
          [
           1304.0447998046875,
           "XGBRegressor",
           "SUMARYCZNA MOC CIEPLNA ODEBRANA - CAŁKOWITA MW_avg_45-60"
          ],
          [
           1304.0447998046875,
           "XGBRegressor",
           "SUMARYCZNA MOC CIEPLNA ODEBRANA - CAŁKOWITA MW_avg_45-60"
          ],
          [
           1304.0447998046875,
           "XGBRegressor",
           "SUMARYCZNA MOC CIEPLNA ODEBRANA - CAŁKOWITA MW_avg_45-60"
          ],
          [
           1304.0447998046875,
           "XGBRegressor",
           "SUMARYCZNA MOC CIEPLNA ODEBRANA - CAŁKOWITA MW_avg_45-60"
          ],
          [
           1304.0447998046875,
           "XGBRegressor",
           "SUMARYCZNA MOC CIEPLNA ODEBRANA - CAŁKOWITA MW_avg_45-60"
          ],
          [
           1304.0447998046875,
           "XGBRegressor",
           "SUMARYCZNA MOC CIEPLNA ODEBRANA - CAŁKOWITA MW_avg_45-60"
          ],
          [
           1304.0447998046875,
           "XGBRegressor",
           "SUMARYCZNA MOC CIEPLNA ODEBRANA - CAŁKOWITA MW_avg_45-60"
          ],
          [
           1304.0447998046875,
           "XGBRegressor",
           "SUMARYCZNA MOC CIEPLNA ODEBRANA - CAŁKOWITA MW_avg_45-60"
          ],
          [
           1304.0447998046875,
           "XGBRegressor",
           "SUMARYCZNA MOC CIEPLNA ODEBRANA - CAŁKOWITA MW_avg_45-60"
          ],
          [
           1304.0447998046875,
           "XGBRegressor",
           "SUMARYCZNA MOC CIEPLNA ODEBRANA - CAŁKOWITA MW_avg_45-60"
          ],
          [
           1304.0447998046875,
           "XGBRegressor",
           "SUMARYCZNA MOC CIEPLNA ODEBRANA - CAŁKOWITA MW_avg_45-60"
          ],
          [
           1304.0447998046875,
           "XGBRegressor",
           "SUMARYCZNA MOC CIEPLNA ODEBRANA - CAŁKOWITA MW_avg_45-60"
          ],
          [
           1304.0447998046875,
           "XGBRegressor",
           "SUMARYCZNA MOC CIEPLNA ODEBRANA - CAŁKOWITA MW_avg_45-60"
          ],
          [
           1304.0447998046875,
           "XGBRegressor",
           "SUMARYCZNA MOC CIEPLNA ODEBRANA - CAŁKOWITA MW_avg_45-60"
          ],
          [
           1304.0447998046875,
           "XGBRegressor",
           "SUMARYCZNA MOC CIEPLNA ODEBRANA - CAŁKOWITA MW_avg_45-60"
          ],
          [
           1304.0447998046875,
           "XGBRegressor",
           "SUMARYCZNA MOC CIEPLNA ODEBRANA - CAŁKOWITA MW_avg_45-60"
          ],
          [
           1304.0447998046875,
           "XGBRegressor",
           "SUMARYCZNA MOC CIEPLNA ODEBRANA - CAŁKOWITA MW_avg_45-60"
          ],
          [
           1304.0447998046875,
           "XGBRegressor",
           "SUMARYCZNA MOC CIEPLNA ODEBRANA - CAŁKOWITA MW_avg_45-60"
          ],
          [
           1304.0447998046875,
           "XGBRegressor",
           "SUMARYCZNA MOC CIEPLNA ODEBRANA - CAŁKOWITA MW_avg_45-60"
          ],
          [
           1304.0447998046875,
           "XGBRegressor",
           "SUMARYCZNA MOC CIEPLNA ODEBRANA - CAŁKOWITA MW_avg_45-60"
          ],
          [
           1304.0447998046875,
           "XGBRegressor",
           "SUMARYCZNA MOC CIEPLNA ODEBRANA - CAŁKOWITA MW_avg_45-60"
          ],
          [
           1304.0447998046875,
           "XGBRegressor",
           "SUMARYCZNA MOC CIEPLNA ODEBRANA - CAŁKOWITA MW_avg_45-60"
          ],
          [
           1304.0447998046875,
           "XGBRegressor",
           "SUMARYCZNA MOC CIEPLNA ODEBRANA - CAŁKOWITA MW_avg_45-60"
          ],
          [
           1304.0447998046875,
           "XGBRegressor",
           "SUMARYCZNA MOC CIEPLNA ODEBRANA - CAŁKOWITA MW_avg_45-60"
          ],
          [
           1304.0447998046875,
           "XGBRegressor",
           "SUMARYCZNA MOC CIEPLNA ODEBRANA - CAŁKOWITA MW_avg_45-60"
          ],
          [
           1304.0447998046875,
           "XGBRegressor",
           "SUMARYCZNA MOC CIEPLNA ODEBRANA - CAŁKOWITA MW_avg_45-60"
          ],
          [
           1304.0447998046875,
           "XGBRegressor",
           "SUMARYCZNA MOC CIEPLNA ODEBRANA - CAŁKOWITA MW_avg_45-60"
          ],
          [
           1304.0447998046875,
           "XGBRegressor",
           "SUMARYCZNA MOC CIEPLNA ODEBRANA - CAŁKOWITA MW_avg_45-60"
          ],
          [
           1304.0447998046875,
           "XGBRegressor",
           "SUMARYCZNA MOC CIEPLNA ODEBRANA - CAŁKOWITA MW_avg_45-60"
          ],
          [
           1304.0447998046875,
           "XGBRegressor",
           "SUMARYCZNA MOC CIEPLNA ODEBRANA - CAŁKOWITA MW_avg_45-60"
          ],
          [
           1304.0447998046875,
           "XGBRegressor",
           "SUMARYCZNA MOC CIEPLNA ODEBRANA - CAŁKOWITA MW_avg_45-60"
          ],
          [
           1304.0447998046875,
           "XGBRegressor",
           "SUMARYCZNA MOC CIEPLNA ODEBRANA - CAŁKOWITA MW_avg_45-60"
          ],
          [
           1304.0447998046875,
           "XGBRegressor",
           "SUMARYCZNA MOC CIEPLNA ODEBRANA - CAŁKOWITA MW_avg_45-60"
          ],
          [
           1304.0447998046875,
           "XGBRegressor",
           "SUMARYCZNA MOC CIEPLNA ODEBRANA - CAŁKOWITA MW_avg_45-60"
          ],
          [
           1304.0447998046875,
           "XGBRegressor",
           "SUMARYCZNA MOC CIEPLNA ODEBRANA - CAŁKOWITA MW_avg_45-60"
          ],
          [
           1304.0447998046875,
           "XGBRegressor",
           "SUMARYCZNA MOC CIEPLNA ODEBRANA - CAŁKOWITA MW_avg_45-60"
          ],
          [
           1304.0447998046875,
           "XGBRegressor",
           "SUMARYCZNA MOC CIEPLNA ODEBRANA - CAŁKOWITA MW_avg_45-60"
          ],
          [
           1304.0447998046875,
           "XGBRegressor",
           "SUMARYCZNA MOC CIEPLNA ODEBRANA - CAŁKOWITA MW_avg_45-60"
          ],
          [
           1304.0447998046875,
           "XGBRegressor",
           "SUMARYCZNA MOC CIEPLNA ODEBRANA - CAŁKOWITA MW_avg_45-60"
          ],
          [
           1304.0447998046875,
           "XGBRegressor",
           "SUMARYCZNA MOC CIEPLNA ODEBRANA - CAŁKOWITA MW_avg_45-60"
          ],
          [
           1304.0447998046875,
           "XGBRegressor",
           "SUMARYCZNA MOC CIEPLNA ODEBRANA - CAŁKOWITA MW_avg_45-60"
          ],
          [
           1304.0447998046875,
           "XGBRegressor",
           "SUMARYCZNA MOC CIEPLNA ODEBRANA - CAŁKOWITA MW_avg_45-60"
          ],
          [
           1304.0447998046875,
           "XGBRegressor",
           "SUMARYCZNA MOC CIEPLNA ODEBRANA - CAŁKOWITA MW_avg_45-60"
          ],
          [
           1304.0447998046875,
           "XGBRegressor",
           "SUMARYCZNA MOC CIEPLNA ODEBRANA - CAŁKOWITA MW_avg_45-60"
          ],
          [
           1304.0447998046875,
           "XGBRegressor",
           "SUMARYCZNA MOC CIEPLNA ODEBRANA - CAŁKOWITA MW_avg_45-60"
          ],
          [
           1304.0447998046875,
           "XGBRegressor",
           "SUMARYCZNA MOC CIEPLNA ODEBRANA - CAŁKOWITA MW_avg_45-60"
          ],
          [
           1304.0447998046875,
           "XGBRegressor",
           "SUMARYCZNA MOC CIEPLNA ODEBRANA - CAŁKOWITA MW_avg_45-60"
          ]
         ],
         "hovertemplate": "<b>%{hovertext}</b><br><br>prediction=%{y:.3f}<br>mean_prediction=%{customdata[0]:.3f}<extra></extra>",
         "hovertext": [
          "XGBRegressor",
          "XGBRegressor",
          "XGBRegressor",
          "XGBRegressor",
          "XGBRegressor",
          "XGBRegressor",
          "XGBRegressor",
          "XGBRegressor",
          "XGBRegressor",
          "XGBRegressor",
          "XGBRegressor",
          "XGBRegressor",
          "XGBRegressor",
          "XGBRegressor",
          "XGBRegressor",
          "XGBRegressor",
          "XGBRegressor",
          "XGBRegressor",
          "XGBRegressor",
          "XGBRegressor",
          "XGBRegressor",
          "XGBRegressor",
          "XGBRegressor",
          "XGBRegressor",
          "XGBRegressor",
          "XGBRegressor",
          "XGBRegressor",
          "XGBRegressor",
          "XGBRegressor",
          "XGBRegressor",
          "XGBRegressor",
          "XGBRegressor",
          "XGBRegressor",
          "XGBRegressor",
          "XGBRegressor",
          "XGBRegressor",
          "XGBRegressor",
          "XGBRegressor",
          "XGBRegressor",
          "XGBRegressor",
          "XGBRegressor",
          "XGBRegressor",
          "XGBRegressor",
          "XGBRegressor",
          "XGBRegressor",
          "XGBRegressor",
          "XGBRegressor",
          "XGBRegressor",
          "XGBRegressor",
          "XGBRegressor",
          "XGBRegressor",
          "XGBRegressor",
          "XGBRegressor",
          "XGBRegressor",
          "XGBRegressor",
          "XGBRegressor",
          "XGBRegressor",
          "XGBRegressor",
          "XGBRegressor",
          "XGBRegressor",
          "XGBRegressor",
          "XGBRegressor",
          "XGBRegressor",
          "XGBRegressor",
          "XGBRegressor",
          "XGBRegressor",
          "XGBRegressor",
          "XGBRegressor",
          "XGBRegressor",
          "XGBRegressor",
          "XGBRegressor",
          "XGBRegressor",
          "XGBRegressor",
          "XGBRegressor",
          "XGBRegressor",
          "XGBRegressor",
          "XGBRegressor",
          "XGBRegressor",
          "XGBRegressor",
          "XGBRegressor",
          "XGBRegressor",
          "XGBRegressor",
          "XGBRegressor",
          "XGBRegressor",
          "XGBRegressor",
          "XGBRegressor",
          "XGBRegressor",
          "XGBRegressor",
          "XGBRegressor",
          "XGBRegressor",
          "XGBRegressor",
          "XGBRegressor",
          "XGBRegressor",
          "XGBRegressor",
          "XGBRegressor",
          "XGBRegressor",
          "XGBRegressor",
          "XGBRegressor",
          "XGBRegressor",
          "XGBRegressor",
          "XGBRegressor"
         ],
         "legendgroup": "XGBRegressor",
         "line": {
          "color": "#46bac2",
          "dash": "solid",
          "width": 2
         },
         "marker": {
          "symbol": "circle"
         },
         "mode": "lines",
         "name": "XGBRegressor",
         "opacity": 1,
         "orientation": "v",
         "showlegend": false,
         "type": "scatter",
         "x": [
          5.8544018242094245,
          6.0729828622765005,
          6.291563900343577,
          6.510144938410653,
          6.728725976477728,
          6.947307014544804,
          7.16588805261188,
          7.384469090678956,
          7.603050128746032,
          7.821631166813107,
          8.040212204880184,
          8.25879324294726,
          8.477374281014335,
          8.695955319081412,
          8.914536357148489,
          9.133117395215564,
          9.351698433282639,
          9.570279471349716,
          9.788860509416791,
          10.007441547483868,
          10.226022585550943,
          10.444603623618018,
          10.663184661685095,
          10.88176569975217,
          11.100346737819248,
          11.318927775886323,
          11.537508813953398,
          11.756089852020475,
          11.974670890087552,
          12.193251928154627,
          12.411832966221702,
          12.630414004288777,
          12.848995042355854,
          13.067576080422931,
          13.286157118490006,
          13.504738156557082,
          13.723319194624157,
          13.941900232691236,
          14.16048127075831,
          14.379062308825386,
          14.597643346892461,
          14.816224384959536,
          15.034805423026615,
          15.25338646109369,
          15.471967499160765,
          15.69054853722784,
          15.909129575294916,
          16.127710613361995,
          16.34629165142907,
          16.564872689496145,
          16.78345372756322,
          17.0020347656303,
          17.220615803697374,
          17.43919684176445,
          17.657777879831524,
          17.8763589178986,
          18.09493995596568,
          18.313520994032753,
          18.53210203209983,
          18.750683070166904,
          18.96926410823398,
          19.187845146301058,
          19.406426184368133,
          19.625007222435208,
          19.843588260502283,
          20.06216929856936,
          20.280750336636437,
          20.499331374703512,
          20.717912412770588,
          20.936493450837663,
          21.15507448890474,
          21.373655526971817,
          21.592236565038892,
          21.810817603105967,
          22.029398641173046,
          22.24797967924012,
          22.466560717307196,
          22.68514175537427,
          22.903722793441347,
          23.122303831508425,
          23.3408848695755,
          23.559465907642576,
          23.77804694570965,
          23.99662798377673,
          24.215209021843805,
          24.43379005991088,
          24.652371097977955,
          24.87095213604503,
          25.08953317411211,
          25.308114212179184,
          25.52669525024626,
          25.745276288313335,
          25.96385732638041,
          26.18243836444749,
          26.401019402514564,
          26.61960044058164,
          26.838181478648714,
          27.05676251671579,
          27.275343554782868,
          27.493924592849943,
          27.71250563091702
         ],
         "xaxis": "x2",
         "y": [
          1302.478271484375,
          1302.478271484375,
          1302.478271484375,
          1302.478271484375,
          1302.478271484375,
          1302.478271484375,
          1302.478271484375,
          1302.478271484375,
          1302.478271484375,
          1302.478271484375,
          1302.478271484375,
          1302.478271484375,
          1302.478271484375,
          1302.478271484375,
          1302.8428955078125,
          1303.0855712890625,
          1303.0855712890625,
          1303.0855712890625,
          1303.0855712890625,
          1303.0855712890625,
          1303.0855712890625,
          1303.0855712890625,
          1303.0855712890625,
          1303.0855712890625,
          1303.0855712890625,
          1303.0855712890625,
          1303.1485595703125,
          1303.1297607421875,
          1303.1297607421875,
          1303.2137451171875,
          1303.2137451171875,
          1303.2137451171875,
          1303.24365234375,
          1303.24365234375,
          1303.24365234375,
          1303.24365234375,
          1303.2440185546875,
          1303.3807373046875,
          1303.3861083984375,
          1303.3861083984375,
          1303.388916015625,
          1303.388916015625,
          1303.388916015625,
          1303.40576171875,
          1303.40576171875,
          1303.577880859375,
          1303.5814208984375,
          1303.59912109375,
          1303.59912109375,
          1303.59912109375,
          1303.6240234375,
          1303.6234130859375,
          1303.6234130859375,
          1303.6234130859375,
          1303.6234130859375,
          1303.745361328125,
          1303.75537109375,
          1303.75537109375,
          1303.75537109375,
          1303.7625732421875,
          1303.7625732421875,
          1303.864990234375,
          1303.8773193359375,
          1303.9056396484375,
          1303.9056396484375,
          1303.918701171875,
          1303.96484375,
          1303.96484375,
          1303.988525390625,
          1303.988525390625,
          1304.01904296875,
          1304.01904296875,
          1304.0322265625,
          1304.037841796875,
          1304.0562744140625,
          1304.1737060546875,
          1304.1737060546875,
          1304.2447509765625,
          1304.2861328125,
          1304.387939453125,
          1304.4085693359375,
          1304.4276123046875,
          1304.4276123046875,
          1304.4276123046875,
          1304.4276123046875,
          1304.456787109375,
          1304.456787109375,
          1304.456787109375,
          1304.456787109375,
          1304.456787109375,
          1304.456787109375,
          1304.456787109375,
          1304.456787109375,
          1304.456787109375,
          1304.456787109375,
          1304.456787109375,
          1304.456787109375,
          1304.456787109375,
          1304.456787109375,
          1304.456787109375,
          1304.456787109375
         ],
         "yaxis": "y2"
        }
       ],
       "layout": {
        "annotations": [
         {
          "font": {
           "size": 13
          },
          "showarrow": false,
          "text": "SUMARYCZNA MOC CIEPLNA ODEBRANA - CAŁKOWITA MW_avg_30-45",
          "x": 0.2375,
          "xanchor": "center",
          "xref": "paper",
          "y": 0.15200000000000002,
          "yanchor": "bottom",
          "yref": "paper"
         },
         {
          "font": {
           "size": 13
          },
          "showarrow": false,
          "text": "SUMARYCZNA MOC CIEPLNA ODEBRANA - CAŁKOWITA MW_avg_45-60",
          "x": 0.7625,
          "xanchor": "center",
          "xref": "paper",
          "y": 0.15200000000000002,
          "yanchor": "bottom",
          "yref": "paper"
         },
         {
          "font": {
           "size": 13
          },
          "showarrow": false,
          "text": "REG NADAWY KONCENTRATU LIW2 Mg/h_avg_45-60",
          "x": 0.2375,
          "xanchor": "center",
          "xref": "paper",
          "y": 0.36400000000000005,
          "yanchor": "bottom",
          "yref": "paper"
         },
         {
          "font": {
           "size": 13
          },
          "showarrow": false,
          "text": "SUMARYCZNA MOC CIEPLNA ODEBRANA - CAŁKOWITA MW_avg_15-30",
          "x": 0.7625,
          "xanchor": "center",
          "xref": "paper",
          "y": 0.36400000000000005,
          "yanchor": "bottom",
          "yref": "paper"
         },
         {
          "font": {
           "size": 13
          },
          "showarrow": false,
          "text": "REG NADAWY KONCENTRATU LIW2 Mg/h_avg_30-45",
          "x": 0.2375,
          "xanchor": "center",
          "xref": "paper",
          "y": 0.5760000000000001,
          "yanchor": "bottom",
          "yref": "paper"
         },
         {
          "font": {
           "size": 13
          },
          "showarrow": false,
          "text": "REG NADAWY KONCENTRATU LIW1 Mg/h_avg_45-60",
          "x": 0.7625,
          "xanchor": "center",
          "xref": "paper",
          "y": 0.5760000000000001,
          "yanchor": "bottom",
          "yref": "paper"
         },
         {
          "font": {
           "size": 13
          },
          "showarrow": false,
          "text": "REG NADAWY KONCENTRATU LIW2 Mg/h_avg_15-30",
          "x": 0.2375,
          "xanchor": "center",
          "xref": "paper",
          "y": 0.7880000000000001,
          "yanchor": "bottom",
          "yref": "paper"
         },
         {
          "font": {
           "size": 13
          },
          "showarrow": false,
          "text": "REG NADAWY KONCENTRATU LIW1 Mg/h_avg_30-45",
          "x": 0.7625,
          "xanchor": "center",
          "xref": "paper",
          "y": 0.7880000000000001,
          "yanchor": "bottom",
          "yref": "paper"
         },
         {
          "font": {
           "size": 13
          },
          "showarrow": false,
          "text": "REG NADAWY KONCENTRATU LIW2 Mg/h",
          "x": 0.2375,
          "xanchor": "center",
          "xref": "paper",
          "y": 1,
          "yanchor": "bottom",
          "yref": "paper"
         },
         {
          "font": {
           "size": 13
          },
          "showarrow": false,
          "text": "REG NADAWY KONCENTRATU LIW1 Mg/h_avg_15-30",
          "x": 0.7625,
          "xanchor": "center",
          "xref": "paper",
          "y": 1,
          "yanchor": "bottom",
          "yref": "paper"
         },
         {
          "font": {
           "size": 13
          },
          "showarrow": false,
          "text": "prediction",
          "textangle": -90,
          "x": -0.07,
          "xref": "paper",
          "y": 0.5,
          "yref": "paper"
         }
        ],
        "font": {
         "color": "#371ea3"
        },
        "height": 1849,
        "hovermode": "x unified",
        "legend": {
         "font": {
          "size": 11
         },
         "itemsizing": "constant",
         "orientation": "h",
         "title": {
          "font": {
           "size": 12
          },
          "text": "label"
         },
         "tracegroupgap": 0,
         "x": 1,
         "xanchor": "right",
         "y": 1.016224986479178,
         "yanchor": "bottom"
        },
        "margin": {
         "b": 71,
         "r": 30,
         "t": 78
        },
        "template": {
         "data": {
          "scatter": [
           {
            "type": "scatter"
           }
          ]
         }
        },
        "title": {
         "font": {
          "size": 16
         },
         "text": "Aggregated Profiles",
         "x": 0.15
        },
        "xaxis": {
         "anchor": "y",
         "automargin": true,
         "domain": [
          0,
          0.475
         ],
         "fixedrange": true,
         "gridwidth": 2,
         "showticklabels": true,
         "tickcolor": "white",
         "ticklen": 3,
         "ticks": "outside",
         "title": {
          "text": ""
         },
         "type": "linear",
         "zeroline": false
        },
        "xaxis10": {
         "anchor": "y10",
         "automargin": true,
         "domain": [
          0.525,
          1
         ],
         "fixedrange": true,
         "gridwidth": 2,
         "showticklabels": true,
         "tickcolor": "white",
         "ticklen": 3,
         "ticks": "outside",
         "title": {
          "text": ""
         },
         "type": "linear",
         "zeroline": false
        },
        "xaxis2": {
         "anchor": "y2",
         "automargin": true,
         "domain": [
          0.525,
          1
         ],
         "fixedrange": true,
         "gridwidth": 2,
         "showticklabels": true,
         "tickcolor": "white",
         "ticklen": 3,
         "ticks": "outside",
         "title": {
          "text": ""
         },
         "type": "linear",
         "zeroline": false
        },
        "xaxis3": {
         "anchor": "y3",
         "automargin": true,
         "domain": [
          0,
          0.475
         ],
         "fixedrange": true,
         "gridwidth": 2,
         "showticklabels": true,
         "tickcolor": "white",
         "ticklen": 3,
         "ticks": "outside",
         "title": {
          "text": ""
         },
         "type": "linear",
         "zeroline": false
        },
        "xaxis4": {
         "anchor": "y4",
         "automargin": true,
         "domain": [
          0.525,
          1
         ],
         "fixedrange": true,
         "gridwidth": 2,
         "showticklabels": true,
         "tickcolor": "white",
         "ticklen": 3,
         "ticks": "outside",
         "title": {
          "text": ""
         },
         "type": "linear",
         "zeroline": false
        },
        "xaxis5": {
         "anchor": "y5",
         "automargin": true,
         "domain": [
          0,
          0.475
         ],
         "fixedrange": true,
         "gridwidth": 2,
         "showticklabels": true,
         "tickcolor": "white",
         "ticklen": 3,
         "ticks": "outside",
         "title": {
          "text": ""
         },
         "type": "linear",
         "zeroline": false
        },
        "xaxis6": {
         "anchor": "y6",
         "automargin": true,
         "domain": [
          0.525,
          1
         ],
         "fixedrange": true,
         "gridwidth": 2,
         "showticklabels": true,
         "tickcolor": "white",
         "ticklen": 3,
         "ticks": "outside",
         "title": {
          "text": ""
         },
         "type": "linear",
         "zeroline": false
        },
        "xaxis7": {
         "anchor": "y7",
         "automargin": true,
         "domain": [
          0,
          0.475
         ],
         "fixedrange": true,
         "gridwidth": 2,
         "showticklabels": true,
         "tickcolor": "white",
         "ticklen": 3,
         "ticks": "outside",
         "title": {
          "text": ""
         },
         "type": "linear",
         "zeroline": false
        },
        "xaxis8": {
         "anchor": "y8",
         "automargin": true,
         "domain": [
          0.525,
          1
         ],
         "fixedrange": true,
         "gridwidth": 2,
         "showticklabels": true,
         "tickcolor": "white",
         "ticklen": 3,
         "ticks": "outside",
         "title": {
          "text": ""
         },
         "type": "linear",
         "zeroline": false
        },
        "xaxis9": {
         "anchor": "y9",
         "automargin": true,
         "domain": [
          0,
          0.475
         ],
         "fixedrange": true,
         "gridwidth": 2,
         "showticklabels": true,
         "tickcolor": "white",
         "ticklen": 3,
         "ticks": "outside",
         "title": {
          "text": ""
         },
         "type": "linear",
         "zeroline": false
        },
        "yaxis": {
         "anchor": "x",
         "automargin": true,
         "domain": [
          0,
          0.15200000000000002
         ],
         "fixedrange": true,
         "gridwidth": 2,
         "range": [
          1302.280419921875,
          1304.654638671875
         ],
         "tickcolor": "white",
         "ticklen": 3,
         "ticks": "outside",
         "title": {
          "text": ""
         },
         "type": "linear",
         "zeroline": false
        },
        "yaxis10": {
         "anchor": "x10",
         "automargin": true,
         "domain": [
          0.8480000000000001,
          1
         ],
         "fixedrange": true,
         "gridwidth": 2,
         "matches": "y",
         "range": [
          1302.280419921875,
          1304.654638671875
         ],
         "showticklabels": false,
         "tickcolor": "white",
         "ticklen": 3,
         "ticks": "outside",
         "title": {
          "text": ""
         },
         "type": "linear",
         "zeroline": false
        },
        "yaxis2": {
         "anchor": "x2",
         "automargin": true,
         "domain": [
          0,
          0.15200000000000002
         ],
         "fixedrange": true,
         "gridwidth": 2,
         "matches": "y",
         "range": [
          1302.280419921875,
          1304.654638671875
         ],
         "showticklabels": false,
         "tickcolor": "white",
         "ticklen": 3,
         "ticks": "outside",
         "title": {
          "text": ""
         },
         "type": "linear",
         "zeroline": false
        },
        "yaxis3": {
         "anchor": "x3",
         "automargin": true,
         "domain": [
          0.21200000000000002,
          0.36400000000000005
         ],
         "fixedrange": true,
         "gridwidth": 2,
         "matches": "y",
         "range": [
          1302.280419921875,
          1304.654638671875
         ],
         "tickcolor": "white",
         "ticklen": 3,
         "ticks": "outside",
         "title": {
          "text": ""
         },
         "type": "linear",
         "zeroline": false
        },
        "yaxis4": {
         "anchor": "x4",
         "automargin": true,
         "domain": [
          0.21200000000000002,
          0.36400000000000005
         ],
         "fixedrange": true,
         "gridwidth": 2,
         "matches": "y",
         "range": [
          1302.280419921875,
          1304.654638671875
         ],
         "showticklabels": false,
         "tickcolor": "white",
         "ticklen": 3,
         "ticks": "outside",
         "title": {
          "text": ""
         },
         "type": "linear",
         "zeroline": false
        },
        "yaxis5": {
         "anchor": "x5",
         "automargin": true,
         "domain": [
          0.42400000000000004,
          0.5760000000000001
         ],
         "fixedrange": true,
         "gridwidth": 2,
         "matches": "y",
         "range": [
          1302.280419921875,
          1304.654638671875
         ],
         "tickcolor": "white",
         "ticklen": 3,
         "ticks": "outside",
         "title": {
          "text": ""
         },
         "type": "linear",
         "zeroline": false
        },
        "yaxis6": {
         "anchor": "x6",
         "automargin": true,
         "domain": [
          0.42400000000000004,
          0.5760000000000001
         ],
         "fixedrange": true,
         "gridwidth": 2,
         "matches": "y",
         "range": [
          1302.280419921875,
          1304.654638671875
         ],
         "showticklabels": false,
         "tickcolor": "white",
         "ticklen": 3,
         "ticks": "outside",
         "title": {
          "text": ""
         },
         "type": "linear",
         "zeroline": false
        },
        "yaxis7": {
         "anchor": "x7",
         "automargin": true,
         "domain": [
          0.6360000000000001,
          0.7880000000000001
         ],
         "fixedrange": true,
         "gridwidth": 2,
         "matches": "y",
         "range": [
          1302.280419921875,
          1304.654638671875
         ],
         "tickcolor": "white",
         "ticklen": 3,
         "ticks": "outside",
         "title": {
          "text": ""
         },
         "type": "linear",
         "zeroline": false
        },
        "yaxis8": {
         "anchor": "x8",
         "automargin": true,
         "domain": [
          0.6360000000000001,
          0.7880000000000001
         ],
         "fixedrange": true,
         "gridwidth": 2,
         "matches": "y",
         "range": [
          1302.280419921875,
          1304.654638671875
         ],
         "showticklabels": false,
         "tickcolor": "white",
         "ticklen": 3,
         "ticks": "outside",
         "title": {
          "text": ""
         },
         "type": "linear",
         "zeroline": false
        },
        "yaxis9": {
         "anchor": "x9",
         "automargin": true,
         "domain": [
          0.8480000000000001,
          1
         ],
         "fixedrange": true,
         "gridwidth": 2,
         "matches": "y",
         "range": [
          1302.280419921875,
          1304.654638671875
         ],
         "tickcolor": "white",
         "ticklen": 3,
         "ticks": "outside",
         "title": {
          "text": ""
         },
         "type": "linear",
         "zeroline": false
        }
       }
      }
     },
     "metadata": {},
     "output_type": "display_data"
    }
   ],
   "source": [
    "partial_dependence_profiles = explainer.model_profile(variables=[\n",
    "        'REG NADAWY KONCENTRATU LIW2 Mg/h',\n",
    "        'REG NADAWY KONCENTRATU LIW1 Mg/h_avg_15-30',\n",
    "        'REG NADAWY KONCENTRATU LIW2 Mg/h_avg_15-30',\n",
    "        'REG NADAWY KONCENTRATU LIW1 Mg/h_avg_30-45',\n",
    "        'REG NADAWY KONCENTRATU LIW2 Mg/h_avg_30-45',\n",
    "        'REG NADAWY KONCENTRATU LIW1 Mg/h_avg_45-60',\n",
    "        'REG NADAWY KONCENTRATU LIW2 Mg/h_avg_45-60',\n",
    "        'SUMARYCZNA MOC CIEPLNA ODEBRANA - CAŁKOWITA MW_avg_15-30',\n",
    "        'SUMARYCZNA MOC CIEPLNA ODEBRANA - CAŁKOWITA MW_avg_30-45',\n",
    "        'SUMARYCZNA MOC CIEPLNA ODEBRANA - CAŁKOWITA MW_avg_45-60'\n",
    "\n",
    "    ], type='partial')\n",
    "    \n",
    "partial_dependence_profiles.plot()"
   ]
  },
  {
   "cell_type": "code",
   "execution_count": 26,
   "metadata": {},
   "outputs": [
    {
     "data": {
      "application/vnd.plotly.v1+json": {
       "config": {
        "displaylogo": false,
        "modeBarButtonsToRemove": [
         "sendDataToCloud",
         "lasso2d",
         "autoScale2d",
         "select2d",
         "zoom2d",
         "pan2d",
         "zoomIn2d",
         "zoomOut2d",
         "resetScale2d",
         "toggleSpikelines",
         "hoverCompareCartesian",
         "hoverClosestCartesian"
        ],
        "plotlyServerURL": "https://plot.ly",
        "staticPlot": false,
        "toImageButtonOptions": {
         "height": null,
         "width": null
        }
       },
       "data": [
        {
         "base": 1303.722412109375,
         "connector": {
          "line": {
           "color": "#371ea3",
           "dash": "solid",
           "width": 1
          },
          "mode": "spanning"
         },
         "decreasing": {
          "marker": {
           "color": "#f05a71"
          }
         },
         "hoverinfo": "text+delta",
         "hoverlabel": {
          "bgcolor": "rgba(0,0,0,0.8)"
         },
         "hovertext": [
          "Average response: 1303.722<br>Prediction: 1306.132",
          "temp_last_1 = 1306.0<br>increases average response by",
          "WODA CHŁODZĄCA DO KOLEKTOR KZ7 m3/h = 109.2<br>increases average response by",
          "REG NADAWY KONCENTRATU LIW2 Mg/h_avg_00-15 = 59.89<br>increases average response by",
          "WODA CHŁODZĄCA DO KOLEKTOR KZ7 m3/h_avg_00-15 = 109.3<br>increases average response by",
          "REG NADAWY KONCENTRATU LIW2 Mg/h_avg_15-30 = 59.93<br>increases average response by",
          "WODA CHŁODZĄCA DO KOLEKTOR KZ10 m3/h = 111.0<br>increases average response by",
          "WENT.  RF01  ODCZ_ZAD OBROTÓW % = 92.14<br>decreases average response by",
          "temp_last_2 = 1305.0<br>increases average response by",
          "WODA CHŁODZĄCA DO KOLEKTOR KZ10 m3/h_avg_00-15 = 111.1<br>increases average response by",
          "REG NADAWY KONCENTRATU LIW2 Mg/h = 59.99<br>increases average response by",
          "+ all other factors<br>increases average response by",
          "Average response: 1303.722<br>Prediction: 1306.132"
         ],
         "increasing": {
          "marker": {
           "color": "#8bdcbe"
          }
         },
         "measure": [
          "relative",
          "relative",
          "relative",
          "relative",
          "relative",
          "relative",
          "relative",
          "relative",
          "relative",
          "relative",
          "relative",
          "relative",
          "total"
         ],
         "orientation": "h",
         "showlegend": false,
         "text": [
          "1303.722",
          "+1.796",
          "+0.11",
          "+0.116",
          "+0.048",
          "+0.062",
          "+0.065",
          "-0.017",
          "+0.047",
          "+0.037",
          "+0.045",
          "+0.1",
          "1306.132"
         ],
         "textposition": "outside",
         "totals": {
          "marker": {
           "color": "#371ea3"
          }
         },
         "type": "waterfall",
         "x": [
          0,
          1.7960000038146973,
          0.10999999940395355,
          0.11599999666213989,
          0.04800000041723251,
          0.06199999898672104,
          0.06499999761581421,
          -0.017000000923871994,
          0.04699999839067459,
          0.03700000047683716,
          0.04500000178813934,
          0.10000000149011612,
          2.4089999198913574
         ],
         "xaxis": "x",
         "y": [
          "intercept",
          "temp_last_1 = 1306.0",
          "WODA CHŁODZĄCA DO KOLEKTOR KZ7 m3/h = 109.2",
          "REG NADAWY KONCENTRATU LIW2 Mg/h_avg_00-15 = 59.89",
          "WODA CHŁODZĄCA DO KOLEKTOR KZ7 m3/h_avg_00-15 = 109.3",
          "REG NADAWY KONCENTRATU LIW2 Mg/h_avg_15-30 = 59.93",
          "WODA CHŁODZĄCA DO KOLEKTOR KZ10 m3/h = 111.0",
          "WENT.  RF01  ODCZ_ZAD OBROTÓW % = 92.14",
          "temp_last_2 = 1305.0",
          "WODA CHŁODZĄCA DO KOLEKTOR KZ10 m3/h_avg_00-15 = 111.1",
          "REG NADAWY KONCENTRATU LIW2 Mg/h = 59.99",
          "+ all other factors",
          "prediction"
         ],
         "yaxis": "y"
        }
       ],
       "layout": {
        "annotations": [
         {
          "font": {
           "size": 16
          },
          "showarrow": false,
          "text": "XGBRegressor",
          "x": 0.5,
          "xanchor": "center",
          "xref": "paper",
          "y": 1,
          "yanchor": "bottom",
          "yref": "paper"
         },
         {
          "font": {
           "size": 16
          },
          "showarrow": false,
          "text": "contribution",
          "x": 0.5,
          "xanchor": "center",
          "xref": "paper",
          "y": 0,
          "yanchor": "top",
          "yref": "paper",
          "yshift": -30
         }
        ],
        "font": {
         "color": "#371ea3"
        },
        "height": 413,
        "margin": {
         "b": 71,
         "r": 30,
         "t": 78
        },
        "shapes": [
         {
          "line": {
           "color": "#371ea3",
           "dash": "dot",
           "width": 1.5
          },
          "type": "line",
          "x0": 1303.722412109375,
          "x1": 1303.722412109375,
          "xref": "x",
          "y0": -1,
          "y1": 13,
          "yref": "y"
         }
        ],
        "template": {
         "data": {
          "scatter": [
           {
            "type": "scatter"
           }
          ]
         }
        },
        "title": {
         "text": "Break Down",
         "x": 0.15
        },
        "xaxis": {
         "anchor": "y",
         "automargin": true,
         "domain": [
          0,
          1
         ],
         "fixedrange": true,
         "gridwidth": 2,
         "range": [
          1303.3605590820312,
          1306.4934448242188
         ],
         "tickcolor": "white",
         "ticklen": 3,
         "ticks": "outside",
         "type": "linear",
         "zeroline": false
        },
        "yaxis": {
         "anchor": "x",
         "automargin": true,
         "autorange": "reversed",
         "domain": [
          0,
          1
         ],
         "fixedrange": true,
         "gridwidth": 2,
         "tickcolor": "white",
         "ticklen": 10,
         "ticks": "outside",
         "type": "category"
        }
       }
      }
     },
     "metadata": {},
     "output_type": "display_data"
    },
    {
     "data": {
      "application/vnd.plotly.v1+json": {
       "config": {
        "displaylogo": false,
        "modeBarButtonsToRemove": [
         "sendDataToCloud",
         "lasso2d",
         "autoScale2d",
         "select2d",
         "zoom2d",
         "pan2d",
         "zoomIn2d",
         "zoomOut2d",
         "resetScale2d",
         "toggleSpikelines",
         "hoverCompareCartesian",
         "hoverClosestCartesian"
        ],
        "plotlyServerURL": "https://plot.ly",
        "staticPlot": false,
        "toImageButtonOptions": {
         "height": null,
         "width": null
        }
       },
       "data": [
        {
         "base": 1303.722412109375,
         "connector": {
          "line": {
           "color": "#371ea3",
           "dash": "solid",
           "width": 1
          },
          "mode": "spanning"
         },
         "decreasing": {
          "marker": {
           "color": "#f05a71"
          }
         },
         "hoverinfo": "text+delta",
         "hoverlabel": {
          "bgcolor": "rgba(0,0,0,0.8)"
         },
         "hovertext": [
          "Average response: 1303.722<br>Prediction: 1302.607",
          "SUMARYCZNA MOC CIEPLNA ODEBRANA - CAŁKOWITA MW = 15.61<br>increases average response by",
          "temp_last_3 = 1310.0<br>increases average response by",
          "WODA CHŁODZĄCA DO KOLEKTOR KZ15 m3/h_avg_15-30 = 103.0<br>increases average response by",
          "WODA CHŁODZĄCA DO KOLEKTOR KZ8 m3/h_avg_00-15 = 101.8<br>increases average response by",
          "WENT.  RF01  ODCZ_ZAD OBROTÓW % = 97.18<br>increases average response by",
          "TEMP.1 POD 2 WARSTWĄ WYMURÓWKI °C = 381.6<br>decreases average response by",
          "temp_last_2 = 1304.0<br>increases average response by",
          "WODA CHŁODZĄCA DO KOLEKTOR KZ15 m3/h_avg_30-45 = 103.0<br>increases average response by",
          "WODA CHŁODZĄCA DO KOLEKTOR KZ15 m3/h_avg_45-60 = 103.0<br>increases average response by",
          "SUMARYCZNA MOC CIEPLNA ODEBRANA - CAŁKOWITA MW_avg_00-15 = 15.71<br>decreases average response by",
          "+ all other factors<br>decreases average response by",
          "Average response: 1303.722<br>Prediction: 1302.607"
         ],
         "increasing": {
          "marker": {
           "color": "#8bdcbe"
          }
         },
         "measure": [
          "relative",
          "relative",
          "relative",
          "relative",
          "relative",
          "relative",
          "relative",
          "relative",
          "relative",
          "relative",
          "relative",
          "relative",
          "total"
         ],
         "orientation": "h",
         "showlegend": false,
         "text": [
          "1303.722",
          "+0.573",
          "+0.052",
          "+0.131",
          "+0.038",
          "+0.023",
          "-0.04",
          "+0.019",
          "+0.041",
          "+0.015",
          "-0.068",
          "-1.897",
          "1302.607"
         ],
         "textposition": "outside",
         "totals": {
          "marker": {
           "color": "#371ea3"
          }
         },
         "type": "waterfall",
         "x": [
          0,
          0.5730000138282776,
          0.052000001072883606,
          0.13099999725818634,
          0.03799999877810478,
          0.023000000044703484,
          -0.03999999910593033,
          0.01899999938905239,
          0.04100000113248825,
          0.014999999664723873,
          -0.06800000369548798,
          -1.8969999551773071,
          -1.1150000095367432
         ],
         "xaxis": "x",
         "y": [
          "intercept",
          "SUMARYCZNA MOC CIEPLNA ODEBRANA - CAŁKOWITA MW = 15.61",
          "temp_last_3 = 1310.0",
          "WODA CHŁODZĄCA DO KOLEKTOR KZ15 m3/h_avg_15-30 = 103.0",
          "WODA CHŁODZĄCA DO KOLEKTOR KZ8 m3/h_avg_00-15 = 101.8",
          "WENT.  RF01  ODCZ_ZAD OBROTÓW % = 97.18",
          "TEMP.1 POD 2 WARSTWĄ WYMURÓWKI °C = 381.6",
          "temp_last_2 = 1304.0",
          "WODA CHŁODZĄCA DO KOLEKTOR KZ15 m3/h_avg_30-45 = 103.0",
          "WODA CHŁODZĄCA DO KOLEKTOR KZ15 m3/h_avg_45-60 = 103.0",
          "SUMARYCZNA MOC CIEPLNA ODEBRANA - CAŁKOWITA MW_avg_00-15 = 15.71",
          "+ all other factors",
          "prediction"
         ],
         "yaxis": "y"
        }
       ],
       "layout": {
        "annotations": [
         {
          "font": {
           "size": 16
          },
          "showarrow": false,
          "text": "XGBRegressor",
          "x": 0.5,
          "xanchor": "center",
          "xref": "paper",
          "y": 1,
          "yanchor": "bottom",
          "yref": "paper"
         },
         {
          "font": {
           "size": 16
          },
          "showarrow": false,
          "text": "contribution",
          "x": 0.5,
          "xanchor": "center",
          "xref": "paper",
          "y": 0,
          "yanchor": "top",
          "yref": "paper",
          "yshift": -30
         }
        ],
        "font": {
         "color": "#371ea3"
        },
        "height": 413,
        "margin": {
         "b": 71,
         "r": 30,
         "t": 78
        },
        "shapes": [
         {
          "line": {
           "color": "#371ea3",
           "dash": "dot",
           "width": 1.5
          },
          "type": "line",
          "x0": 1303.722412109375,
          "x1": 1303.722412109375,
          "xref": "x",
          "y0": -1,
          "y1": 13,
          "yref": "y"
         }
        ],
        "template": {
         "data": {
          "scatter": [
           {
            "type": "scatter"
           }
          ]
         }
        },
        "title": {
         "text": "Break Down",
         "x": 0.15
        },
        "xaxis": {
         "anchor": "y",
         "automargin": true,
         "domain": [
          0,
          1
         ],
         "fixedrange": true,
         "gridwidth": 2,
         "range": [
          1302.3120178222657,
          1304.8690124511718
         ],
         "tickcolor": "white",
         "ticklen": 3,
         "ticks": "outside",
         "type": "linear",
         "zeroline": false
        },
        "yaxis": {
         "anchor": "x",
         "automargin": true,
         "autorange": "reversed",
         "domain": [
          0,
          1
         ],
         "fixedrange": true,
         "gridwidth": 2,
         "tickcolor": "white",
         "ticklen": 10,
         "ticks": "outside",
         "type": "category"
        }
       }
      }
     },
     "metadata": {},
     "output_type": "display_data"
    },
    {
     "data": {
      "application/vnd.plotly.v1+json": {
       "config": {
        "displaylogo": false,
        "modeBarButtonsToRemove": [
         "sendDataToCloud",
         "lasso2d",
         "autoScale2d",
         "select2d",
         "zoom2d",
         "pan2d",
         "zoomIn2d",
         "zoomOut2d",
         "resetScale2d",
         "toggleSpikelines",
         "hoverCompareCartesian",
         "hoverClosestCartesian"
        ],
        "plotlyServerURL": "https://plot.ly",
        "staticPlot": false,
        "toImageButtonOptions": {
         "height": null,
         "width": null
        }
       },
       "data": [
        {
         "base": 1303.722412109375,
         "connector": {
          "line": {
           "color": "#371ea3",
           "dash": "solid",
           "width": 1
          },
          "mode": "spanning"
         },
         "decreasing": {
          "marker": {
           "color": "#f05a71"
          }
         },
         "hoverinfo": "text+delta",
         "hoverlabel": {
          "bgcolor": "rgba(0,0,0,0.8)"
         },
         "hovertext": [
          "Average response: 1303.722<br>Prediction: 1309.331",
          "temp_last_1 = 1312.0<br>increases average response by",
          "SUMARYCZNA MOC CIEPLNA ODEBRANA - CAŁKOWITA MW = 17.33<br>increases average response by",
          "WODA CHŁODZĄCA DO KOLEKTOR KZ11 m3/h_avg_00-15 = 112.1<br>increases average response by",
          "WODA CHŁODZĄCA DO KOLEKTOR KZ15 m3/h_avg_45-60 = 112.0<br>increases average response by",
          "WODA CHŁODZĄCA DO KOLEKTOR KZ12 m3/h_avg_00-15 = 113.8<br>increases average response by",
          "temp_last_3 = 1312.0<br>increases average response by",
          "WODA CHŁODZĄCA DO KOLEKTOR KZ9 m3/h_avg_45-60 = 112.4<br>decreases average response by",
          "WODA CHŁODZĄCA DO KOLEKTOR KZ10 m3/h = 112.6<br>decreases average response by",
          "WODA CHŁODZĄCA DO KOLEKTOR KZ15 m3/h_avg_00-15 = 112.0<br>increases average response by",
          "WODA CHŁODZĄCA DO KOLEKTOR KZ10 m3/h_avg_00-15 = 112.6<br>increases average response by",
          "+ all other factors<br>decreases average response by",
          "Average response: 1303.722<br>Prediction: 1309.331"
         ],
         "increasing": {
          "marker": {
           "color": "#8bdcbe"
          }
         },
         "measure": [
          "relative",
          "relative",
          "relative",
          "relative",
          "relative",
          "relative",
          "relative",
          "relative",
          "relative",
          "relative",
          "relative",
          "relative",
          "total"
         ],
         "orientation": "h",
         "showlegend": false,
         "text": [
          "1303.722",
          "+5.417",
          "+0.204",
          "+0.126",
          "+0.263",
          "+0.107",
          "+0.123",
          "-0.074",
          "-0.0",
          "+0.039",
          "+0.085",
          "-0.683",
          "1309.331"
         ],
         "textposition": "outside",
         "totals": {
          "marker": {
           "color": "#371ea3"
          }
         },
         "type": "waterfall",
         "x": [
          0,
          5.416999816894531,
          0.20399999618530273,
          0.12600000202655792,
          0.2630000114440918,
          0.10700000077486038,
          0.12300000339746475,
          -0.07400000095367432,
          0,
          0.039000000804662704,
          0.08500000089406967,
          -0.6830000281333923,
          5.609000205993652
         ],
         "xaxis": "x",
         "y": [
          "intercept",
          "temp_last_1 = 1312.0",
          "SUMARYCZNA MOC CIEPLNA ODEBRANA - CAŁKOWITA MW = 17.33",
          "WODA CHŁODZĄCA DO KOLEKTOR KZ11 m3/h_avg_00-15 = 112.1",
          "WODA CHŁODZĄCA DO KOLEKTOR KZ15 m3/h_avg_45-60 = 112.0",
          "WODA CHŁODZĄCA DO KOLEKTOR KZ12 m3/h_avg_00-15 = 113.8",
          "temp_last_3 = 1312.0",
          "WODA CHŁODZĄCA DO KOLEKTOR KZ9 m3/h_avg_45-60 = 112.4",
          "WODA CHŁODZĄCA DO KOLEKTOR KZ10 m3/h = 112.6",
          "WODA CHŁODZĄCA DO KOLEKTOR KZ15 m3/h_avg_00-15 = 112.0",
          "WODA CHŁODZĄCA DO KOLEKTOR KZ10 m3/h_avg_00-15 = 112.6",
          "+ all other factors",
          "prediction"
         ],
         "yaxis": "y"
        }
       ],
       "layout": {
        "annotations": [
         {
          "font": {
           "size": 16
          },
          "showarrow": false,
          "text": "XGBRegressor",
          "x": 0.5,
          "xanchor": "center",
          "xref": "paper",
          "y": 1,
          "yanchor": "bottom",
          "yref": "paper"
         },
         {
          "font": {
           "size": 16
          },
          "showarrow": false,
          "text": "contribution",
          "x": 0.5,
          "xanchor": "center",
          "xref": "paper",
          "y": 0,
          "yanchor": "top",
          "yref": "paper",
          "yshift": -30
         }
        ],
        "font": {
         "color": "#371ea3"
        },
        "height": 413,
        "margin": {
         "b": 71,
         "r": 30,
         "t": 78
        },
        "shapes": [
         {
          "line": {
           "color": "#371ea3",
           "dash": "dot",
           "width": 1.5
          },
          "type": "line",
          "x0": 1303.722412109375,
          "x1": 1303.722412109375,
          "xref": "x",
          "y0": -1,
          "y1": 13,
          "yref": "y"
         }
        ],
        "template": {
         "data": {
          "scatter": [
           {
            "type": "scatter"
           }
          ]
         }
        },
        "title": {
         "text": "Break Down",
         "x": 0.15
        },
        "xaxis": {
         "anchor": "y",
         "automargin": true,
         "domain": [
          0,
          1
         ],
         "fixedrange": true,
         "gridwidth": 2,
         "range": [
          1302.7784118652344,
          1310.9565734863281
         ],
         "tickcolor": "white",
         "ticklen": 3,
         "ticks": "outside",
         "type": "linear",
         "zeroline": false
        },
        "yaxis": {
         "anchor": "x",
         "automargin": true,
         "autorange": "reversed",
         "domain": [
          0,
          1
         ],
         "fixedrange": true,
         "gridwidth": 2,
         "tickcolor": "white",
         "ticklen": 10,
         "ticks": "outside",
         "type": "category"
        }
       }
      }
     },
     "metadata": {},
     "output_type": "display_data"
    },
    {
     "data": {
      "application/vnd.plotly.v1+json": {
       "config": {
        "displaylogo": false,
        "modeBarButtonsToRemove": [
         "sendDataToCloud",
         "lasso2d",
         "autoScale2d",
         "select2d",
         "zoom2d",
         "pan2d",
         "zoomIn2d",
         "zoomOut2d",
         "resetScale2d",
         "toggleSpikelines",
         "hoverCompareCartesian",
         "hoverClosestCartesian"
        ],
        "plotlyServerURL": "https://plot.ly",
        "staticPlot": false,
        "toImageButtonOptions": {
         "height": null,
         "width": null
        }
       },
       "data": [
        {
         "base": 1303.722412109375,
         "connector": {
          "line": {
           "color": "#371ea3",
           "dash": "solid",
           "width": 1
          },
          "mode": "spanning"
         },
         "decreasing": {
          "marker": {
           "color": "#f05a71"
          }
         },
         "hoverinfo": "text+delta",
         "hoverlabel": {
          "bgcolor": "rgba(0,0,0,0.8)"
         },
         "hovertext": [
          "Average response: 1303.722<br>Prediction: 1311.702",
          "temp_last_1 = 1314.0<br>increases average response by",
          "SUMARYCZNA MOC CIEPLNA ODEBRANA - CAŁKOWITA MW = 17.51<br>increases average response by",
          "TEMP.6 POD 2 WARSTWĄ WYMURÓWKI °C = 396.4<br>increases average response by",
          "temp_last_3 = 1315.0<br>increases average response by",
          "REG NADAWY KONCENTRATU LIW2 Mg/h_avg_15-30 = 57.9<br>increases average response by",
          "temp_last_2 = 1315.0<br>increases average response by",
          "WODA CHŁODZĄCA DO KOLEKTOR KZ15 m3/h_avg_15-30 = 103.6<br>increases average response by",
          "WODA CHŁODZĄCA DO KOLEKTOR KZ8 m3/h_avg_00-15 = 102.0<br>increases average response by",
          "REG NADAWY KONCENTRATU LIW2 Mg/h_avg_00-15 = 57.85<br>increases average response by",
          "REG NADAWY KONCENTRATU LIW2 Mg/h = 57.74<br>increases average response by",
          "+ all other factors<br>decreases average response by",
          "Average response: 1303.722<br>Prediction: 1311.702"
         ],
         "increasing": {
          "marker": {
           "color": "#8bdcbe"
          }
         },
         "measure": [
          "relative",
          "relative",
          "relative",
          "relative",
          "relative",
          "relative",
          "relative",
          "relative",
          "relative",
          "relative",
          "relative",
          "relative",
          "total"
         ],
         "orientation": "h",
         "showlegend": false,
         "text": [
          "1303.722",
          "+6.816",
          "+0.166",
          "+0.129",
          "+0.32",
          "+0.117",
          "+0.264",
          "+0.076",
          "+0.042",
          "+0.049",
          "+0.045",
          "-0.045",
          "1311.702"
         ],
         "textposition": "outside",
         "totals": {
          "marker": {
           "color": "#371ea3"
          }
         },
         "type": "waterfall",
         "x": [
          0,
          6.815999984741211,
          0.16599999368190765,
          0.1289999932050705,
          0.3199999928474426,
          0.11699999868869781,
          0.2639999985694885,
          0.07599999755620956,
          0.041999999433755875,
          0.04899999871850014,
          0.04500000178813934,
          -0.04500000178813934,
          7.979000091552734
         ],
         "xaxis": "x",
         "y": [
          "intercept",
          "temp_last_1 = 1314.0",
          "SUMARYCZNA MOC CIEPLNA ODEBRANA - CAŁKOWITA MW = 17.51",
          "TEMP.6 POD 2 WARSTWĄ WYMURÓWKI °C = 396.4",
          "temp_last_3 = 1315.0",
          "REG NADAWY KONCENTRATU LIW2 Mg/h_avg_15-30 = 57.9",
          "temp_last_2 = 1315.0",
          "WODA CHŁODZĄCA DO KOLEKTOR KZ15 m3/h_avg_15-30 = 103.6",
          "WODA CHŁODZĄCA DO KOLEKTOR KZ8 m3/h_avg_00-15 = 102.0",
          "REG NADAWY KONCENTRATU LIW2 Mg/h_avg_00-15 = 57.85",
          "REG NADAWY KONCENTRATU LIW2 Mg/h = 57.74",
          "+ all other factors",
          "prediction"
         ],
         "yaxis": "y"
        }
       ],
       "layout": {
        "annotations": [
         {
          "font": {
           "size": 16
          },
          "showarrow": false,
          "text": "XGBRegressor",
          "x": 0.5,
          "xanchor": "center",
          "xref": "paper",
          "y": 1,
          "yanchor": "bottom",
          "yref": "paper"
         },
         {
          "font": {
           "size": 16
          },
          "showarrow": false,
          "text": "contribution",
          "x": 0.5,
          "xanchor": "center",
          "xref": "paper",
          "y": 0,
          "yanchor": "top",
          "yref": "paper",
          "yshift": -30
         }
        ],
        "font": {
         "color": "#371ea3"
        },
        "height": 413,
        "margin": {
         "b": 71,
         "r": 30,
         "t": 78
        },
        "shapes": [
         {
          "line": {
           "color": "#371ea3",
           "dash": "dot",
           "width": 1.5
          },
          "type": "line",
          "x0": 1303.722412109375,
          "x1": 1303.722412109375,
          "xref": "x",
          "y0": -1,
          "y1": 13,
          "yref": "y"
         }
        ],
        "template": {
         "data": {
          "scatter": [
           {
            "type": "scatter"
           }
          ]
         }
        },
        "title": {
         "text": "Break Down",
         "x": 0.15
        },
        "xaxis": {
         "anchor": "y",
         "automargin": true,
         "domain": [
          0,
          1
         ],
         "fixedrange": true,
         "gridwidth": 2,
         "range": [
          1302.518310546875,
          1312.95068359375
         ],
         "tickcolor": "white",
         "ticklen": 3,
         "ticks": "outside",
         "type": "linear",
         "zeroline": false
        },
        "yaxis": {
         "anchor": "x",
         "automargin": true,
         "autorange": "reversed",
         "domain": [
          0,
          1
         ],
         "fixedrange": true,
         "gridwidth": 2,
         "tickcolor": "white",
         "ticklen": 10,
         "ticks": "outside",
         "type": "category"
        }
       }
      }
     },
     "metadata": {},
     "output_type": "display_data"
    },
    {
     "data": {
      "application/vnd.plotly.v1+json": {
       "config": {
        "displaylogo": false,
        "modeBarButtonsToRemove": [
         "sendDataToCloud",
         "lasso2d",
         "autoScale2d",
         "select2d",
         "zoom2d",
         "pan2d",
         "zoomIn2d",
         "zoomOut2d",
         "resetScale2d",
         "toggleSpikelines",
         "hoverCompareCartesian",
         "hoverClosestCartesian"
        ],
        "plotlyServerURL": "https://plot.ly",
        "staticPlot": false,
        "toImageButtonOptions": {
         "height": null,
         "width": null
        }
       },
       "data": [
        {
         "base": 1303.722412109375,
         "connector": {
          "line": {
           "color": "#371ea3",
           "dash": "solid",
           "width": 1
          },
          "mode": "spanning"
         },
         "decreasing": {
          "marker": {
           "color": "#f05a71"
          }
         },
         "hoverinfo": "text+delta",
         "hoverlabel": {
          "bgcolor": "rgba(0,0,0,0.8)"
         },
         "hovertext": [
          "Average response: 1303.722<br>Prediction: 1306.468",
          "temp_last_1 = 1308.0<br>increases average response by",
          "REG NADAWY KONCENTRATU LIW2 Mg/h_avg_00-15 = 59.88<br>increases average response by",
          "REG NADAWY KONCENTRATU LIW2 Mg/h_avg_15-30 = 59.9<br>increases average response by",
          "WODA CHŁODZĄCA DO KOLEKTOR KZ15 m3/h_avg_15-30 = 106.7<br>increases average response by",
          "temp_last_3 = 1306.0<br>increases average response by",
          "TEMP.13 POD 2 WARSTWĄ WYMURÓWKI °C = 467.4<br>increases average response by",
          "REG NADAWY KONCENTRATU LIW1 Mg/h_avg_00-15 = 59.97<br>increases average response by",
          "REG NADAWY KONCENTRATU LIW2 Mg/h = 59.99<br>increases average response by",
          "temp_last_2 = 1304.0<br>increases average response by",
          "WODA CHŁODZĄCA DO KOLEKTOR KZ10 m3/h = 107.4<br>increases average response by",
          "+ all other factors<br>decreases average response by",
          "Average response: 1303.722<br>Prediction: 1306.468"
         ],
         "increasing": {
          "marker": {
           "color": "#8bdcbe"
          }
         },
         "measure": [
          "relative",
          "relative",
          "relative",
          "relative",
          "relative",
          "relative",
          "relative",
          "relative",
          "relative",
          "relative",
          "relative",
          "relative",
          "total"
         ],
         "orientation": "h",
         "showlegend": false,
         "text": [
          "1303.722",
          "+3.156",
          "+0.107",
          "+0.074",
          "+0.069",
          "+0.079",
          "+0.046",
          "+0.04",
          "+0.034",
          "+0.03",
          "+0.012",
          "-0.901",
          "1306.468"
         ],
         "textposition": "outside",
         "totals": {
          "marker": {
           "color": "#371ea3"
          }
         },
         "type": "waterfall",
         "x": [
          0,
          3.1559998989105225,
          0.10700000077486038,
          0.07400000095367432,
          0.0689999982714653,
          0.07900000363588333,
          0.04600000008940697,
          0.03999999910593033,
          0.03400000184774399,
          0.029999999329447746,
          0.012000000104308128,
          -0.9010000228881836,
          2.746000051498413
         ],
         "xaxis": "x",
         "y": [
          "intercept",
          "temp_last_1 = 1308.0",
          "REG NADAWY KONCENTRATU LIW2 Mg/h_avg_00-15 = 59.88",
          "REG NADAWY KONCENTRATU LIW2 Mg/h_avg_15-30 = 59.9",
          "WODA CHŁODZĄCA DO KOLEKTOR KZ15 m3/h_avg_15-30 = 106.7",
          "temp_last_3 = 1306.0",
          "TEMP.13 POD 2 WARSTWĄ WYMURÓWKI °C = 467.4",
          "REG NADAWY KONCENTRATU LIW1 Mg/h_avg_00-15 = 59.97",
          "REG NADAWY KONCENTRATU LIW2 Mg/h = 59.99",
          "temp_last_2 = 1304.0",
          "WODA CHŁODZĄCA DO KOLEKTOR KZ10 m3/h = 107.4",
          "+ all other factors",
          "prediction"
         ],
         "yaxis": "y"
        }
       ],
       "layout": {
        "annotations": [
         {
          "font": {
           "size": 16
          },
          "showarrow": false,
          "text": "XGBRegressor",
          "x": 0.5,
          "xanchor": "center",
          "xref": "paper",
          "y": 1,
          "yanchor": "bottom",
          "yref": "paper"
         },
         {
          "font": {
           "size": 16
          },
          "showarrow": false,
          "text": "contribution",
          "x": 0.5,
          "xanchor": "center",
          "xref": "paper",
          "y": 0,
          "yanchor": "top",
          "yref": "paper",
          "yshift": -30
         }
        ],
        "font": {
         "color": "#371ea3"
        },
        "height": 413,
        "margin": {
         "b": 71,
         "r": 30,
         "t": 78
        },
        "shapes": [
         {
          "line": {
           "color": "#371ea3",
           "dash": "dot",
           "width": 1.5
          },
          "type": "line",
          "x0": 1303.722412109375,
          "x1": 1303.722412109375,
          "xref": "x",
          "y0": -1,
          "y1": 13,
          "yref": "y"
         }
        ],
        "template": {
         "data": {
          "scatter": [
           {
            "type": "scatter"
           }
          ]
         }
        },
        "title": {
         "text": "Break Down",
         "x": 0.15
        },
        "xaxis": {
         "anchor": "y",
         "automargin": true,
         "domain": [
          0,
          1
         ],
         "fixedrange": true,
         "gridwidth": 2,
         "range": [
          1303.174853515625,
          1307.9171875
         ],
         "tickcolor": "white",
         "ticklen": 3,
         "ticks": "outside",
         "type": "linear",
         "zeroline": false
        },
        "yaxis": {
         "anchor": "x",
         "automargin": true,
         "autorange": "reversed",
         "domain": [
          0,
          1
         ],
         "fixedrange": true,
         "gridwidth": 2,
         "tickcolor": "white",
         "ticklen": 10,
         "ticks": "outside",
         "type": "category"
        }
       }
      }
     },
     "metadata": {},
     "output_type": "display_data"
    }
   ],
   "source": [
    "for i in range(5):\n",
    "    break_down = explainer.predict_parts(df[df.index.minute == 0].sample().drop(columns=['temp_zuz']), type='break_down')\n",
    "    break_down.plot()"
   ]
  },
  {
   "cell_type": "code",
   "execution_count": null,
   "metadata": {},
   "outputs": [],
   "source": [
    "shap = explainer.predict_parts(df[df.index.minute == 0].sample().drop(columns=['temp_zuz']), type='shap')\n",
    "shap.plot()"
   ]
  }
 ],
 "metadata": {
  "interpreter": {
   "hash": "2bbb540255468386325b4206726795d516400b965540705b79d9ea24d0bda07d"
  },
  "kernelspec": {
   "display_name": "Python 3.8.8",
   "language": "python",
   "name": "python3"
  },
  "language_info": {
   "codemirror_mode": {
    "name": "ipython",
    "version": 3
   },
   "file_extension": ".py",
   "mimetype": "text/x-python",
   "name": "python",
   "nbconvert_exporter": "python",
   "pygments_lexer": "ipython3",
   "version": "3.8.8"
  },
  "orig_nbformat": 4
 },
 "nbformat": 4,
 "nbformat_minor": 2
}
